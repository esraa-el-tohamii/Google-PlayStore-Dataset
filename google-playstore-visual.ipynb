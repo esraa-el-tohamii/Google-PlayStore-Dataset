{
 "cells": [
  {
   "cell_type": "code",
   "execution_count": 2,
   "id": "dc272fd9",
   "metadata": {
    "_cell_guid": "b1076dfc-b9ad-4769-8c92-a6c4dae69d19",
    "_uuid": "8f2839f25d086af736a60e9eeb907d3b93b6e0e5",
    "execution": {
     "iopub.execute_input": "2025-03-08T15:01:25.194046Z",
     "iopub.status.busy": "2025-03-08T15:01:25.193700Z",
     "iopub.status.idle": "2025-03-08T15:01:28.043394Z",
     "shell.execute_reply": "2025-03-08T15:01:28.042060Z"
    },
    "papermill": {
     "duration": 2.868444,
     "end_time": "2025-03-08T15:01:28.044976",
     "exception": false,
     "start_time": "2025-03-08T15:01:25.176532",
     "status": "completed"
    },
    "tags": []
   },
   "outputs": [],
   "source": [
    "import numpy as np \n",
    "import pandas as pd \n",
    "import matplotlib.pyplot as plt\n",
    "import seaborn as sns"
   ]
  },
  {
   "cell_type": "markdown",
   "id": "d5f3b567",
   "metadata": {
    "papermill": {
     "duration": 0.015517,
     "end_time": "2025-03-08T15:01:28.076262",
     "exception": false,
     "start_time": "2025-03-08T15:01:28.060745",
     "status": "completed"
    },
    "tags": []
   },
   "source": [
    "# Exploring Data"
   ]
  },
  {
   "cell_type": "code",
   "execution_count": 3,
   "id": "3278e390",
   "metadata": {
    "execution": {
     "iopub.execute_input": "2025-03-08T15:01:28.108172Z",
     "iopub.status.busy": "2025-03-08T15:01:28.107643Z",
     "iopub.status.idle": "2025-03-08T15:01:28.213845Z",
     "shell.execute_reply": "2025-03-08T15:01:28.212422Z"
    },
    "papermill": {
     "duration": 0.124126,
     "end_time": "2025-03-08T15:01:28.215334",
     "exception": false,
     "start_time": "2025-03-08T15:01:28.091208",
     "status": "completed"
    },
    "tags": []
   },
   "outputs": [
    {
     "data": {
      "text/html": [
       "<div>\n",
       "<style scoped>\n",
       "    .dataframe tbody tr th:only-of-type {\n",
       "        vertical-align: middle;\n",
       "    }\n",
       "\n",
       "    .dataframe tbody tr th {\n",
       "        vertical-align: top;\n",
       "    }\n",
       "\n",
       "    .dataframe thead th {\n",
       "        text-align: right;\n",
       "    }\n",
       "</style>\n",
       "<table border=\"1\" class=\"dataframe\">\n",
       "  <thead>\n",
       "    <tr style=\"text-align: right;\">\n",
       "      <th></th>\n",
       "      <th>Unnamed: 0</th>\n",
       "      <th>App</th>\n",
       "      <th>Category</th>\n",
       "      <th>Rating</th>\n",
       "      <th>Reviews</th>\n",
       "      <th>Size</th>\n",
       "      <th>Installs</th>\n",
       "      <th>Price</th>\n",
       "      <th>Content Rating</th>\n",
       "      <th>Genres</th>\n",
       "      <th>Released</th>\n",
       "      <th>Current Ver</th>\n",
       "      <th>Android Ver</th>\n",
       "    </tr>\n",
       "  </thead>\n",
       "  <tbody>\n",
       "    <tr>\n",
       "      <th>0</th>\n",
       "      <td>0</td>\n",
       "      <td>Photo Editor &amp; Candy Camera &amp; Grid &amp; ScrapBook</td>\n",
       "      <td>ART_AND_DESIGN</td>\n",
       "      <td>4.1</td>\n",
       "      <td>159</td>\n",
       "      <td>19M</td>\n",
       "      <td>10,000+</td>\n",
       "      <td>0</td>\n",
       "      <td>Everyone</td>\n",
       "      <td>Art &amp; Design</td>\n",
       "      <td>January 7, 2018</td>\n",
       "      <td>1.0.0</td>\n",
       "      <td>4.0.3 and up</td>\n",
       "    </tr>\n",
       "    <tr>\n",
       "      <th>1</th>\n",
       "      <td>1</td>\n",
       "      <td>Coloring book moana</td>\n",
       "      <td>ART_AND_DESIGN</td>\n",
       "      <td>3.9</td>\n",
       "      <td>967</td>\n",
       "      <td>14M</td>\n",
       "      <td>500,000+</td>\n",
       "      <td>0</td>\n",
       "      <td>Everyone</td>\n",
       "      <td>Art &amp; Design;Pretend Play</td>\n",
       "      <td>January 15, 2018</td>\n",
       "      <td>2.0.0</td>\n",
       "      <td>4.0.3 and up</td>\n",
       "    </tr>\n",
       "    <tr>\n",
       "      <th>2</th>\n",
       "      <td>2</td>\n",
       "      <td>U Launcher Lite – FREE Live Cool Themes, Hide ...</td>\n",
       "      <td>ART_AND_DESIGN</td>\n",
       "      <td>4.7</td>\n",
       "      <td>87510</td>\n",
       "      <td>8.7M</td>\n",
       "      <td>5,000,000+</td>\n",
       "      <td>0</td>\n",
       "      <td>Everyone</td>\n",
       "      <td>Art &amp; Design</td>\n",
       "      <td>Aughust 1, 2018</td>\n",
       "      <td>1.2.4</td>\n",
       "      <td>4.0.3 and up</td>\n",
       "    </tr>\n",
       "    <tr>\n",
       "      <th>3</th>\n",
       "      <td>3</td>\n",
       "      <td>Sketch - Draw &amp; Paint</td>\n",
       "      <td>ART_AND_DESIGN</td>\n",
       "      <td>4.5</td>\n",
       "      <td>215644</td>\n",
       "      <td>25M</td>\n",
       "      <td>50,000,000+</td>\n",
       "      <td>0</td>\n",
       "      <td>Teen</td>\n",
       "      <td>Art &amp; Design</td>\n",
       "      <td>June 8, 2018</td>\n",
       "      <td>Varies with device</td>\n",
       "      <td>4.2 and up</td>\n",
       "    </tr>\n",
       "    <tr>\n",
       "      <th>4</th>\n",
       "      <td>4</td>\n",
       "      <td>Pixel Draw - Number Art Coloring Book</td>\n",
       "      <td>ART_AND_DESIGN</td>\n",
       "      <td>4.3</td>\n",
       "      <td>967</td>\n",
       "      <td>2.8M</td>\n",
       "      <td>100,000+</td>\n",
       "      <td>0</td>\n",
       "      <td>Everyone</td>\n",
       "      <td>Art &amp; Design;Creativity</td>\n",
       "      <td>June 20, 2018</td>\n",
       "      <td>1.1</td>\n",
       "      <td>4.4 and up</td>\n",
       "    </tr>\n",
       "  </tbody>\n",
       "</table>\n",
       "</div>"
      ],
      "text/plain": [
       "   Unnamed: 0                                                App  \\\n",
       "0           0     Photo Editor & Candy Camera & Grid & ScrapBook   \n",
       "1           1                                Coloring book moana   \n",
       "2           2  U Launcher Lite – FREE Live Cool Themes, Hide ...   \n",
       "3           3                              Sketch - Draw & Paint   \n",
       "4           4              Pixel Draw - Number Art Coloring Book   \n",
       "\n",
       "         Category  Rating Reviews  Size     Installs Price Content Rating  \\\n",
       "0  ART_AND_DESIGN     4.1     159   19M      10,000+     0       Everyone   \n",
       "1  ART_AND_DESIGN     3.9     967   14M     500,000+     0       Everyone   \n",
       "2  ART_AND_DESIGN     4.7   87510  8.7M   5,000,000+     0       Everyone   \n",
       "3  ART_AND_DESIGN     4.5  215644   25M  50,000,000+     0           Teen   \n",
       "4  ART_AND_DESIGN     4.3     967  2.8M     100,000+     0       Everyone   \n",
       "\n",
       "                      Genres          Released         Current Ver  \\\n",
       "0               Art & Design   January 7, 2018               1.0.0   \n",
       "1  Art & Design;Pretend Play  January 15, 2018               2.0.0   \n",
       "2               Art & Design   Aughust 1, 2018               1.2.4   \n",
       "3               Art & Design      June 8, 2018  Varies with device   \n",
       "4    Art & Design;Creativity     June 20, 2018                 1.1   \n",
       "\n",
       "    Android Ver  \n",
       "0  4.0.3 and up  \n",
       "1  4.0.3 and up  \n",
       "2  4.0.3 and up  \n",
       "3    4.2 and up  \n",
       "4    4.4 and up  "
      ]
     },
     "execution_count": 3,
     "metadata": {},
     "output_type": "execute_result"
    }
   ],
   "source": [
    "df=pd.read_csv('googleplaystore_updated.csv')\n",
    "df.head()"
   ]
  },
  {
   "cell_type": "code",
   "execution_count": 4,
   "id": "b30ecaee",
   "metadata": {
    "execution": {
     "iopub.execute_input": "2025-03-08T15:01:28.248628Z",
     "iopub.status.busy": "2025-03-08T15:01:28.248276Z",
     "iopub.status.idle": "2025-03-08T15:01:28.266306Z",
     "shell.execute_reply": "2025-03-08T15:01:28.264934Z"
    },
    "papermill": {
     "duration": 0.03662,
     "end_time": "2025-03-08T15:01:28.268222",
     "exception": false,
     "start_time": "2025-03-08T15:01:28.231602",
     "status": "completed"
    },
    "tags": []
   },
   "outputs": [
    {
     "data": {
      "text/html": [
       "<div>\n",
       "<style scoped>\n",
       "    .dataframe tbody tr th:only-of-type {\n",
       "        vertical-align: middle;\n",
       "    }\n",
       "\n",
       "    .dataframe tbody tr th {\n",
       "        vertical-align: top;\n",
       "    }\n",
       "\n",
       "    .dataframe thead th {\n",
       "        text-align: right;\n",
       "    }\n",
       "</style>\n",
       "<table border=\"1\" class=\"dataframe\">\n",
       "  <thead>\n",
       "    <tr style=\"text-align: right;\">\n",
       "      <th></th>\n",
       "      <th>Unnamed: 0</th>\n",
       "      <th>App</th>\n",
       "      <th>Category</th>\n",
       "      <th>Rating</th>\n",
       "      <th>Reviews</th>\n",
       "      <th>Size</th>\n",
       "      <th>Installs</th>\n",
       "      <th>Price</th>\n",
       "      <th>Content Rating</th>\n",
       "      <th>Genres</th>\n",
       "      <th>Released</th>\n",
       "      <th>Current Ver</th>\n",
       "      <th>Android Ver</th>\n",
       "    </tr>\n",
       "  </thead>\n",
       "  <tbody>\n",
       "    <tr>\n",
       "      <th>10836</th>\n",
       "      <td>10836</td>\n",
       "      <td>Sya9a Maroc - FR</td>\n",
       "      <td>FAMILY</td>\n",
       "      <td>4.5</td>\n",
       "      <td>38</td>\n",
       "      <td>53M</td>\n",
       "      <td>5,000+</td>\n",
       "      <td>0</td>\n",
       "      <td>Everyone</td>\n",
       "      <td>Education</td>\n",
       "      <td>July 25, 2017</td>\n",
       "      <td>1.48</td>\n",
       "      <td>4.1 and up</td>\n",
       "    </tr>\n",
       "    <tr>\n",
       "      <th>10837</th>\n",
       "      <td>10837</td>\n",
       "      <td>Fr. Mike Schmitz Audio Teachings</td>\n",
       "      <td>FAMILY</td>\n",
       "      <td>5.0</td>\n",
       "      <td>4</td>\n",
       "      <td>3.6M</td>\n",
       "      <td>100+</td>\n",
       "      <td>0</td>\n",
       "      <td>Everyone</td>\n",
       "      <td>Education</td>\n",
       "      <td>July 6, 2018</td>\n",
       "      <td>1.0</td>\n",
       "      <td>4.1 and up</td>\n",
       "    </tr>\n",
       "    <tr>\n",
       "      <th>10838</th>\n",
       "      <td>10838</td>\n",
       "      <td>Parkinson Exercices FR</td>\n",
       "      <td>MEDICAL</td>\n",
       "      <td>NaN</td>\n",
       "      <td>3</td>\n",
       "      <td>9.5M</td>\n",
       "      <td>1,000+</td>\n",
       "      <td>0</td>\n",
       "      <td>Everyone</td>\n",
       "      <td>Medical</td>\n",
       "      <td>January 20, 2017</td>\n",
       "      <td>1.0</td>\n",
       "      <td>2.2 and up</td>\n",
       "    </tr>\n",
       "    <tr>\n",
       "      <th>10839</th>\n",
       "      <td>10839</td>\n",
       "      <td>The SCP Foundation DB fr nn5n</td>\n",
       "      <td>BOOKS_AND_REFERENCE</td>\n",
       "      <td>4.5</td>\n",
       "      <td>114</td>\n",
       "      <td>Varies with device</td>\n",
       "      <td>1,000+</td>\n",
       "      <td>0</td>\n",
       "      <td>Mature 17+</td>\n",
       "      <td>Books &amp; Reference</td>\n",
       "      <td>January 19, 2015</td>\n",
       "      <td>Varies with device</td>\n",
       "      <td>Varies with device</td>\n",
       "    </tr>\n",
       "    <tr>\n",
       "      <th>10840</th>\n",
       "      <td>10840</td>\n",
       "      <td>iHoroscope - 2018 Daily Horoscope &amp; Astrology</td>\n",
       "      <td>LIFESTYLE</td>\n",
       "      <td>4.5</td>\n",
       "      <td>398307</td>\n",
       "      <td>19M</td>\n",
       "      <td>10,000,000+</td>\n",
       "      <td>0</td>\n",
       "      <td>Everyone</td>\n",
       "      <td>Lifestyle</td>\n",
       "      <td>July 25, 2018</td>\n",
       "      <td>Varies with device</td>\n",
       "      <td>Varies with device</td>\n",
       "    </tr>\n",
       "  </tbody>\n",
       "</table>\n",
       "</div>"
      ],
      "text/plain": [
       "       Unnamed: 0                                            App  \\\n",
       "10836       10836                               Sya9a Maroc - FR   \n",
       "10837       10837               Fr. Mike Schmitz Audio Teachings   \n",
       "10838       10838                         Parkinson Exercices FR   \n",
       "10839       10839                  The SCP Foundation DB fr nn5n   \n",
       "10840       10840  iHoroscope - 2018 Daily Horoscope & Astrology   \n",
       "\n",
       "                  Category  Rating Reviews                Size     Installs  \\\n",
       "10836               FAMILY     4.5      38                 53M       5,000+   \n",
       "10837               FAMILY     5.0       4                3.6M         100+   \n",
       "10838              MEDICAL     NaN       3                9.5M       1,000+   \n",
       "10839  BOOKS_AND_REFERENCE     4.5     114  Varies with device       1,000+   \n",
       "10840            LIFESTYLE     4.5  398307                 19M  10,000,000+   \n",
       "\n",
       "      Price Content Rating             Genres          Released  \\\n",
       "10836     0       Everyone          Education     July 25, 2017   \n",
       "10837     0       Everyone          Education      July 6, 2018   \n",
       "10838     0       Everyone            Medical  January 20, 2017   \n",
       "10839     0     Mature 17+  Books & Reference  January 19, 2015   \n",
       "10840     0       Everyone          Lifestyle     July 25, 2018   \n",
       "\n",
       "              Current Ver         Android Ver  \n",
       "10836                1.48          4.1 and up  \n",
       "10837                 1.0          4.1 and up  \n",
       "10838                 1.0          2.2 and up  \n",
       "10839  Varies with device  Varies with device  \n",
       "10840  Varies with device  Varies with device  "
      ]
     },
     "execution_count": 4,
     "metadata": {},
     "output_type": "execute_result"
    }
   ],
   "source": [
    "df.tail()"
   ]
  },
  {
   "cell_type": "code",
   "execution_count": 5,
   "id": "24e2c1a4",
   "metadata": {
    "execution": {
     "iopub.execute_input": "2025-03-08T15:01:28.302003Z",
     "iopub.status.busy": "2025-03-08T15:01:28.301582Z",
     "iopub.status.idle": "2025-03-08T15:01:28.307410Z",
     "shell.execute_reply": "2025-03-08T15:01:28.306183Z"
    },
    "papermill": {
     "duration": 0.024802,
     "end_time": "2025-03-08T15:01:28.309117",
     "exception": false,
     "start_time": "2025-03-08T15:01:28.284315",
     "status": "completed"
    },
    "tags": []
   },
   "outputs": [
    {
     "data": {
      "text/plain": [
       "(10841, 13)"
      ]
     },
     "execution_count": 5,
     "metadata": {},
     "output_type": "execute_result"
    }
   ],
   "source": [
    "df.shape"
   ]
  },
  {
   "cell_type": "code",
   "execution_count": 6,
   "id": "82363a66",
   "metadata": {
    "execution": {
     "iopub.execute_input": "2025-03-08T15:01:28.342015Z",
     "iopub.status.busy": "2025-03-08T15:01:28.341705Z",
     "iopub.status.idle": "2025-03-08T15:01:28.372982Z",
     "shell.execute_reply": "2025-03-08T15:01:28.371713Z"
    },
    "papermill": {
     "duration": 0.049398,
     "end_time": "2025-03-08T15:01:28.374667",
     "exception": false,
     "start_time": "2025-03-08T15:01:28.325269",
     "status": "completed"
    },
    "tags": []
   },
   "outputs": [
    {
     "name": "stdout",
     "output_type": "stream",
     "text": [
      "<class 'pandas.core.frame.DataFrame'>\n",
      "RangeIndex: 10841 entries, 0 to 10840\n",
      "Data columns (total 13 columns):\n",
      " #   Column          Non-Null Count  Dtype  \n",
      "---  ------          --------------  -----  \n",
      " 0   Unnamed: 0      10841 non-null  int64  \n",
      " 1   App             10841 non-null  object \n",
      " 2   Category        10841 non-null  object \n",
      " 3   Rating          9367 non-null   float64\n",
      " 4   Reviews         10841 non-null  object \n",
      " 5   Size            10841 non-null  object \n",
      " 6   Installs        10841 non-null  object \n",
      " 7   Price           10841 non-null  object \n",
      " 8   Content Rating  10840 non-null  object \n",
      " 9   Genres          10841 non-null  object \n",
      " 10  Released        10841 non-null  object \n",
      " 11  Current Ver     10833 non-null  object \n",
      " 12  Android Ver     10838 non-null  object \n",
      "dtypes: float64(1), int64(1), object(11)\n",
      "memory usage: 1.1+ MB\n"
     ]
    }
   ],
   "source": [
    "df.info()"
   ]
  },
  {
   "cell_type": "code",
   "execution_count": 7,
   "id": "902b5e32",
   "metadata": {
    "execution": {
     "iopub.execute_input": "2025-03-08T15:01:28.408654Z",
     "iopub.status.busy": "2025-03-08T15:01:28.408332Z",
     "iopub.status.idle": "2025-03-08T15:01:28.421047Z",
     "shell.execute_reply": "2025-03-08T15:01:28.419914Z"
    },
    "papermill": {
     "duration": 0.03157,
     "end_time": "2025-03-08T15:01:28.422665",
     "exception": false,
     "start_time": "2025-03-08T15:01:28.391095",
     "status": "completed"
    },
    "tags": []
   },
   "outputs": [
    {
     "data": {
      "text/plain": [
       "Unnamed: 0           0\n",
       "App                  0\n",
       "Category             0\n",
       "Rating            1474\n",
       "Reviews              0\n",
       "Size                 0\n",
       "Installs             0\n",
       "Price                0\n",
       "Content Rating       1\n",
       "Genres               0\n",
       "Released             0\n",
       "Current Ver          8\n",
       "Android Ver          3\n",
       "dtype: int64"
      ]
     },
     "execution_count": 7,
     "metadata": {},
     "output_type": "execute_result"
    }
   ],
   "source": [
    "df.isnull().sum()"
   ]
  },
  {
   "cell_type": "code",
   "execution_count": 8,
   "id": "cc20a29b",
   "metadata": {
    "execution": {
     "iopub.execute_input": "2025-03-08T15:01:28.459985Z",
     "iopub.status.busy": "2025-03-08T15:01:28.459589Z",
     "iopub.status.idle": "2025-03-08T15:01:28.479274Z",
     "shell.execute_reply": "2025-03-08T15:01:28.478006Z"
    },
    "papermill": {
     "duration": 0.040138,
     "end_time": "2025-03-08T15:01:28.481185",
     "exception": false,
     "start_time": "2025-03-08T15:01:28.441047",
     "status": "completed"
    },
    "tags": []
   },
   "outputs": [
    {
     "data": {
      "text/plain": [
       "Unnamed: 0        10841\n",
       "App                9660\n",
       "Category             34\n",
       "Rating               40\n",
       "Reviews            6002\n",
       "Size                462\n",
       "Installs             22\n",
       "Price                93\n",
       "Content Rating        6\n",
       "Genres              120\n",
       "Released           1378\n",
       "Current Ver        2832\n",
       "Android Ver          33\n",
       "dtype: int64"
      ]
     },
     "execution_count": 8,
     "metadata": {},
     "output_type": "execute_result"
    }
   ],
   "source": [
    "df.nunique()"
   ]
  },
  {
   "cell_type": "markdown",
   "id": "6549125d",
   "metadata": {
    "papermill": {
     "duration": 0.01619,
     "end_time": "2025-03-08T15:01:28.513946",
     "exception": false,
     "start_time": "2025-03-08T15:01:28.497756",
     "status": "completed"
    },
    "tags": []
   },
   "source": [
    "**As Show There is 10841 App Number but there is only 9660 App doesn't repeated**"
   ]
  },
  {
   "cell_type": "markdown",
   "id": "4d36f07c",
   "metadata": {
    "papermill": {
     "duration": 0.015596,
     "end_time": "2025-03-08T15:01:28.545767",
     "exception": false,
     "start_time": "2025-03-08T15:01:28.530171",
     "status": "completed"
    },
    "tags": []
   },
   "source": [
    "> So we need to check if we found duplicated rows"
   ]
  },
  {
   "cell_type": "code",
   "execution_count": 9,
   "id": "7ff047b6",
   "metadata": {
    "execution": {
     "iopub.execute_input": "2025-03-08T15:01:28.580179Z",
     "iopub.status.busy": "2025-03-08T15:01:28.579784Z",
     "iopub.status.idle": "2025-03-08T15:01:28.599236Z",
     "shell.execute_reply": "2025-03-08T15:01:28.597325Z"
    },
    "papermill": {
     "duration": 0.039575,
     "end_time": "2025-03-08T15:01:28.601069",
     "exception": false,
     "start_time": "2025-03-08T15:01:28.561494",
     "status": "completed"
    },
    "tags": []
   },
   "outputs": [
    {
     "data": {
      "text/plain": [
       "np.int64(0)"
      ]
     },
     "execution_count": 9,
     "metadata": {},
     "output_type": "execute_result"
    }
   ],
   "source": [
    "df.duplicated().sum()"
   ]
  },
  {
   "cell_type": "markdown",
   "id": "b671fbb2",
   "metadata": {
    "papermill": {
     "duration": 0.077918,
     "end_time": "2025-03-08T15:01:28.698054",
     "exception": false,
     "start_time": "2025-03-08T15:01:28.620136",
     "status": "completed"
    },
    "tags": []
   },
   "source": [
    "# Let's Start Cleaning"
   ]
  },
  {
   "cell_type": "markdown",
   "id": "7d27fb42",
   "metadata": {
    "papermill": {
     "duration": 0.017174,
     "end_time": "2025-03-08T15:01:28.732157",
     "exception": false,
     "start_time": "2025-03-08T15:01:28.714983",
     "status": "completed"
    },
    "tags": []
   },
   "source": [
    "**First: Handle First Column Name**"
   ]
  },
  {
   "cell_type": "code",
   "execution_count": 10,
   "id": "93cbb1a2",
   "metadata": {
    "execution": {
     "iopub.execute_input": "2025-03-08T15:01:28.766102Z",
     "iopub.status.busy": "2025-03-08T15:01:28.765774Z",
     "iopub.status.idle": "2025-03-08T15:01:28.778424Z",
     "shell.execute_reply": "2025-03-08T15:01:28.777193Z"
    },
    "papermill": {
     "duration": 0.031263,
     "end_time": "2025-03-08T15:01:28.780354",
     "exception": false,
     "start_time": "2025-03-08T15:01:28.749091",
     "status": "completed"
    },
    "tags": []
   },
   "outputs": [
    {
     "data": {
      "text/html": [
       "<div>\n",
       "<style scoped>\n",
       "    .dataframe tbody tr th:only-of-type {\n",
       "        vertical-align: middle;\n",
       "    }\n",
       "\n",
       "    .dataframe tbody tr th {\n",
       "        vertical-align: top;\n",
       "    }\n",
       "\n",
       "    .dataframe thead th {\n",
       "        text-align: right;\n",
       "    }\n",
       "</style>\n",
       "<table border=\"1\" class=\"dataframe\">\n",
       "  <thead>\n",
       "    <tr style=\"text-align: right;\">\n",
       "      <th></th>\n",
       "      <th>App Number</th>\n",
       "      <th>App</th>\n",
       "      <th>Category</th>\n",
       "      <th>Rating</th>\n",
       "      <th>Reviews</th>\n",
       "      <th>Size</th>\n",
       "      <th>Installs</th>\n",
       "      <th>Price</th>\n",
       "      <th>Content Rating</th>\n",
       "      <th>Genres</th>\n",
       "      <th>Released</th>\n",
       "      <th>Current Ver</th>\n",
       "      <th>Android Ver</th>\n",
       "    </tr>\n",
       "  </thead>\n",
       "  <tbody>\n",
       "    <tr>\n",
       "      <th>0</th>\n",
       "      <td>0</td>\n",
       "      <td>Photo Editor &amp; Candy Camera &amp; Grid &amp; ScrapBook</td>\n",
       "      <td>ART_AND_DESIGN</td>\n",
       "      <td>4.1</td>\n",
       "      <td>159</td>\n",
       "      <td>19M</td>\n",
       "      <td>10,000+</td>\n",
       "      <td>0</td>\n",
       "      <td>Everyone</td>\n",
       "      <td>Art &amp; Design</td>\n",
       "      <td>January 7, 2018</td>\n",
       "      <td>1.0.0</td>\n",
       "      <td>4.0.3 and up</td>\n",
       "    </tr>\n",
       "    <tr>\n",
       "      <th>1</th>\n",
       "      <td>1</td>\n",
       "      <td>Coloring book moana</td>\n",
       "      <td>ART_AND_DESIGN</td>\n",
       "      <td>3.9</td>\n",
       "      <td>967</td>\n",
       "      <td>14M</td>\n",
       "      <td>500,000+</td>\n",
       "      <td>0</td>\n",
       "      <td>Everyone</td>\n",
       "      <td>Art &amp; Design;Pretend Play</td>\n",
       "      <td>January 15, 2018</td>\n",
       "      <td>2.0.0</td>\n",
       "      <td>4.0.3 and up</td>\n",
       "    </tr>\n",
       "    <tr>\n",
       "      <th>2</th>\n",
       "      <td>2</td>\n",
       "      <td>U Launcher Lite – FREE Live Cool Themes, Hide ...</td>\n",
       "      <td>ART_AND_DESIGN</td>\n",
       "      <td>4.7</td>\n",
       "      <td>87510</td>\n",
       "      <td>8.7M</td>\n",
       "      <td>5,000,000+</td>\n",
       "      <td>0</td>\n",
       "      <td>Everyone</td>\n",
       "      <td>Art &amp; Design</td>\n",
       "      <td>Aughust 1, 2018</td>\n",
       "      <td>1.2.4</td>\n",
       "      <td>4.0.3 and up</td>\n",
       "    </tr>\n",
       "    <tr>\n",
       "      <th>3</th>\n",
       "      <td>3</td>\n",
       "      <td>Sketch - Draw &amp; Paint</td>\n",
       "      <td>ART_AND_DESIGN</td>\n",
       "      <td>4.5</td>\n",
       "      <td>215644</td>\n",
       "      <td>25M</td>\n",
       "      <td>50,000,000+</td>\n",
       "      <td>0</td>\n",
       "      <td>Teen</td>\n",
       "      <td>Art &amp; Design</td>\n",
       "      <td>June 8, 2018</td>\n",
       "      <td>Varies with device</td>\n",
       "      <td>4.2 and up</td>\n",
       "    </tr>\n",
       "    <tr>\n",
       "      <th>4</th>\n",
       "      <td>4</td>\n",
       "      <td>Pixel Draw - Number Art Coloring Book</td>\n",
       "      <td>ART_AND_DESIGN</td>\n",
       "      <td>4.3</td>\n",
       "      <td>967</td>\n",
       "      <td>2.8M</td>\n",
       "      <td>100,000+</td>\n",
       "      <td>0</td>\n",
       "      <td>Everyone</td>\n",
       "      <td>Art &amp; Design;Creativity</td>\n",
       "      <td>June 20, 2018</td>\n",
       "      <td>1.1</td>\n",
       "      <td>4.4 and up</td>\n",
       "    </tr>\n",
       "  </tbody>\n",
       "</table>\n",
       "</div>"
      ],
      "text/plain": [
       "   App Number                                                App  \\\n",
       "0           0     Photo Editor & Candy Camera & Grid & ScrapBook   \n",
       "1           1                                Coloring book moana   \n",
       "2           2  U Launcher Lite – FREE Live Cool Themes, Hide ...   \n",
       "3           3                              Sketch - Draw & Paint   \n",
       "4           4              Pixel Draw - Number Art Coloring Book   \n",
       "\n",
       "         Category  Rating Reviews  Size     Installs Price Content Rating  \\\n",
       "0  ART_AND_DESIGN     4.1     159   19M      10,000+     0       Everyone   \n",
       "1  ART_AND_DESIGN     3.9     967   14M     500,000+     0       Everyone   \n",
       "2  ART_AND_DESIGN     4.7   87510  8.7M   5,000,000+     0       Everyone   \n",
       "3  ART_AND_DESIGN     4.5  215644   25M  50,000,000+     0           Teen   \n",
       "4  ART_AND_DESIGN     4.3     967  2.8M     100,000+     0       Everyone   \n",
       "\n",
       "                      Genres          Released         Current Ver  \\\n",
       "0               Art & Design   January 7, 2018               1.0.0   \n",
       "1  Art & Design;Pretend Play  January 15, 2018               2.0.0   \n",
       "2               Art & Design   Aughust 1, 2018               1.2.4   \n",
       "3               Art & Design      June 8, 2018  Varies with device   \n",
       "4    Art & Design;Creativity     June 20, 2018                 1.1   \n",
       "\n",
       "    Android Ver  \n",
       "0  4.0.3 and up  \n",
       "1  4.0.3 and up  \n",
       "2  4.0.3 and up  \n",
       "3    4.2 and up  \n",
       "4    4.4 and up  "
      ]
     },
     "execution_count": 10,
     "metadata": {},
     "output_type": "execute_result"
    }
   ],
   "source": [
    "df.rename(columns={'Unnamed: 0':'App Number'},inplace=True)\n",
    "df.head()"
   ]
  },
  {
   "cell_type": "markdown",
   "id": "d2789472",
   "metadata": {
    "papermill": {
     "duration": 0.017645,
     "end_time": "2025-03-08T15:01:28.814506",
     "exception": false,
     "start_time": "2025-03-08T15:01:28.796861",
     "status": "completed"
    },
    "tags": []
   },
   "source": [
    "**Second: Show Duplicated Apps to explore what different between these rows**"
   ]
  },
  {
   "cell_type": "code",
   "execution_count": 11,
   "id": "f295de26",
   "metadata": {
    "execution": {
     "iopub.execute_input": "2025-03-08T15:01:28.848469Z",
     "iopub.status.busy": "2025-03-08T15:01:28.848125Z",
     "iopub.status.idle": "2025-03-08T15:01:28.869190Z",
     "shell.execute_reply": "2025-03-08T15:01:28.867954Z"
    },
    "papermill": {
     "duration": 0.04055,
     "end_time": "2025-03-08T15:01:28.871570",
     "exception": false,
     "start_time": "2025-03-08T15:01:28.831020",
     "status": "completed"
    },
    "tags": []
   },
   "outputs": [
    {
     "data": {
      "text/html": [
       "<div>\n",
       "<style scoped>\n",
       "    .dataframe tbody tr th:only-of-type {\n",
       "        vertical-align: middle;\n",
       "    }\n",
       "\n",
       "    .dataframe tbody tr th {\n",
       "        vertical-align: top;\n",
       "    }\n",
       "\n",
       "    .dataframe thead th {\n",
       "        text-align: right;\n",
       "    }\n",
       "</style>\n",
       "<table border=\"1\" class=\"dataframe\">\n",
       "  <thead>\n",
       "    <tr style=\"text-align: right;\">\n",
       "      <th></th>\n",
       "      <th>App Number</th>\n",
       "      <th>App</th>\n",
       "      <th>Category</th>\n",
       "      <th>Rating</th>\n",
       "      <th>Reviews</th>\n",
       "      <th>Size</th>\n",
       "      <th>Installs</th>\n",
       "      <th>Price</th>\n",
       "      <th>Content Rating</th>\n",
       "      <th>Genres</th>\n",
       "      <th>Released</th>\n",
       "      <th>Current Ver</th>\n",
       "      <th>Android Ver</th>\n",
       "    </tr>\n",
       "  </thead>\n",
       "  <tbody>\n",
       "    <tr>\n",
       "      <th>1</th>\n",
       "      <td>1</td>\n",
       "      <td>Coloring book moana</td>\n",
       "      <td>ART_AND_DESIGN</td>\n",
       "      <td>3.9</td>\n",
       "      <td>967</td>\n",
       "      <td>14M</td>\n",
       "      <td>500,000+</td>\n",
       "      <td>0</td>\n",
       "      <td>Everyone</td>\n",
       "      <td>Art &amp; Design;Pretend Play</td>\n",
       "      <td>January 15, 2018</td>\n",
       "      <td>2.0.0</td>\n",
       "      <td>4.0.3 and up</td>\n",
       "    </tr>\n",
       "    <tr>\n",
       "      <th>23</th>\n",
       "      <td>23</td>\n",
       "      <td>Mcqueen Coloring pages</td>\n",
       "      <td>ART_AND_DESIGN</td>\n",
       "      <td>NaN</td>\n",
       "      <td>61</td>\n",
       "      <td>7.0M</td>\n",
       "      <td>100,000+</td>\n",
       "      <td>0</td>\n",
       "      <td>Everyone</td>\n",
       "      <td>Art &amp; Design;Action &amp; Adventure</td>\n",
       "      <td>March 7, 2018</td>\n",
       "      <td>1.0.0</td>\n",
       "      <td>4.1 and up</td>\n",
       "    </tr>\n",
       "    <tr>\n",
       "      <th>36</th>\n",
       "      <td>36</td>\n",
       "      <td>UNICORN - Color By Number &amp; Pixel Art Coloring</td>\n",
       "      <td>ART_AND_DESIGN</td>\n",
       "      <td>4.7</td>\n",
       "      <td>8145</td>\n",
       "      <td>24M</td>\n",
       "      <td>500,000+</td>\n",
       "      <td>0</td>\n",
       "      <td>Everyone</td>\n",
       "      <td>Art &amp; Design;Creativity</td>\n",
       "      <td>Aughust 2, 2018</td>\n",
       "      <td>1.0.9</td>\n",
       "      <td>4.4 and up</td>\n",
       "    </tr>\n",
       "    <tr>\n",
       "      <th>42</th>\n",
       "      <td>42</td>\n",
       "      <td>Textgram - write on photos</td>\n",
       "      <td>ART_AND_DESIGN</td>\n",
       "      <td>4.4</td>\n",
       "      <td>295221</td>\n",
       "      <td>Varies with device</td>\n",
       "      <td>10,000,000+</td>\n",
       "      <td>0</td>\n",
       "      <td>Everyone</td>\n",
       "      <td>Art &amp; Design</td>\n",
       "      <td>July 30, 2018</td>\n",
       "      <td>Varies with device</td>\n",
       "      <td>Varies with device</td>\n",
       "    </tr>\n",
       "    <tr>\n",
       "      <th>139</th>\n",
       "      <td>139</td>\n",
       "      <td>Wattpad 📖 Free Books</td>\n",
       "      <td>BOOKS_AND_REFERENCE</td>\n",
       "      <td>4.6</td>\n",
       "      <td>2914724</td>\n",
       "      <td>Varies with device</td>\n",
       "      <td>100,000,000+</td>\n",
       "      <td>0</td>\n",
       "      <td>Teen</td>\n",
       "      <td>Books &amp; Reference</td>\n",
       "      <td>Aughust 1, 2018</td>\n",
       "      <td>Varies with device</td>\n",
       "      <td>Varies with device</td>\n",
       "    </tr>\n",
       "    <tr>\n",
       "      <th>...</th>\n",
       "      <td>...</td>\n",
       "      <td>...</td>\n",
       "      <td>...</td>\n",
       "      <td>...</td>\n",
       "      <td>...</td>\n",
       "      <td>...</td>\n",
       "      <td>...</td>\n",
       "      <td>...</td>\n",
       "      <td>...</td>\n",
       "      <td>...</td>\n",
       "      <td>...</td>\n",
       "      <td>...</td>\n",
       "      <td>...</td>\n",
       "    </tr>\n",
       "    <tr>\n",
       "      <th>10715</th>\n",
       "      <td>10715</td>\n",
       "      <td>FarmersOnly Dating</td>\n",
       "      <td>DATING</td>\n",
       "      <td>3.0</td>\n",
       "      <td>1145</td>\n",
       "      <td>1.4M</td>\n",
       "      <td>100,000+</td>\n",
       "      <td>0</td>\n",
       "      <td>Mature 17+</td>\n",
       "      <td>Dating</td>\n",
       "      <td>February 25, 2016</td>\n",
       "      <td>2.2</td>\n",
       "      <td>4.0 and up</td>\n",
       "    </tr>\n",
       "    <tr>\n",
       "      <th>10720</th>\n",
       "      <td>10720</td>\n",
       "      <td>Firefox Focus: The privacy browser</td>\n",
       "      <td>COMMUNICATION</td>\n",
       "      <td>4.4</td>\n",
       "      <td>36981</td>\n",
       "      <td>4.0M</td>\n",
       "      <td>1,000,000+</td>\n",
       "      <td>0</td>\n",
       "      <td>Everyone</td>\n",
       "      <td>Communication</td>\n",
       "      <td>July 6, 2018</td>\n",
       "      <td>5.2</td>\n",
       "      <td>5.0 and up</td>\n",
       "    </tr>\n",
       "    <tr>\n",
       "      <th>10730</th>\n",
       "      <td>10730</td>\n",
       "      <td>FP Notebook</td>\n",
       "      <td>MEDICAL</td>\n",
       "      <td>4.5</td>\n",
       "      <td>410</td>\n",
       "      <td>60M</td>\n",
       "      <td>50,000+</td>\n",
       "      <td>0</td>\n",
       "      <td>Everyone</td>\n",
       "      <td>Medical</td>\n",
       "      <td>March 24, 2018</td>\n",
       "      <td>2.1.0.372</td>\n",
       "      <td>4.4 and up</td>\n",
       "    </tr>\n",
       "    <tr>\n",
       "      <th>10753</th>\n",
       "      <td>10753</td>\n",
       "      <td>Slickdeals: Coupons &amp; Shopping</td>\n",
       "      <td>SHOPPING</td>\n",
       "      <td>4.5</td>\n",
       "      <td>33599</td>\n",
       "      <td>12M</td>\n",
       "      <td>1,000,000+</td>\n",
       "      <td>0</td>\n",
       "      <td>Everyone</td>\n",
       "      <td>Shopping</td>\n",
       "      <td>July 30, 2018</td>\n",
       "      <td>3.9</td>\n",
       "      <td>4.4 and up</td>\n",
       "    </tr>\n",
       "    <tr>\n",
       "      <th>10768</th>\n",
       "      <td>10768</td>\n",
       "      <td>AAFP</td>\n",
       "      <td>MEDICAL</td>\n",
       "      <td>3.8</td>\n",
       "      <td>63</td>\n",
       "      <td>24M</td>\n",
       "      <td>10,000+</td>\n",
       "      <td>0</td>\n",
       "      <td>Everyone</td>\n",
       "      <td>Medical</td>\n",
       "      <td>June 22, 2018</td>\n",
       "      <td>2.3.1</td>\n",
       "      <td>5.0 and up</td>\n",
       "    </tr>\n",
       "  </tbody>\n",
       "</table>\n",
       "<p>1979 rows × 13 columns</p>\n",
       "</div>"
      ],
      "text/plain": [
       "       App Number                                             App  \\\n",
       "1               1                             Coloring book moana   \n",
       "23             23                          Mcqueen Coloring pages   \n",
       "36             36  UNICORN - Color By Number & Pixel Art Coloring   \n",
       "42             42                      Textgram - write on photos   \n",
       "139           139                            Wattpad 📖 Free Books   \n",
       "...           ...                                             ...   \n",
       "10715       10715                              FarmersOnly Dating   \n",
       "10720       10720              Firefox Focus: The privacy browser   \n",
       "10730       10730                                     FP Notebook   \n",
       "10753       10753                  Slickdeals: Coupons & Shopping   \n",
       "10768       10768                                            AAFP   \n",
       "\n",
       "                  Category  Rating  Reviews                Size      Installs  \\\n",
       "1           ART_AND_DESIGN     3.9      967                 14M      500,000+   \n",
       "23          ART_AND_DESIGN     NaN       61                7.0M      100,000+   \n",
       "36          ART_AND_DESIGN     4.7     8145                 24M      500,000+   \n",
       "42          ART_AND_DESIGN     4.4   295221  Varies with device   10,000,000+   \n",
       "139    BOOKS_AND_REFERENCE     4.6  2914724  Varies with device  100,000,000+   \n",
       "...                    ...     ...      ...                 ...           ...   \n",
       "10715               DATING     3.0     1145                1.4M      100,000+   \n",
       "10720        COMMUNICATION     4.4    36981                4.0M    1,000,000+   \n",
       "10730              MEDICAL     4.5      410                 60M       50,000+   \n",
       "10753             SHOPPING     4.5    33599                 12M    1,000,000+   \n",
       "10768              MEDICAL     3.8       63                 24M       10,000+   \n",
       "\n",
       "      Price Content Rating                           Genres  \\\n",
       "1         0       Everyone        Art & Design;Pretend Play   \n",
       "23        0       Everyone  Art & Design;Action & Adventure   \n",
       "36        0       Everyone          Art & Design;Creativity   \n",
       "42        0       Everyone                     Art & Design   \n",
       "139       0           Teen                Books & Reference   \n",
       "...     ...            ...                              ...   \n",
       "10715     0     Mature 17+                           Dating   \n",
       "10720     0       Everyone                    Communication   \n",
       "10730     0       Everyone                          Medical   \n",
       "10753     0       Everyone                         Shopping   \n",
       "10768     0       Everyone                          Medical   \n",
       "\n",
       "                Released         Current Ver         Android Ver  \n",
       "1       January 15, 2018               2.0.0        4.0.3 and up  \n",
       "23         March 7, 2018               1.0.0          4.1 and up  \n",
       "36       Aughust 2, 2018               1.0.9          4.4 and up  \n",
       "42         July 30, 2018  Varies with device  Varies with device  \n",
       "139      Aughust 1, 2018  Varies with device  Varies with device  \n",
       "...                  ...                 ...                 ...  \n",
       "10715  February 25, 2016                 2.2          4.0 and up  \n",
       "10720       July 6, 2018                 5.2          5.0 and up  \n",
       "10730     March 24, 2018           2.1.0.372          4.4 and up  \n",
       "10753      July 30, 2018                 3.9          4.4 and up  \n",
       "10768      June 22, 2018               2.3.1          5.0 and up  \n",
       "\n",
       "[1979 rows x 13 columns]"
      ]
     },
     "execution_count": 11,
     "metadata": {},
     "output_type": "execute_result"
    }
   ],
   "source": [
    "df[df.duplicated(subset=['App'], keep=False)]"
   ]
  },
  {
   "cell_type": "markdown",
   "id": "af037cc6",
   "metadata": {
    "papermill": {
     "duration": 0.015786,
     "end_time": "2025-03-08T15:01:28.903932",
     "exception": false,
     "start_time": "2025-03-08T15:01:28.888146",
     "status": "completed"
    },
    "tags": []
   },
   "source": [
    "**Try to explore what different**"
   ]
  },
  {
   "cell_type": "code",
   "execution_count": 12,
   "id": "b72b918e",
   "metadata": {
    "execution": {
     "iopub.execute_input": "2025-03-08T15:01:28.937924Z",
     "iopub.status.busy": "2025-03-08T15:01:28.937608Z",
     "iopub.status.idle": "2025-03-08T15:01:28.951522Z",
     "shell.execute_reply": "2025-03-08T15:01:28.950105Z"
    },
    "papermill": {
     "duration": 0.033047,
     "end_time": "2025-03-08T15:01:28.953490",
     "exception": false,
     "start_time": "2025-03-08T15:01:28.920443",
     "status": "completed"
    },
    "tags": []
   },
   "outputs": [
    {
     "data": {
      "text/html": [
       "<div>\n",
       "<style scoped>\n",
       "    .dataframe tbody tr th:only-of-type {\n",
       "        vertical-align: middle;\n",
       "    }\n",
       "\n",
       "    .dataframe tbody tr th {\n",
       "        vertical-align: top;\n",
       "    }\n",
       "\n",
       "    .dataframe thead th {\n",
       "        text-align: right;\n",
       "    }\n",
       "</style>\n",
       "<table border=\"1\" class=\"dataframe\">\n",
       "  <thead>\n",
       "    <tr style=\"text-align: right;\">\n",
       "      <th></th>\n",
       "      <th>App Number</th>\n",
       "      <th>App</th>\n",
       "      <th>Category</th>\n",
       "      <th>Rating</th>\n",
       "      <th>Reviews</th>\n",
       "      <th>Size</th>\n",
       "      <th>Installs</th>\n",
       "      <th>Price</th>\n",
       "      <th>Content Rating</th>\n",
       "      <th>Genres</th>\n",
       "      <th>Released</th>\n",
       "      <th>Current Ver</th>\n",
       "      <th>Android Ver</th>\n",
       "    </tr>\n",
       "  </thead>\n",
       "  <tbody>\n",
       "    <tr>\n",
       "      <th>1</th>\n",
       "      <td>1</td>\n",
       "      <td>Coloring book moana</td>\n",
       "      <td>ART_AND_DESIGN</td>\n",
       "      <td>3.9</td>\n",
       "      <td>967</td>\n",
       "      <td>14M</td>\n",
       "      <td>500,000+</td>\n",
       "      <td>0</td>\n",
       "      <td>Everyone</td>\n",
       "      <td>Art &amp; Design;Pretend Play</td>\n",
       "      <td>January 15, 2018</td>\n",
       "      <td>2.0.0</td>\n",
       "      <td>4.0.3 and up</td>\n",
       "    </tr>\n",
       "    <tr>\n",
       "      <th>2033</th>\n",
       "      <td>2033</td>\n",
       "      <td>Coloring book moana</td>\n",
       "      <td>FAMILY</td>\n",
       "      <td>3.9</td>\n",
       "      <td>974</td>\n",
       "      <td>14M</td>\n",
       "      <td>500,000+</td>\n",
       "      <td>0</td>\n",
       "      <td>Everyone</td>\n",
       "      <td>Art &amp; Design;Pretend Play</td>\n",
       "      <td>January 15, 2018</td>\n",
       "      <td>2.0.0</td>\n",
       "      <td>4.0.3 and up</td>\n",
       "    </tr>\n",
       "  </tbody>\n",
       "</table>\n",
       "</div>"
      ],
      "text/plain": [
       "      App Number                  App        Category  Rating Reviews Size  \\\n",
       "1              1  Coloring book moana  ART_AND_DESIGN     3.9     967  14M   \n",
       "2033        2033  Coloring book moana          FAMILY     3.9     974  14M   \n",
       "\n",
       "      Installs Price Content Rating                     Genres  \\\n",
       "1     500,000+     0       Everyone  Art & Design;Pretend Play   \n",
       "2033  500,000+     0       Everyone  Art & Design;Pretend Play   \n",
       "\n",
       "              Released Current Ver   Android Ver  \n",
       "1     January 15, 2018       2.0.0  4.0.3 and up  \n",
       "2033  January 15, 2018       2.0.0  4.0.3 and up  "
      ]
     },
     "execution_count": 12,
     "metadata": {},
     "output_type": "execute_result"
    }
   ],
   "source": [
    "df[df['App']=='Coloring book moana']"
   ]
  },
  {
   "cell_type": "code",
   "execution_count": 13,
   "id": "933a6146",
   "metadata": {
    "execution": {
     "iopub.execute_input": "2025-03-08T15:01:28.989740Z",
     "iopub.status.busy": "2025-03-08T15:01:28.989442Z",
     "iopub.status.idle": "2025-03-08T15:01:29.003695Z",
     "shell.execute_reply": "2025-03-08T15:01:29.002582Z"
    },
    "papermill": {
     "duration": 0.033766,
     "end_time": "2025-03-08T15:01:29.005136",
     "exception": false,
     "start_time": "2025-03-08T15:01:28.971370",
     "status": "completed"
    },
    "tags": []
   },
   "outputs": [
    {
     "data": {
      "text/html": [
       "<div>\n",
       "<style scoped>\n",
       "    .dataframe tbody tr th:only-of-type {\n",
       "        vertical-align: middle;\n",
       "    }\n",
       "\n",
       "    .dataframe tbody tr th {\n",
       "        vertical-align: top;\n",
       "    }\n",
       "\n",
       "    .dataframe thead th {\n",
       "        text-align: right;\n",
       "    }\n",
       "</style>\n",
       "<table border=\"1\" class=\"dataframe\">\n",
       "  <thead>\n",
       "    <tr style=\"text-align: right;\">\n",
       "      <th></th>\n",
       "      <th>App Number</th>\n",
       "      <th>App</th>\n",
       "      <th>Category</th>\n",
       "      <th>Rating</th>\n",
       "      <th>Reviews</th>\n",
       "      <th>Size</th>\n",
       "      <th>Installs</th>\n",
       "      <th>Price</th>\n",
       "      <th>Content Rating</th>\n",
       "      <th>Genres</th>\n",
       "      <th>Released</th>\n",
       "      <th>Current Ver</th>\n",
       "      <th>Android Ver</th>\n",
       "    </tr>\n",
       "  </thead>\n",
       "  <tbody>\n",
       "    <tr>\n",
       "      <th>23</th>\n",
       "      <td>23</td>\n",
       "      <td>Mcqueen Coloring pages</td>\n",
       "      <td>ART_AND_DESIGN</td>\n",
       "      <td>NaN</td>\n",
       "      <td>61</td>\n",
       "      <td>7.0M</td>\n",
       "      <td>100,000+</td>\n",
       "      <td>0</td>\n",
       "      <td>Everyone</td>\n",
       "      <td>Art &amp; Design;Action &amp; Adventure</td>\n",
       "      <td>March 7, 2018</td>\n",
       "      <td>1.0.0</td>\n",
       "      <td>4.1 and up</td>\n",
       "    </tr>\n",
       "    <tr>\n",
       "      <th>2111</th>\n",
       "      <td>2111</td>\n",
       "      <td>Mcqueen Coloring pages</td>\n",
       "      <td>FAMILY</td>\n",
       "      <td>NaN</td>\n",
       "      <td>65</td>\n",
       "      <td>7.0M</td>\n",
       "      <td>100,000+</td>\n",
       "      <td>0</td>\n",
       "      <td>Everyone</td>\n",
       "      <td>Art &amp; Design;Action &amp; Adventure</td>\n",
       "      <td>March 7, 2018</td>\n",
       "      <td>1.0.0</td>\n",
       "      <td>4.1 and up</td>\n",
       "    </tr>\n",
       "  </tbody>\n",
       "</table>\n",
       "</div>"
      ],
      "text/plain": [
       "      App Number                     App        Category  Rating Reviews  \\\n",
       "23            23  Mcqueen Coloring pages  ART_AND_DESIGN     NaN      61   \n",
       "2111        2111  Mcqueen Coloring pages          FAMILY     NaN      65   \n",
       "\n",
       "      Size  Installs Price Content Rating                           Genres  \\\n",
       "23    7.0M  100,000+     0       Everyone  Art & Design;Action & Adventure   \n",
       "2111  7.0M  100,000+     0       Everyone  Art & Design;Action & Adventure   \n",
       "\n",
       "           Released Current Ver Android Ver  \n",
       "23    March 7, 2018       1.0.0  4.1 and up  \n",
       "2111  March 7, 2018       1.0.0  4.1 and up  "
      ]
     },
     "execution_count": 13,
     "metadata": {},
     "output_type": "execute_result"
    }
   ],
   "source": [
    "df[df['App']=='Mcqueen Coloring pages']"
   ]
  },
  {
   "cell_type": "code",
   "execution_count": 14,
   "id": "3a3c17c9",
   "metadata": {
    "execution": {
     "iopub.execute_input": "2025-03-08T15:01:29.039585Z",
     "iopub.status.busy": "2025-03-08T15:01:29.039328Z",
     "iopub.status.idle": "2025-03-08T15:01:29.051152Z",
     "shell.execute_reply": "2025-03-08T15:01:29.050035Z"
    },
    "papermill": {
     "duration": 0.030488,
     "end_time": "2025-03-08T15:01:29.052973",
     "exception": false,
     "start_time": "2025-03-08T15:01:29.022485",
     "status": "completed"
    },
    "tags": []
   },
   "outputs": [
    {
     "data": {
      "text/html": [
       "<div>\n",
       "<style scoped>\n",
       "    .dataframe tbody tr th:only-of-type {\n",
       "        vertical-align: middle;\n",
       "    }\n",
       "\n",
       "    .dataframe tbody tr th {\n",
       "        vertical-align: top;\n",
       "    }\n",
       "\n",
       "    .dataframe thead th {\n",
       "        text-align: right;\n",
       "    }\n",
       "</style>\n",
       "<table border=\"1\" class=\"dataframe\">\n",
       "  <thead>\n",
       "    <tr style=\"text-align: right;\">\n",
       "      <th></th>\n",
       "      <th>App Number</th>\n",
       "      <th>App</th>\n",
       "      <th>Category</th>\n",
       "      <th>Rating</th>\n",
       "      <th>Reviews</th>\n",
       "      <th>Size</th>\n",
       "      <th>Installs</th>\n",
       "      <th>Price</th>\n",
       "      <th>Content Rating</th>\n",
       "      <th>Genres</th>\n",
       "      <th>Released</th>\n",
       "      <th>Current Ver</th>\n",
       "      <th>Android Ver</th>\n",
       "    </tr>\n",
       "  </thead>\n",
       "  <tbody>\n",
       "    <tr>\n",
       "      <th>514</th>\n",
       "      <td>514</td>\n",
       "      <td>FarmersOnly Dating</td>\n",
       "      <td>DATING</td>\n",
       "      <td>3.0</td>\n",
       "      <td>1146</td>\n",
       "      <td>1.4M</td>\n",
       "      <td>100,000+</td>\n",
       "      <td>0</td>\n",
       "      <td>Mature 17+</td>\n",
       "      <td>Dating</td>\n",
       "      <td>February 25, 2016</td>\n",
       "      <td>2.2</td>\n",
       "      <td>4.0 and up</td>\n",
       "    </tr>\n",
       "    <tr>\n",
       "      <th>10715</th>\n",
       "      <td>10715</td>\n",
       "      <td>FarmersOnly Dating</td>\n",
       "      <td>DATING</td>\n",
       "      <td>3.0</td>\n",
       "      <td>1145</td>\n",
       "      <td>1.4M</td>\n",
       "      <td>100,000+</td>\n",
       "      <td>0</td>\n",
       "      <td>Mature 17+</td>\n",
       "      <td>Dating</td>\n",
       "      <td>February 25, 2016</td>\n",
       "      <td>2.2</td>\n",
       "      <td>4.0 and up</td>\n",
       "    </tr>\n",
       "  </tbody>\n",
       "</table>\n",
       "</div>"
      ],
      "text/plain": [
       "       App Number                 App Category  Rating Reviews  Size  \\\n",
       "514           514  FarmersOnly Dating   DATING     3.0    1146  1.4M   \n",
       "10715       10715  FarmersOnly Dating   DATING     3.0    1145  1.4M   \n",
       "\n",
       "       Installs Price Content Rating  Genres           Released Current Ver  \\\n",
       "514    100,000+     0     Mature 17+  Dating  February 25, 2016         2.2   \n",
       "10715  100,000+     0     Mature 17+  Dating  February 25, 2016         2.2   \n",
       "\n",
       "      Android Ver  \n",
       "514    4.0 and up  \n",
       "10715  4.0 and up  "
      ]
     },
     "execution_count": 14,
     "metadata": {},
     "output_type": "execute_result"
    }
   ],
   "source": [
    "df[df['App']=='FarmersOnly Dating']"
   ]
  },
  {
   "cell_type": "markdown",
   "id": "73b4587f",
   "metadata": {
    "papermill": {
     "duration": 0.016399,
     "end_time": "2025-03-08T15:01:29.086740",
     "exception": false,
     "start_time": "2025-03-08T15:01:29.070341",
     "status": "completed"
    },
    "tags": []
   },
   "source": [
    "> From that I explain that the different found in 'Category' & 'Reviews' Columns\n",
    "* **Try to Handle 'Category' Column By combining categories together**\n",
    "  > * Combine these with '_AND_' like other rows\n",
    "  > * Make sure Combining is done"
   ]
  },
  {
   "cell_type": "code",
   "execution_count": 15,
   "id": "95c4cb84",
   "metadata": {
    "execution": {
     "iopub.execute_input": "2025-03-08T15:01:29.127582Z",
     "iopub.status.busy": "2025-03-08T15:01:29.127288Z",
     "iopub.status.idle": "2025-03-08T15:01:29.836109Z",
     "shell.execute_reply": "2025-03-08T15:01:29.835030Z"
    },
    "papermill": {
     "duration": 0.735046,
     "end_time": "2025-03-08T15:01:29.840428",
     "exception": false,
     "start_time": "2025-03-08T15:01:29.105382",
     "status": "completed"
    },
    "tags": []
   },
   "outputs": [
    {
     "data": {
      "text/html": [
       "<div>\n",
       "<style scoped>\n",
       "    .dataframe tbody tr th:only-of-type {\n",
       "        vertical-align: middle;\n",
       "    }\n",
       "\n",
       "    .dataframe tbody tr th {\n",
       "        vertical-align: top;\n",
       "    }\n",
       "\n",
       "    .dataframe thead th {\n",
       "        text-align: right;\n",
       "    }\n",
       "</style>\n",
       "<table border=\"1\" class=\"dataframe\">\n",
       "  <thead>\n",
       "    <tr style=\"text-align: right;\">\n",
       "      <th></th>\n",
       "      <th>App Number</th>\n",
       "      <th>App</th>\n",
       "      <th>Category</th>\n",
       "      <th>Rating</th>\n",
       "      <th>Reviews</th>\n",
       "      <th>Size</th>\n",
       "      <th>Installs</th>\n",
       "      <th>Price</th>\n",
       "      <th>Content Rating</th>\n",
       "      <th>Genres</th>\n",
       "      <th>Released</th>\n",
       "      <th>Current Ver</th>\n",
       "      <th>Android Ver</th>\n",
       "    </tr>\n",
       "  </thead>\n",
       "  <tbody>\n",
       "    <tr>\n",
       "      <th>1</th>\n",
       "      <td>1</td>\n",
       "      <td>Coloring book moana</td>\n",
       "      <td>ART_AND_DESIGN_AND_FAMILY</td>\n",
       "      <td>3.9</td>\n",
       "      <td>967</td>\n",
       "      <td>14M</td>\n",
       "      <td>500,000+</td>\n",
       "      <td>0</td>\n",
       "      <td>Everyone</td>\n",
       "      <td>Art &amp; Design;Pretend Play</td>\n",
       "      <td>January 15, 2018</td>\n",
       "      <td>2.0.0</td>\n",
       "      <td>4.0.3 and up</td>\n",
       "    </tr>\n",
       "    <tr>\n",
       "      <th>23</th>\n",
       "      <td>23</td>\n",
       "      <td>Mcqueen Coloring pages</td>\n",
       "      <td>ART_AND_DESIGN_AND_FAMILY</td>\n",
       "      <td>NaN</td>\n",
       "      <td>61</td>\n",
       "      <td>7.0M</td>\n",
       "      <td>100,000+</td>\n",
       "      <td>0</td>\n",
       "      <td>Everyone</td>\n",
       "      <td>Art &amp; Design;Action &amp; Adventure</td>\n",
       "      <td>March 7, 2018</td>\n",
       "      <td>1.0.0</td>\n",
       "      <td>4.1 and up</td>\n",
       "    </tr>\n",
       "    <tr>\n",
       "      <th>36</th>\n",
       "      <td>36</td>\n",
       "      <td>UNICORN - Color By Number &amp; Pixel Art Coloring</td>\n",
       "      <td>ART_AND_DESIGN_AND_FAMILY</td>\n",
       "      <td>4.7</td>\n",
       "      <td>8145</td>\n",
       "      <td>24M</td>\n",
       "      <td>500,000+</td>\n",
       "      <td>0</td>\n",
       "      <td>Everyone</td>\n",
       "      <td>Art &amp; Design;Creativity</td>\n",
       "      <td>Aughust 2, 2018</td>\n",
       "      <td>1.0.9</td>\n",
       "      <td>4.4 and up</td>\n",
       "    </tr>\n",
       "    <tr>\n",
       "      <th>42</th>\n",
       "      <td>42</td>\n",
       "      <td>Textgram - write on photos</td>\n",
       "      <td>ART_AND_DESIGN</td>\n",
       "      <td>4.4</td>\n",
       "      <td>295221</td>\n",
       "      <td>Varies with device</td>\n",
       "      <td>10,000,000+</td>\n",
       "      <td>0</td>\n",
       "      <td>Everyone</td>\n",
       "      <td>Art &amp; Design</td>\n",
       "      <td>July 30, 2018</td>\n",
       "      <td>Varies with device</td>\n",
       "      <td>Varies with device</td>\n",
       "    </tr>\n",
       "    <tr>\n",
       "      <th>139</th>\n",
       "      <td>139</td>\n",
       "      <td>Wattpad 📖 Free Books</td>\n",
       "      <td>BOOKS_AND_REFERENCE</td>\n",
       "      <td>4.6</td>\n",
       "      <td>2914724</td>\n",
       "      <td>Varies with device</td>\n",
       "      <td>100,000,000+</td>\n",
       "      <td>0</td>\n",
       "      <td>Teen</td>\n",
       "      <td>Books &amp; Reference</td>\n",
       "      <td>Aughust 1, 2018</td>\n",
       "      <td>Varies with device</td>\n",
       "      <td>Varies with device</td>\n",
       "    </tr>\n",
       "    <tr>\n",
       "      <th>...</th>\n",
       "      <td>...</td>\n",
       "      <td>...</td>\n",
       "      <td>...</td>\n",
       "      <td>...</td>\n",
       "      <td>...</td>\n",
       "      <td>...</td>\n",
       "      <td>...</td>\n",
       "      <td>...</td>\n",
       "      <td>...</td>\n",
       "      <td>...</td>\n",
       "      <td>...</td>\n",
       "      <td>...</td>\n",
       "      <td>...</td>\n",
       "    </tr>\n",
       "    <tr>\n",
       "      <th>10715</th>\n",
       "      <td>10715</td>\n",
       "      <td>FarmersOnly Dating</td>\n",
       "      <td>DATING</td>\n",
       "      <td>3.0</td>\n",
       "      <td>1145</td>\n",
       "      <td>1.4M</td>\n",
       "      <td>100,000+</td>\n",
       "      <td>0</td>\n",
       "      <td>Mature 17+</td>\n",
       "      <td>Dating</td>\n",
       "      <td>February 25, 2016</td>\n",
       "      <td>2.2</td>\n",
       "      <td>4.0 and up</td>\n",
       "    </tr>\n",
       "    <tr>\n",
       "      <th>10720</th>\n",
       "      <td>10720</td>\n",
       "      <td>Firefox Focus: The privacy browser</td>\n",
       "      <td>COMMUNICATION</td>\n",
       "      <td>4.4</td>\n",
       "      <td>36981</td>\n",
       "      <td>4.0M</td>\n",
       "      <td>1,000,000+</td>\n",
       "      <td>0</td>\n",
       "      <td>Everyone</td>\n",
       "      <td>Communication</td>\n",
       "      <td>July 6, 2018</td>\n",
       "      <td>5.2</td>\n",
       "      <td>5.0 and up</td>\n",
       "    </tr>\n",
       "    <tr>\n",
       "      <th>10730</th>\n",
       "      <td>10730</td>\n",
       "      <td>FP Notebook</td>\n",
       "      <td>MEDICAL</td>\n",
       "      <td>4.5</td>\n",
       "      <td>410</td>\n",
       "      <td>60M</td>\n",
       "      <td>50,000+</td>\n",
       "      <td>0</td>\n",
       "      <td>Everyone</td>\n",
       "      <td>Medical</td>\n",
       "      <td>March 24, 2018</td>\n",
       "      <td>2.1.0.372</td>\n",
       "      <td>4.4 and up</td>\n",
       "    </tr>\n",
       "    <tr>\n",
       "      <th>10753</th>\n",
       "      <td>10753</td>\n",
       "      <td>Slickdeals: Coupons &amp; Shopping</td>\n",
       "      <td>SHOPPING</td>\n",
       "      <td>4.5</td>\n",
       "      <td>33599</td>\n",
       "      <td>12M</td>\n",
       "      <td>1,000,000+</td>\n",
       "      <td>0</td>\n",
       "      <td>Everyone</td>\n",
       "      <td>Shopping</td>\n",
       "      <td>July 30, 2018</td>\n",
       "      <td>3.9</td>\n",
       "      <td>4.4 and up</td>\n",
       "    </tr>\n",
       "    <tr>\n",
       "      <th>10768</th>\n",
       "      <td>10768</td>\n",
       "      <td>AAFP</td>\n",
       "      <td>MEDICAL</td>\n",
       "      <td>3.8</td>\n",
       "      <td>63</td>\n",
       "      <td>24M</td>\n",
       "      <td>10,000+</td>\n",
       "      <td>0</td>\n",
       "      <td>Everyone</td>\n",
       "      <td>Medical</td>\n",
       "      <td>June 22, 2018</td>\n",
       "      <td>2.3.1</td>\n",
       "      <td>5.0 and up</td>\n",
       "    </tr>\n",
       "  </tbody>\n",
       "</table>\n",
       "<p>1979 rows × 13 columns</p>\n",
       "</div>"
      ],
      "text/plain": [
       "       App Number                                             App  \\\n",
       "1               1                             Coloring book moana   \n",
       "23             23                          Mcqueen Coloring pages   \n",
       "36             36  UNICORN - Color By Number & Pixel Art Coloring   \n",
       "42             42                      Textgram - write on photos   \n",
       "139           139                            Wattpad 📖 Free Books   \n",
       "...           ...                                             ...   \n",
       "10715       10715                              FarmersOnly Dating   \n",
       "10720       10720              Firefox Focus: The privacy browser   \n",
       "10730       10730                                     FP Notebook   \n",
       "10753       10753                  Slickdeals: Coupons & Shopping   \n",
       "10768       10768                                            AAFP   \n",
       "\n",
       "                        Category  Rating  Reviews                Size  \\\n",
       "1      ART_AND_DESIGN_AND_FAMILY     3.9      967                 14M   \n",
       "23     ART_AND_DESIGN_AND_FAMILY     NaN       61                7.0M   \n",
       "36     ART_AND_DESIGN_AND_FAMILY     4.7     8145                 24M   \n",
       "42                ART_AND_DESIGN     4.4   295221  Varies with device   \n",
       "139          BOOKS_AND_REFERENCE     4.6  2914724  Varies with device   \n",
       "...                          ...     ...      ...                 ...   \n",
       "10715                     DATING     3.0     1145                1.4M   \n",
       "10720              COMMUNICATION     4.4    36981                4.0M   \n",
       "10730                    MEDICAL     4.5      410                 60M   \n",
       "10753                   SHOPPING     4.5    33599                 12M   \n",
       "10768                    MEDICAL     3.8       63                 24M   \n",
       "\n",
       "           Installs Price Content Rating                           Genres  \\\n",
       "1          500,000+     0       Everyone        Art & Design;Pretend Play   \n",
       "23         100,000+     0       Everyone  Art & Design;Action & Adventure   \n",
       "36         500,000+     0       Everyone          Art & Design;Creativity   \n",
       "42      10,000,000+     0       Everyone                     Art & Design   \n",
       "139    100,000,000+     0           Teen                Books & Reference   \n",
       "...             ...   ...            ...                              ...   \n",
       "10715      100,000+     0     Mature 17+                           Dating   \n",
       "10720    1,000,000+     0       Everyone                    Communication   \n",
       "10730       50,000+     0       Everyone                          Medical   \n",
       "10753    1,000,000+     0       Everyone                         Shopping   \n",
       "10768       10,000+     0       Everyone                          Medical   \n",
       "\n",
       "                Released         Current Ver         Android Ver  \n",
       "1       January 15, 2018               2.0.0        4.0.3 and up  \n",
       "23         March 7, 2018               1.0.0          4.1 and up  \n",
       "36       Aughust 2, 2018               1.0.9          4.4 and up  \n",
       "42         July 30, 2018  Varies with device  Varies with device  \n",
       "139      Aughust 1, 2018  Varies with device  Varies with device  \n",
       "...                  ...                 ...                 ...  \n",
       "10715  February 25, 2016                 2.2          4.0 and up  \n",
       "10720       July 6, 2018                 5.2          5.0 and up  \n",
       "10730     March 24, 2018           2.1.0.372          4.4 and up  \n",
       "10753      July 30, 2018                 3.9          4.4 and up  \n",
       "10768      June 22, 2018               2.3.1          5.0 and up  \n",
       "\n",
       "[1979 rows x 13 columns]"
      ]
     },
     "execution_count": 15,
     "metadata": {},
     "output_type": "execute_result"
    }
   ],
   "source": [
    "df['Category'] = df.groupby('App')['Category'].transform(lambda x: '_AND_'.join(set(x)))\n",
    "df[df.duplicated(subset=['App'], keep=False)]"
   ]
  },
  {
   "cell_type": "markdown",
   "id": "f938668b",
   "metadata": {
    "papermill": {
     "duration": 0.019299,
     "end_time": "2025-03-08T15:01:29.878615",
     "exception": false,
     "start_time": "2025-03-08T15:01:29.859316",
     "status": "completed"
    },
    "tags": []
   },
   "source": [
    "**We should take into considration that we should take greater Review**\n",
    "> To sort rows by 'Review' Column we should first handle this column to convert this to int Column not object"
   ]
  },
  {
   "cell_type": "code",
   "execution_count": 16,
   "id": "da330325",
   "metadata": {
    "execution": {
     "iopub.execute_input": "2025-03-08T15:01:29.917549Z",
     "iopub.status.busy": "2025-03-08T15:01:29.917225Z",
     "iopub.status.idle": "2025-03-08T15:01:29.929743Z",
     "shell.execute_reply": "2025-03-08T15:01:29.928277Z"
    },
    "papermill": {
     "duration": 0.033207,
     "end_time": "2025-03-08T15:01:29.931382",
     "exception": false,
     "start_time": "2025-03-08T15:01:29.898175",
     "status": "completed"
    },
    "tags": []
   },
   "outputs": [
    {
     "data": {
      "text/plain": [
       "App Number          int64\n",
       "App                object\n",
       "Category           object\n",
       "Rating            float64\n",
       "Reviews             int64\n",
       "Size               object\n",
       "Installs           object\n",
       "Price              object\n",
       "Content Rating     object\n",
       "Genres             object\n",
       "Released           object\n",
       "Current Ver        object\n",
       "Android Ver        object\n",
       "dtype: object"
      ]
     },
     "execution_count": 16,
     "metadata": {},
     "output_type": "execute_result"
    }
   ],
   "source": [
    "df['Reviews']=df['Reviews'].apply(lambda x:\n",
    "                                  float(x.replace('K',''))*1000 if 'K' in str(x) else\n",
    "                                  float(x.replace('M',''))*1000000 if 'M' in str(x) else\n",
    "                                  float(x)).astype(int)\n",
    "df.dtypes"
   ]
  },
  {
   "cell_type": "markdown",
   "id": "fb886049",
   "metadata": {
    "papermill": {
     "duration": 0.016408,
     "end_time": "2025-03-08T15:01:29.965412",
     "exception": false,
     "start_time": "2025-03-08T15:01:29.949004",
     "status": "completed"
    },
    "tags": []
   },
   "source": [
    "> * Then sort rows by 'Review' Column descending to get greater value\n",
    "> * then we should delete duplicated Apps with smaller Review value\n",
    "> * Then check Duplicates"
   ]
  },
  {
   "cell_type": "code",
   "execution_count": 17,
   "id": "441e1232",
   "metadata": {
    "execution": {
     "iopub.execute_input": "2025-03-08T15:01:30.000494Z",
     "iopub.status.busy": "2025-03-08T15:01:30.000093Z",
     "iopub.status.idle": "2025-03-08T15:01:30.014312Z",
     "shell.execute_reply": "2025-03-08T15:01:30.013587Z"
    },
    "papermill": {
     "duration": 0.033351,
     "end_time": "2025-03-08T15:01:30.015633",
     "exception": false,
     "start_time": "2025-03-08T15:01:29.982282",
     "status": "completed"
    },
    "tags": []
   },
   "outputs": [
    {
     "data": {
      "text/plain": [
       "np.int64(0)"
      ]
     },
     "execution_count": 17,
     "metadata": {},
     "output_type": "execute_result"
    }
   ],
   "source": [
    "df=df.sort_values(by='Reviews',ascending=False)\n",
    "df.drop_duplicates(subset=['App'],keep='first',inplace=True)\n",
    "df.duplicated(subset=['App'], keep=False).sum()"
   ]
  },
  {
   "cell_type": "markdown",
   "id": "6764bb01",
   "metadata": {
    "papermill": {
     "duration": 0.018051,
     "end_time": "2025-03-08T15:01:30.052724",
     "exception": false,
     "start_time": "2025-03-08T15:01:30.034673",
     "status": "completed"
    },
    "tags": []
   },
   "source": [
    "**Resort Value By index and change index to equal New Apps Number**"
   ]
  },
  {
   "cell_type": "code",
   "execution_count": 18,
   "id": "72d97d53",
   "metadata": {
    "execution": {
     "iopub.execute_input": "2025-03-08T15:01:30.090347Z",
     "iopub.status.busy": "2025-03-08T15:01:30.089989Z",
     "iopub.status.idle": "2025-03-08T15:01:30.108353Z",
     "shell.execute_reply": "2025-03-08T15:01:30.107425Z"
    },
    "papermill": {
     "duration": 0.038566,
     "end_time": "2025-03-08T15:01:30.109984",
     "exception": false,
     "start_time": "2025-03-08T15:01:30.071418",
     "status": "completed"
    },
    "tags": []
   },
   "outputs": [
    {
     "data": {
      "text/html": [
       "<div>\n",
       "<style scoped>\n",
       "    .dataframe tbody tr th:only-of-type {\n",
       "        vertical-align: middle;\n",
       "    }\n",
       "\n",
       "    .dataframe tbody tr th {\n",
       "        vertical-align: top;\n",
       "    }\n",
       "\n",
       "    .dataframe thead th {\n",
       "        text-align: right;\n",
       "    }\n",
       "</style>\n",
       "<table border=\"1\" class=\"dataframe\">\n",
       "  <thead>\n",
       "    <tr style=\"text-align: right;\">\n",
       "      <th></th>\n",
       "      <th>App Number</th>\n",
       "      <th>App</th>\n",
       "      <th>Category</th>\n",
       "      <th>Rating</th>\n",
       "      <th>Reviews</th>\n",
       "      <th>Size</th>\n",
       "      <th>Installs</th>\n",
       "      <th>Price</th>\n",
       "      <th>Content Rating</th>\n",
       "      <th>Genres</th>\n",
       "      <th>Released</th>\n",
       "      <th>Current Ver</th>\n",
       "      <th>Android Ver</th>\n",
       "    </tr>\n",
       "  </thead>\n",
       "  <tbody>\n",
       "    <tr>\n",
       "      <th>0</th>\n",
       "      <td>0</td>\n",
       "      <td>Photo Editor &amp; Candy Camera &amp; Grid &amp; ScrapBook</td>\n",
       "      <td>ART_AND_DESIGN</td>\n",
       "      <td>4.1</td>\n",
       "      <td>159</td>\n",
       "      <td>19M</td>\n",
       "      <td>10,000+</td>\n",
       "      <td>0</td>\n",
       "      <td>Everyone</td>\n",
       "      <td>Art &amp; Design</td>\n",
       "      <td>January 7, 2018</td>\n",
       "      <td>1.0.0</td>\n",
       "      <td>4.0.3 and up</td>\n",
       "    </tr>\n",
       "    <tr>\n",
       "      <th>1</th>\n",
       "      <td>1</td>\n",
       "      <td>U Launcher Lite – FREE Live Cool Themes, Hide ...</td>\n",
       "      <td>ART_AND_DESIGN</td>\n",
       "      <td>4.7</td>\n",
       "      <td>87510</td>\n",
       "      <td>8.7M</td>\n",
       "      <td>5,000,000+</td>\n",
       "      <td>0</td>\n",
       "      <td>Everyone</td>\n",
       "      <td>Art &amp; Design</td>\n",
       "      <td>Aughust 1, 2018</td>\n",
       "      <td>1.2.4</td>\n",
       "      <td>4.0.3 and up</td>\n",
       "    </tr>\n",
       "    <tr>\n",
       "      <th>2</th>\n",
       "      <td>2</td>\n",
       "      <td>Sketch - Draw &amp; Paint</td>\n",
       "      <td>ART_AND_DESIGN</td>\n",
       "      <td>4.5</td>\n",
       "      <td>215644</td>\n",
       "      <td>25M</td>\n",
       "      <td>50,000,000+</td>\n",
       "      <td>0</td>\n",
       "      <td>Teen</td>\n",
       "      <td>Art &amp; Design</td>\n",
       "      <td>June 8, 2018</td>\n",
       "      <td>Varies with device</td>\n",
       "      <td>4.2 and up</td>\n",
       "    </tr>\n",
       "    <tr>\n",
       "      <th>3</th>\n",
       "      <td>3</td>\n",
       "      <td>Pixel Draw - Number Art Coloring Book</td>\n",
       "      <td>ART_AND_DESIGN</td>\n",
       "      <td>4.3</td>\n",
       "      <td>967</td>\n",
       "      <td>2.8M</td>\n",
       "      <td>100,000+</td>\n",
       "      <td>0</td>\n",
       "      <td>Everyone</td>\n",
       "      <td>Art &amp; Design;Creativity</td>\n",
       "      <td>June 20, 2018</td>\n",
       "      <td>1.1</td>\n",
       "      <td>4.4 and up</td>\n",
       "    </tr>\n",
       "    <tr>\n",
       "      <th>4</th>\n",
       "      <td>4</td>\n",
       "      <td>Paper flowers instructions</td>\n",
       "      <td>ART_AND_DESIGN</td>\n",
       "      <td>4.4</td>\n",
       "      <td>167</td>\n",
       "      <td>5.6M</td>\n",
       "      <td>50,000+</td>\n",
       "      <td>0</td>\n",
       "      <td>Everyone</td>\n",
       "      <td>Art &amp; Design</td>\n",
       "      <td>March 26, 2017</td>\n",
       "      <td>1.0</td>\n",
       "      <td>2.3 and up</td>\n",
       "    </tr>\n",
       "  </tbody>\n",
       "</table>\n",
       "</div>"
      ],
      "text/plain": [
       "   App Number                                                App  \\\n",
       "0           0     Photo Editor & Candy Camera & Grid & ScrapBook   \n",
       "1           1  U Launcher Lite – FREE Live Cool Themes, Hide ...   \n",
       "2           2                              Sketch - Draw & Paint   \n",
       "3           3              Pixel Draw - Number Art Coloring Book   \n",
       "4           4                         Paper flowers instructions   \n",
       "\n",
       "         Category  Rating  Reviews  Size     Installs Price Content Rating  \\\n",
       "0  ART_AND_DESIGN     4.1      159   19M      10,000+     0       Everyone   \n",
       "1  ART_AND_DESIGN     4.7    87510  8.7M   5,000,000+     0       Everyone   \n",
       "2  ART_AND_DESIGN     4.5   215644   25M  50,000,000+     0           Teen   \n",
       "3  ART_AND_DESIGN     4.3      967  2.8M     100,000+     0       Everyone   \n",
       "4  ART_AND_DESIGN     4.4      167  5.6M      50,000+     0       Everyone   \n",
       "\n",
       "                    Genres         Released         Current Ver   Android Ver  \n",
       "0             Art & Design  January 7, 2018               1.0.0  4.0.3 and up  \n",
       "1             Art & Design  Aughust 1, 2018               1.2.4  4.0.3 and up  \n",
       "2             Art & Design     June 8, 2018  Varies with device    4.2 and up  \n",
       "3  Art & Design;Creativity    June 20, 2018                 1.1    4.4 and up  \n",
       "4             Art & Design   March 26, 2017                 1.0    2.3 and up  "
      ]
     },
     "execution_count": 18,
     "metadata": {},
     "output_type": "execute_result"
    }
   ],
   "source": [
    "df=df.sort_values(by='App Number').reset_index(drop=True)\n",
    "df['App Number']=range(len(df))\n",
    "df.head()"
   ]
  },
  {
   "cell_type": "markdown",
   "id": "ca3ef8ff",
   "metadata": {
    "papermill": {
     "duration": 0.017181,
     "end_time": "2025-03-08T15:01:30.145227",
     "exception": false,
     "start_time": "2025-03-08T15:01:30.128046",
     "status": "completed"
    },
    "tags": []
   },
   "source": [
    "**Check unique values**"
   ]
  },
  {
   "cell_type": "code",
   "execution_count": 19,
   "id": "88af0c69",
   "metadata": {
    "execution": {
     "iopub.execute_input": "2025-03-08T15:01:30.180549Z",
     "iopub.status.busy": "2025-03-08T15:01:30.180285Z",
     "iopub.status.idle": "2025-03-08T15:01:30.192294Z",
     "shell.execute_reply": "2025-03-08T15:01:30.191036Z"
    },
    "papermill": {
     "duration": 0.031267,
     "end_time": "2025-03-08T15:01:30.193617",
     "exception": false,
     "start_time": "2025-03-08T15:01:30.162350",
     "status": "completed"
    },
    "tags": []
   },
   "outputs": [
    {
     "data": {
      "text/plain": [
       "App Number        9660\n",
       "App               9660\n",
       "Category            44\n",
       "Rating              40\n",
       "Reviews           5335\n",
       "Size               462\n",
       "Installs            22\n",
       "Price               93\n",
       "Content Rating       6\n",
       "Genres             119\n",
       "Released          1378\n",
       "Current Ver       2820\n",
       "Android Ver         33\n",
       "dtype: int64"
      ]
     },
     "execution_count": 19,
     "metadata": {},
     "output_type": "execute_result"
    }
   ],
   "source": [
    "df.nunique()"
   ]
  },
  {
   "cell_type": "markdown",
   "id": "c66de54c",
   "metadata": {
    "papermill": {
     "duration": 0.018363,
     "end_time": "2025-03-08T15:01:30.230068",
     "exception": false,
     "start_time": "2025-03-08T15:01:30.211705",
     "status": "completed"
    },
    "tags": []
   },
   "source": [
    "**Show null values**"
   ]
  },
  {
   "cell_type": "code",
   "execution_count": 20,
   "id": "7de1a7ea",
   "metadata": {
    "execution": {
     "iopub.execute_input": "2025-03-08T15:01:30.267202Z",
     "iopub.status.busy": "2025-03-08T15:01:30.266785Z",
     "iopub.status.idle": "2025-03-08T15:01:30.278860Z",
     "shell.execute_reply": "2025-03-08T15:01:30.277280Z"
    },
    "papermill": {
     "duration": 0.033131,
     "end_time": "2025-03-08T15:01:30.280909",
     "exception": false,
     "start_time": "2025-03-08T15:01:30.247778",
     "status": "completed"
    },
    "tags": []
   },
   "outputs": [
    {
     "data": {
      "text/plain": [
       "App Number           0\n",
       "App                  0\n",
       "Category             0\n",
       "Rating            1463\n",
       "Reviews              0\n",
       "Size                 0\n",
       "Installs             0\n",
       "Price                0\n",
       "Content Rating       1\n",
       "Genres               0\n",
       "Released             0\n",
       "Current Ver          8\n",
       "Android Ver          3\n",
       "dtype: int64"
      ]
     },
     "execution_count": 20,
     "metadata": {},
     "output_type": "execute_result"
    }
   ],
   "source": [
    "df.isnull().sum()"
   ]
  },
  {
   "cell_type": "markdown",
   "id": "a5671ad4",
   "metadata": {
    "papermill": {
     "duration": 0.018136,
     "end_time": "2025-03-08T15:01:30.317585",
     "exception": false,
     "start_time": "2025-03-08T15:01:30.299449",
     "status": "completed"
    },
    "tags": []
   },
   "source": [
    "**Rating contains float values so I think that right to fill null with mean value**"
   ]
  },
  {
   "cell_type": "code",
   "execution_count": 21,
   "id": "832e03bf",
   "metadata": {
    "execution": {
     "iopub.execute_input": "2025-03-08T15:01:30.356901Z",
     "iopub.status.busy": "2025-03-08T15:01:30.356476Z",
     "iopub.status.idle": "2025-03-08T15:01:30.368474Z",
     "shell.execute_reply": "2025-03-08T15:01:30.367179Z"
    },
    "papermill": {
     "duration": 0.033403,
     "end_time": "2025-03-08T15:01:30.370081",
     "exception": false,
     "start_time": "2025-03-08T15:01:30.336678",
     "status": "completed"
    },
    "tags": []
   },
   "outputs": [
    {
     "data": {
      "text/plain": [
       "App Number        0\n",
       "App               0\n",
       "Category          0\n",
       "Rating            0\n",
       "Reviews           0\n",
       "Size              0\n",
       "Installs          0\n",
       "Price             0\n",
       "Content Rating    1\n",
       "Genres            0\n",
       "Released          0\n",
       "Current Ver       8\n",
       "Android Ver       3\n",
       "dtype: int64"
      ]
     },
     "execution_count": 21,
     "metadata": {},
     "output_type": "execute_result"
    }
   ],
   "source": [
    "df['Rating']=df['Rating'].fillna(df['Rating'].mean())\n",
    "df.isnull().sum()"
   ]
  },
  {
   "cell_type": "markdown",
   "id": "182aa8e5",
   "metadata": {
    "papermill": {
     "duration": 0.017989,
     "end_time": "2025-03-08T15:01:30.406521",
     "exception": false,
     "start_time": "2025-03-08T15:01:30.388532",
     "status": "completed"
    },
    "tags": []
   },
   "source": [
    "**'Content Rating' contains str values so I'll fill this with 'Unknown' value**"
   ]
  },
  {
   "cell_type": "code",
   "execution_count": 22,
   "id": "3672c38d",
   "metadata": {
    "execution": {
     "iopub.execute_input": "2025-03-08T15:01:30.444388Z",
     "iopub.status.busy": "2025-03-08T15:01:30.444076Z",
     "iopub.status.idle": "2025-03-08T15:01:30.456864Z",
     "shell.execute_reply": "2025-03-08T15:01:30.455369Z"
    },
    "papermill": {
     "duration": 0.032696,
     "end_time": "2025-03-08T15:01:30.458274",
     "exception": false,
     "start_time": "2025-03-08T15:01:30.425578",
     "status": "completed"
    },
    "tags": []
   },
   "outputs": [
    {
     "data": {
      "text/plain": [
       "App Number        0\n",
       "App               0\n",
       "Category          0\n",
       "Rating            0\n",
       "Reviews           0\n",
       "Size              0\n",
       "Installs          0\n",
       "Price             0\n",
       "Content Rating    0\n",
       "Genres            0\n",
       "Released          0\n",
       "Current Ver       8\n",
       "Android Ver       3\n",
       "dtype: int64"
      ]
     },
     "execution_count": 22,
     "metadata": {},
     "output_type": "execute_result"
    }
   ],
   "source": [
    "df['Content Rating']=df['Content Rating'].fillna('UnKnown')\n",
    "df.isnull().sum()"
   ]
  },
  {
   "cell_type": "markdown",
   "id": "9dd463ac",
   "metadata": {
    "papermill": {
     "duration": 0.019003,
     "end_time": "2025-03-08T15:01:30.496520",
     "exception": false,
     "start_time": "2025-03-08T15:01:30.477517",
     "status": "completed"
    },
    "tags": []
   },
   "source": [
    "# Let's Handle Columns and these data types"
   ]
  },
  {
   "cell_type": "code",
   "execution_count": 23,
   "id": "f05cb690",
   "metadata": {
    "execution": {
     "iopub.execute_input": "2025-03-08T15:01:30.535470Z",
     "iopub.status.busy": "2025-03-08T15:01:30.535137Z",
     "iopub.status.idle": "2025-03-08T15:01:30.541482Z",
     "shell.execute_reply": "2025-03-08T15:01:30.540047Z"
    },
    "papermill": {
     "duration": 0.027419,
     "end_time": "2025-03-08T15:01:30.542925",
     "exception": false,
     "start_time": "2025-03-08T15:01:30.515506",
     "status": "completed"
    },
    "tags": []
   },
   "outputs": [
    {
     "data": {
      "text/plain": [
       "array(['January 7, 2018', 'Aughust 1, 2018', 'June 8, 2018', ...,\n",
       "       'January 20, 2014', 'February 16, 2014', 'March 23, 2014'],\n",
       "      shape=(1378,), dtype=object)"
      ]
     },
     "execution_count": 23,
     "metadata": {},
     "output_type": "execute_result"
    }
   ],
   "source": [
    "df['Released'].unique()"
   ]
  },
  {
   "cell_type": "markdown",
   "id": "d06a042e",
   "metadata": {
    "papermill": {
     "duration": 0.017588,
     "end_time": "2025-03-08T15:01:30.579172",
     "exception": false,
     "start_time": "2025-03-08T15:01:30.561584",
     "status": "completed"
    },
    "tags": []
   },
   "source": [
    "**I discovered some values that contain the names of months written incorrectly**\n",
    "> first handle these months and change data type to datetime"
   ]
  },
  {
   "cell_type": "code",
   "execution_count": 24,
   "id": "6ff8162d",
   "metadata": {
    "execution": {
     "iopub.execute_input": "2025-03-08T15:01:30.616047Z",
     "iopub.status.busy": "2025-03-08T15:01:30.615739Z",
     "iopub.status.idle": "2025-03-08T15:01:30.647275Z",
     "shell.execute_reply": "2025-03-08T15:01:30.646167Z"
    },
    "papermill": {
     "duration": 0.051441,
     "end_time": "2025-03-08T15:01:30.648615",
     "exception": false,
     "start_time": "2025-03-08T15:01:30.597174",
     "status": "completed"
    },
    "tags": []
   },
   "outputs": [
    {
     "data": {
      "text/plain": [
       "App Number                 int64\n",
       "App                       object\n",
       "Category                  object\n",
       "Rating                   float64\n",
       "Reviews                    int64\n",
       "Size                      object\n",
       "Installs                  object\n",
       "Price                     object\n",
       "Content Rating            object\n",
       "Genres                    object\n",
       "Released          datetime64[ns]\n",
       "Current Ver               object\n",
       "Android Ver               object\n",
       "dtype: object"
      ]
     },
     "execution_count": 24,
     "metadata": {},
     "output_type": "execute_result"
    }
   ],
   "source": [
    "months_mapping = {\n",
    "    'Jan': 'January', 'Feb': 'February', 'Mar': 'March',\n",
    "    'Apr': 'April', 'May': 'May', 'Jun': 'June',\n",
    "    'Jul': 'July', 'Aug': 'August', 'Sep': 'September',\n",
    "    'Oct': 'October', 'Nov': 'November', 'Dec': 'December'\n",
    "}\n",
    "\n",
    "def right_date(date):\n",
    "    parts = date.split()\n",
    "    if len(parts) == 3:  \n",
    "        for wrong,right in months_mapping.items():\n",
    "            if parts[0].startswith(wrong):    \n",
    "                return f\"{months_mapping[wrong]} {parts[1]}, {parts[2]}\"\n",
    "    return date  \n",
    "\n",
    "df['Released'] = pd.to_datetime(df['Released'].apply(right_date),errors='coerce')\n",
    "df.dtypes"
   ]
  },
  {
   "cell_type": "markdown",
   "id": "13c8231e",
   "metadata": {
    "papermill": {
     "duration": 0.016971,
     "end_time": "2025-03-08T15:01:30.683604",
     "exception": false,
     "start_time": "2025-03-08T15:01:30.666633",
     "status": "completed"
    },
    "tags": []
   },
   "source": [
    "**Check Values that may error with conversion and become null**"
   ]
  },
  {
   "cell_type": "code",
   "execution_count": 25,
   "id": "0009e881",
   "metadata": {
    "execution": {
     "iopub.execute_input": "2025-03-08T15:01:30.720104Z",
     "iopub.status.busy": "2025-03-08T15:01:30.719720Z",
     "iopub.status.idle": "2025-03-08T15:01:30.730271Z",
     "shell.execute_reply": "2025-03-08T15:01:30.728871Z"
    },
    "papermill": {
     "duration": 0.030889,
     "end_time": "2025-03-08T15:01:30.732153",
     "exception": false,
     "start_time": "2025-03-08T15:01:30.701264",
     "status": "completed"
    },
    "tags": []
   },
   "outputs": [
    {
     "data": {
      "text/plain": [
       "App Number        0\n",
       "App               0\n",
       "Category          0\n",
       "Rating            0\n",
       "Reviews           0\n",
       "Size              0\n",
       "Installs          0\n",
       "Price             0\n",
       "Content Rating    0\n",
       "Genres            0\n",
       "Released          1\n",
       "Current Ver       8\n",
       "Android Ver       3\n",
       "dtype: int64"
      ]
     },
     "execution_count": 25,
     "metadata": {},
     "output_type": "execute_result"
    }
   ],
   "source": [
    "df.isnull().sum()"
   ]
  },
  {
   "cell_type": "code",
   "execution_count": 26,
   "id": "065f9f54",
   "metadata": {
    "execution": {
     "iopub.execute_input": "2025-03-08T15:01:30.770365Z",
     "iopub.status.busy": "2025-03-08T15:01:30.770064Z",
     "iopub.status.idle": "2025-03-08T15:01:30.782972Z",
     "shell.execute_reply": "2025-03-08T15:01:30.781698Z"
    },
    "papermill": {
     "duration": 0.033462,
     "end_time": "2025-03-08T15:01:30.784534",
     "exception": false,
     "start_time": "2025-03-08T15:01:30.751072",
     "status": "completed"
    },
    "tags": []
   },
   "outputs": [
    {
     "data": {
      "text/html": [
       "<div>\n",
       "<style scoped>\n",
       "    .dataframe tbody tr th:only-of-type {\n",
       "        vertical-align: middle;\n",
       "    }\n",
       "\n",
       "    .dataframe tbody tr th {\n",
       "        vertical-align: top;\n",
       "    }\n",
       "\n",
       "    .dataframe thead th {\n",
       "        text-align: right;\n",
       "    }\n",
       "</style>\n",
       "<table border=\"1\" class=\"dataframe\">\n",
       "  <thead>\n",
       "    <tr style=\"text-align: right;\">\n",
       "      <th></th>\n",
       "      <th>App Number</th>\n",
       "      <th>App</th>\n",
       "      <th>Category</th>\n",
       "      <th>Rating</th>\n",
       "      <th>Reviews</th>\n",
       "      <th>Size</th>\n",
       "      <th>Installs</th>\n",
       "      <th>Price</th>\n",
       "      <th>Content Rating</th>\n",
       "      <th>Genres</th>\n",
       "      <th>Released</th>\n",
       "      <th>Current Ver</th>\n",
       "      <th>Android Ver</th>\n",
       "    </tr>\n",
       "  </thead>\n",
       "  <tbody>\n",
       "    <tr>\n",
       "      <th>9294</th>\n",
       "      <td>9294</td>\n",
       "      <td>Life Made WI-Fi Touchscreen Photo Frame</td>\n",
       "      <td>1.9</td>\n",
       "      <td>19.0</td>\n",
       "      <td>3000000</td>\n",
       "      <td>1,000+</td>\n",
       "      <td>Free</td>\n",
       "      <td>Everyone</td>\n",
       "      <td>UnKnown</td>\n",
       "      <td>February 11, 2018</td>\n",
       "      <td>NaT</td>\n",
       "      <td>4.0 and up</td>\n",
       "      <td>NaN</td>\n",
       "    </tr>\n",
       "  </tbody>\n",
       "</table>\n",
       "</div>"
      ],
      "text/plain": [
       "      App Number                                      App Category  Rating  \\\n",
       "9294        9294  Life Made WI-Fi Touchscreen Photo Frame      1.9    19.0   \n",
       "\n",
       "      Reviews    Size Installs     Price Content Rating             Genres  \\\n",
       "9294  3000000  1,000+     Free  Everyone        UnKnown  February 11, 2018   \n",
       "\n",
       "     Released Current Ver Android Ver  \n",
       "9294      NaT  4.0 and up         NaN  "
      ]
     },
     "execution_count": 26,
     "metadata": {},
     "output_type": "execute_result"
    }
   ],
   "source": [
    "df[df['Released'].isna()] "
   ]
  },
  {
   "cell_type": "markdown",
   "id": "7d60b72d",
   "metadata": {
    "papermill": {
     "duration": 0.0174,
     "end_time": "2025-03-08T15:01:30.820497",
     "exception": false,
     "start_time": "2025-03-08T15:01:30.803097",
     "status": "completed"
    },
    "tags": []
   },
   "source": [
    "**We found row with fake data that make be shifted**\n",
    "> shift the date that found in Genres to Released value"
   ]
  },
  {
   "cell_type": "code",
   "execution_count": 27,
   "id": "7a941f6d",
   "metadata": {
    "execution": {
     "iopub.execute_input": "2025-03-08T15:01:30.858204Z",
     "iopub.status.busy": "2025-03-08T15:01:30.857883Z",
     "iopub.status.idle": "2025-03-08T15:01:30.871434Z",
     "shell.execute_reply": "2025-03-08T15:01:30.870309Z"
    },
    "papermill": {
     "duration": 0.034931,
     "end_time": "2025-03-08T15:01:30.873049",
     "exception": false,
     "start_time": "2025-03-08T15:01:30.838118",
     "status": "completed"
    },
    "tags": []
   },
   "outputs": [
    {
     "data": {
      "text/plain": [
       "App Number        0\n",
       "App               0\n",
       "Category          0\n",
       "Rating            0\n",
       "Reviews           0\n",
       "Size              0\n",
       "Installs          0\n",
       "Price             0\n",
       "Content Rating    0\n",
       "Genres            0\n",
       "Released          0\n",
       "Current Ver       8\n",
       "Android Ver       3\n",
       "dtype: int64"
      ]
     },
     "execution_count": 27,
     "metadata": {},
     "output_type": "execute_result"
    }
   ],
   "source": [
    "df['Released']=df['Released'].fillna('February 11, 2018')\n",
    "df.isnull().sum()"
   ]
  },
  {
   "cell_type": "markdown",
   "id": "6e0a37e5",
   "metadata": {
    "papermill": {
     "duration": 0.019404,
     "end_time": "2025-03-08T15:01:30.910644",
     "exception": false,
     "start_time": "2025-03-08T15:01:30.891240",
     "status": "completed"
    },
    "tags": []
   },
   "source": [
    "# Let's Handle data Column by Column"
   ]
  },
  {
   "cell_type": "markdown",
   "id": "26026132",
   "metadata": {
    "papermill": {
     "duration": 0.018192,
     "end_time": "2025-03-08T15:01:30.948771",
     "exception": false,
     "start_time": "2025-03-08T15:01:30.930579",
     "status": "completed"
    },
    "tags": []
   },
   "source": [
    "**First Check Unique Values in 'Category' Column**"
   ]
  },
  {
   "cell_type": "code",
   "execution_count": 28,
   "id": "32a87046",
   "metadata": {
    "execution": {
     "iopub.execute_input": "2025-03-08T15:01:30.990272Z",
     "iopub.status.busy": "2025-03-08T15:01:30.989916Z",
     "iopub.status.idle": "2025-03-08T15:01:30.997293Z",
     "shell.execute_reply": "2025-03-08T15:01:30.995769Z"
    },
    "papermill": {
     "duration": 0.030944,
     "end_time": "2025-03-08T15:01:30.999277",
     "exception": false,
     "start_time": "2025-03-08T15:01:30.968333",
     "status": "completed"
    },
    "tags": []
   },
   "outputs": [
    {
     "data": {
      "text/plain": [
       "array(['ART_AND_DESIGN', 'AUTO_AND_VEHICLES', 'BEAUTY',\n",
       "       'BOOKS_AND_REFERENCE', 'BUSINESS', 'BUSINESS_AND_COMMUNICATION',\n",
       "       'COMICS', 'COMMUNICATION', 'DATING', 'EDUCATION',\n",
       "       'FAMILY_AND_EDUCATION', 'ENTERTAINMENT',\n",
       "       'FAMILY_AND_ENTERTAINMENT', 'EVENTS', 'FINANCE', 'FOOD_AND_DRINK',\n",
       "       'HEALTH_AND_FITNESS', 'HEALTH_AND_FITNESS_AND_MEDICAL',\n",
       "       'HOUSE_AND_HOME', 'LIBRARIES_AND_DEMO', 'LIFESTYLE',\n",
       "       'FAMILY_AND_GAME', 'GAME', 'SPORTS_AND_GAME', 'FAMILY',\n",
       "       'ART_AND_DESIGN_AND_FAMILY', 'MEDICAL', 'SOCIAL', 'SHOPPING',\n",
       "       'PHOTOGRAPHY', 'SPORTS', 'TRAVEL_AND_LOCAL', 'TOOLS',\n",
       "       'TOOLS_AND_DATING', 'PERSONALIZATION', 'PRODUCTIVITY', 'PARENTING',\n",
       "       'WEATHER', 'VIDEO_PLAYERS', 'FAMILY_AND_VIDEO_PLAYERS',\n",
       "       'NEWS_AND_MAGAZINES', 'MAPS_AND_NAVIGATION',\n",
       "       'TOOLS_AND_HOUSE_AND_HOME', '1.9'], dtype=object)"
      ]
     },
     "execution_count": 28,
     "metadata": {},
     "output_type": "execute_result"
    }
   ],
   "source": [
    "df['Category'].unique()"
   ]
  },
  {
   "cell_type": "markdown",
   "id": "2f480ae4",
   "metadata": {
    "papermill": {
     "duration": 0.025267,
     "end_time": "2025-03-08T15:01:31.048294",
     "exception": false,
     "start_time": "2025-03-08T15:01:31.023027",
     "status": "completed"
    },
    "tags": []
   },
   "source": [
    "**Found integar value between str values check the number of that value**"
   ]
  },
  {
   "cell_type": "code",
   "execution_count": 29,
   "id": "980e1c12",
   "metadata": {
    "execution": {
     "iopub.execute_input": "2025-03-08T15:01:31.092052Z",
     "iopub.status.busy": "2025-03-08T15:01:31.091744Z",
     "iopub.status.idle": "2025-03-08T15:01:31.098321Z",
     "shell.execute_reply": "2025-03-08T15:01:31.097148Z"
    },
    "papermill": {
     "duration": 0.031564,
     "end_time": "2025-03-08T15:01:31.100188",
     "exception": false,
     "start_time": "2025-03-08T15:01:31.068624",
     "status": "completed"
    },
    "tags": []
   },
   "outputs": [
    {
     "data": {
      "text/plain": [
       "np.int64(1)"
      ]
     },
     "execution_count": 29,
     "metadata": {},
     "output_type": "execute_result"
    }
   ],
   "source": [
    "(df['Category']=='1.9').sum()"
   ]
  },
  {
   "cell_type": "code",
   "execution_count": 30,
   "id": "128deb5e",
   "metadata": {
    "execution": {
     "iopub.execute_input": "2025-03-08T15:01:31.152112Z",
     "iopub.status.busy": "2025-03-08T15:01:31.151841Z",
     "iopub.status.idle": "2025-03-08T15:01:31.164253Z",
     "shell.execute_reply": "2025-03-08T15:01:31.163201Z"
    },
    "papermill": {
     "duration": 0.040638,
     "end_time": "2025-03-08T15:01:31.165632",
     "exception": false,
     "start_time": "2025-03-08T15:01:31.124994",
     "status": "completed"
    },
    "tags": []
   },
   "outputs": [
    {
     "data": {
      "text/html": [
       "<div>\n",
       "<style scoped>\n",
       "    .dataframe tbody tr th:only-of-type {\n",
       "        vertical-align: middle;\n",
       "    }\n",
       "\n",
       "    .dataframe tbody tr th {\n",
       "        vertical-align: top;\n",
       "    }\n",
       "\n",
       "    .dataframe thead th {\n",
       "        text-align: right;\n",
       "    }\n",
       "</style>\n",
       "<table border=\"1\" class=\"dataframe\">\n",
       "  <thead>\n",
       "    <tr style=\"text-align: right;\">\n",
       "      <th></th>\n",
       "      <th>App Number</th>\n",
       "      <th>App</th>\n",
       "      <th>Category</th>\n",
       "      <th>Rating</th>\n",
       "      <th>Reviews</th>\n",
       "      <th>Size</th>\n",
       "      <th>Installs</th>\n",
       "      <th>Price</th>\n",
       "      <th>Content Rating</th>\n",
       "      <th>Genres</th>\n",
       "      <th>Released</th>\n",
       "      <th>Current Ver</th>\n",
       "      <th>Android Ver</th>\n",
       "    </tr>\n",
       "  </thead>\n",
       "  <tbody>\n",
       "    <tr>\n",
       "      <th>9294</th>\n",
       "      <td>9294</td>\n",
       "      <td>Life Made WI-Fi Touchscreen Photo Frame</td>\n",
       "      <td>1.9</td>\n",
       "      <td>19.0</td>\n",
       "      <td>3000000</td>\n",
       "      <td>1,000+</td>\n",
       "      <td>Free</td>\n",
       "      <td>Everyone</td>\n",
       "      <td>UnKnown</td>\n",
       "      <td>February 11, 2018</td>\n",
       "      <td>2018-02-11</td>\n",
       "      <td>4.0 and up</td>\n",
       "      <td>NaN</td>\n",
       "    </tr>\n",
       "  </tbody>\n",
       "</table>\n",
       "</div>"
      ],
      "text/plain": [
       "      App Number                                      App Category  Rating  \\\n",
       "9294        9294  Life Made WI-Fi Touchscreen Photo Frame      1.9    19.0   \n",
       "\n",
       "      Reviews    Size Installs     Price Content Rating             Genres  \\\n",
       "9294  3000000  1,000+     Free  Everyone        UnKnown  February 11, 2018   \n",
       "\n",
       "       Released Current Ver Android Ver  \n",
       "9294 2018-02-11  4.0 and up         NaN  "
      ]
     },
     "execution_count": 30,
     "metadata": {},
     "output_type": "execute_result"
    }
   ],
   "source": [
    "df[df['Category']=='1.9']"
   ]
  },
  {
   "cell_type": "markdown",
   "id": "b242ff86",
   "metadata": {
    "papermill": {
     "duration": 0.018859,
     "end_time": "2025-03-08T15:01:31.207123",
     "exception": false,
     "start_time": "2025-03-08T15:01:31.188264",
     "status": "completed"
    },
    "tags": []
   },
   "source": [
    "**We weren't able to expect that value what shoud be because Genres also don't have right value**\n",
    "> Update this value by 'UnKnown' value"
   ]
  },
  {
   "cell_type": "code",
   "execution_count": 31,
   "id": "e852cfc9",
   "metadata": {
    "execution": {
     "iopub.execute_input": "2025-03-08T15:01:31.247205Z",
     "iopub.status.busy": "2025-03-08T15:01:31.246904Z",
     "iopub.status.idle": "2025-03-08T15:01:31.255888Z",
     "shell.execute_reply": "2025-03-08T15:01:31.254466Z"
    },
    "papermill": {
     "duration": 0.031724,
     "end_time": "2025-03-08T15:01:31.257626",
     "exception": false,
     "start_time": "2025-03-08T15:01:31.225902",
     "status": "completed"
    },
    "tags": []
   },
   "outputs": [
    {
     "data": {
      "text/plain": [
       "array(['ART_AND_DESIGN', 'AUTO_AND_VEHICLES', 'BEAUTY',\n",
       "       'BOOKS_AND_REFERENCE', 'BUSINESS', 'BUSINESS_AND_COMMUNICATION',\n",
       "       'COMICS', 'COMMUNICATION', 'DATING', 'EDUCATION',\n",
       "       'FAMILY_AND_EDUCATION', 'ENTERTAINMENT',\n",
       "       'FAMILY_AND_ENTERTAINMENT', 'EVENTS', 'FINANCE', 'FOOD_AND_DRINK',\n",
       "       'HEALTH_AND_FITNESS', 'HEALTH_AND_FITNESS_AND_MEDICAL',\n",
       "       'HOUSE_AND_HOME', 'LIBRARIES_AND_DEMO', 'LIFESTYLE',\n",
       "       'FAMILY_AND_GAME', 'GAME', 'SPORTS_AND_GAME', 'FAMILY',\n",
       "       'ART_AND_DESIGN_AND_FAMILY', 'MEDICAL', 'SOCIAL', 'SHOPPING',\n",
       "       'PHOTOGRAPHY', 'SPORTS', 'TRAVEL_AND_LOCAL', 'TOOLS',\n",
       "       'TOOLS_AND_DATING', 'PERSONALIZATION', 'PRODUCTIVITY', 'PARENTING',\n",
       "       'WEATHER', 'VIDEO_PLAYERS', 'FAMILY_AND_VIDEO_PLAYERS',\n",
       "       'NEWS_AND_MAGAZINES', 'MAPS_AND_NAVIGATION',\n",
       "       'TOOLS_AND_HOUSE_AND_HOME', 'UnKnown'], dtype=object)"
      ]
     },
     "execution_count": 31,
     "metadata": {},
     "output_type": "execute_result"
    }
   ],
   "source": [
    "df['Category']=df['Category'].replace({'1.9':'UnKnown'})\n",
    "df['Category'].unique()"
   ]
  },
  {
   "cell_type": "markdown",
   "id": "e2edf9eb",
   "metadata": {
    "papermill": {
     "duration": 0.020334,
     "end_time": "2025-03-08T15:01:31.297219",
     "exception": false,
     "start_time": "2025-03-08T15:01:31.276885",
     "status": "completed"
    },
    "tags": []
   },
   "source": [
    "**'Rating' Column must contain values between [0:5]**\n",
    "> Check Range Value in 'Rating' Column"
   ]
  },
  {
   "cell_type": "code",
   "execution_count": 32,
   "id": "9c39b618",
   "metadata": {
    "execution": {
     "iopub.execute_input": "2025-03-08T15:01:31.343697Z",
     "iopub.status.busy": "2025-03-08T15:01:31.343438Z",
     "iopub.status.idle": "2025-03-08T15:01:31.348855Z",
     "shell.execute_reply": "2025-03-08T15:01:31.347773Z"
    },
    "papermill": {
     "duration": 0.029224,
     "end_time": "2025-03-08T15:01:31.350655",
     "exception": false,
     "start_time": "2025-03-08T15:01:31.321431",
     "status": "completed"
    },
    "tags": []
   },
   "outputs": [
    {
     "name": "stdout",
     "output_type": "stream",
     "text": [
      "1.0\n",
      "19.0\n"
     ]
    }
   ],
   "source": [
    "print(df['Rating'].min())\n",
    "print(df['Rating'].max())"
   ]
  },
  {
   "cell_type": "markdown",
   "id": "1739865e",
   "metadata": {
    "papermill": {
     "duration": 0.017788,
     "end_time": "2025-03-08T15:01:31.387441",
     "exception": false,
     "start_time": "2025-03-08T15:01:31.369653",
     "status": "completed"
    },
    "tags": []
   },
   "source": [
    "**We found that maximum value=19.0 not 5.0**\n",
    "> **we need to know How many values equal greater than 5.0**"
   ]
  },
  {
   "cell_type": "code",
   "execution_count": 33,
   "id": "98db5f02",
   "metadata": {
    "execution": {
     "iopub.execute_input": "2025-03-08T15:01:31.424603Z",
     "iopub.status.busy": "2025-03-08T15:01:31.424280Z",
     "iopub.status.idle": "2025-03-08T15:01:31.430290Z",
     "shell.execute_reply": "2025-03-08T15:01:31.429401Z"
    },
    "papermill": {
     "duration": 0.027508,
     "end_time": "2025-03-08T15:01:31.432612",
     "exception": false,
     "start_time": "2025-03-08T15:01:31.405104",
     "status": "completed"
    },
    "tags": []
   },
   "outputs": [
    {
     "data": {
      "text/plain": [
       "np.int64(1)"
      ]
     },
     "execution_count": 33,
     "metadata": {},
     "output_type": "execute_result"
    }
   ],
   "source": [
    "(df['Rating']>5.0).sum()"
   ]
  },
  {
   "cell_type": "markdown",
   "id": "8a77a5c5",
   "metadata": {
    "papermill": {
     "duration": 0.018292,
     "end_time": "2025-03-08T15:01:31.470147",
     "exception": false,
     "start_time": "2025-03-08T15:01:31.451855",
     "status": "completed"
    },
    "tags": []
   },
   "source": [
    "**we should replace that by mean value to save mean value right**\n",
    "> then check max value"
   ]
  },
  {
   "cell_type": "code",
   "execution_count": 34,
   "id": "dde3012b",
   "metadata": {
    "execution": {
     "iopub.execute_input": "2025-03-08T15:01:31.509086Z",
     "iopub.status.busy": "2025-03-08T15:01:31.508765Z",
     "iopub.status.idle": "2025-03-08T15:01:31.515747Z",
     "shell.execute_reply": "2025-03-08T15:01:31.514468Z"
    },
    "papermill": {
     "duration": 0.028405,
     "end_time": "2025-03-08T15:01:31.517647",
     "exception": false,
     "start_time": "2025-03-08T15:01:31.489242",
     "status": "completed"
    },
    "tags": []
   },
   "outputs": [
    {
     "data": {
      "text/plain": [
       "np.float64(5.0)"
      ]
     },
     "execution_count": 34,
     "metadata": {},
     "output_type": "execute_result"
    }
   ],
   "source": [
    "df['Rating']=df['Rating'].replace({19.0:df['Rating'].mean()})\n",
    "df['Rating'].max()"
   ]
  },
  {
   "cell_type": "markdown",
   "id": "53def2b8",
   "metadata": {
    "papermill": {
     "duration": 0.01853,
     "end_time": "2025-03-08T15:01:31.555452",
     "exception": false,
     "start_time": "2025-03-08T15:01:31.536922",
     "status": "completed"
    },
    "tags": []
   },
   "source": [
    "**'Rating' Column has float data type so we don't need to convert it**"
   ]
  },
  {
   "cell_type": "markdown",
   "id": "17ccc524",
   "metadata": {
    "papermill": {
     "duration": 0.019082,
     "end_time": "2025-03-08T15:01:31.593540",
     "exception": false,
     "start_time": "2025-03-08T15:01:31.574458",
     "status": "completed"
    },
    "tags": []
   },
   "source": [
    "**let's check 'Size' column values**"
   ]
  },
  {
   "cell_type": "code",
   "execution_count": 35,
   "id": "ec3e8cb9",
   "metadata": {
    "execution": {
     "iopub.execute_input": "2025-03-08T15:01:31.642605Z",
     "iopub.status.busy": "2025-03-08T15:01:31.642341Z",
     "iopub.status.idle": "2025-03-08T15:01:31.647774Z",
     "shell.execute_reply": "2025-03-08T15:01:31.647187Z"
    },
    "papermill": {
     "duration": 0.030769,
     "end_time": "2025-03-08T15:01:31.648940",
     "exception": false,
     "start_time": "2025-03-08T15:01:31.618171",
     "status": "completed"
    },
    "tags": []
   },
   "outputs": [
    {
     "data": {
      "text/plain": [
       "array(['19M', '8.7M', '25M', '2.8M', '5.6M', '29M', '33M', '3.1M', '28M',\n",
       "       '12M', '20M', '21M', '37M', '2.7M', '5.5M', '17M', '39M', '31M',\n",
       "       '14M', '4.2M', '23M', '6.0M', '6.1M', '4.6M', '9.2M', '5.2M',\n",
       "       '11M', 'Varies with device', '9.4M', '15M', '10M', '1.2M', '24M',\n",
       "       '26M', '8.0M', '7.9M', '56M', '57M', '35M', '54M', '201k', '3.6M',\n",
       "       '5.7M', '8.6M', '2.4M', '27M', '2.5M', '7.0M', '16M', '3.4M',\n",
       "       '8.9M', '3.9M', '2.9M', '38M', '32M', '5.4M', '18M', '1.1M',\n",
       "       '2.2M', '4.5M', '9.8M', '52M', '9.0M', '6.7M', '30M', '2.6M',\n",
       "       '7.1M', '3.7M', '22M', '7.4M', '6.4M', '3.2M', '8.2M', '9.9M',\n",
       "       '4.9M', '9.5M', '5.0M', '5.9M', '13M', '73M', '6.8M', '3.5M',\n",
       "       '4.0M', '2.3M', '7.2M', '2.1M', '42M', '7.3M', '9.1M', '55M',\n",
       "       '23k', '6.5M', '1.5M', '7.5M', '41M', '48M', '46M', '51M', '8.5M',\n",
       "       '8.3M', '4.3M', '4.7M', '3.3M', '40M', '7.8M', '8.8M', '6.6M',\n",
       "       '5.1M', '61M', '66M', '8.4M', '118k', '44M', '695k', '1.6M', '18k',\n",
       "       '53M', '6.2M', '1.4M', '3.0M', '5.8M', '3.8M', '9.6M', '45M',\n",
       "       '63M', '49M', '4.4M', '70M', '6.9M', '9.3M', '10.0M', '8.1M',\n",
       "       '4.8M', '36M', '77M', '84M', '97M', '2.0M', '1.9M', '1.8M', '5.3M',\n",
       "       '47M', '556k', '526k', '7.6M', '59M', '76M', '9.7M', '78M', '72M',\n",
       "       '43M', '7.7M', '6.3M', '334k', '34M', '93M', '65M', '100M', '58M',\n",
       "       '50M', '68M', '79M', '64M', '67M', '94M', '60M', '232k', '99M',\n",
       "       '624k', '95M', '8.5k', '41k', '292k', '11k', '80M', '1.7M', '75M',\n",
       "       '69M', '85M', '71M', '62M', '98M', '86M', '87M', '82M', '81M',\n",
       "       '96M', '91M', '83M', '74M', '92M', '862k', '899k', '378k', '266k',\n",
       "       '375k', '1.3M', '975k', '980k', '4.1M', '89M', '88M', '696k',\n",
       "       '544k', '525k', '920k', '779k', '853k', '720k', '713k', '772k',\n",
       "       '318k', '58k', '241k', '196k', '857k', '51k', '953k', '865k',\n",
       "       '251k', '930k', '540k', '313k', '746k', '203k', '26k', '314k',\n",
       "       '79k', '239k', '371k', '220k', '730k', '756k', '91k', '293k',\n",
       "       '17k', '74k', '14k', '317k', '78k', '924k', '902k', '818k', '81k',\n",
       "       '939k', '169k', '45k', '475k', '965k', '90M', '545k', '61k',\n",
       "       '283k', '655k', '714k', '93k', '872k', '121k', '322k', '1.0M',\n",
       "       '976k', '172k', '238k', '549k', '206k', '954k', '444k', '717k',\n",
       "       '210k', '609k', '308k', '705k', '306k', '904k', '473k', '175k',\n",
       "       '350k', '383k', '454k', '421k', '70k', '812k', '442k', '842k',\n",
       "       '417k', '412k', '459k', '478k', '335k', '782k', '721k', '430k',\n",
       "       '429k', '192k', '200k', '460k', '728k', '496k', '816k', '414k',\n",
       "       '506k', '704k', '887k', '613k', '243k', '569k', '778k', '683k',\n",
       "       '592k', '319k', '186k', '840k', '647k', '191k', '373k', '437k',\n",
       "       '598k', '716k', '585k', '982k', '222k', '219k', '55k', '948k',\n",
       "       '323k', '691k', '511k', '951k', '963k', '25k', '554k', '351k',\n",
       "       '27k', '82k', '208k', '913k', '514k', '551k', '29k', '103k',\n",
       "       '898k', '743k', '116k', '153k', '209k', '353k', '499k', '173k',\n",
       "       '597k', '809k', '122k', '411k', '400k', '801k', '787k', '237k',\n",
       "       '50k', '643k', '986k', '97k', '516k', '837k', '780k', '961k',\n",
       "       '269k', '20k', '498k', '600k', '749k', '642k', '881k', '72k',\n",
       "       '656k', '601k', '221k', '228k', '108k', '940k', '176k', '33k',\n",
       "       '663k', '34k', '942k', '259k', '164k', '458k', '245k', '629k',\n",
       "       '28k', '288k', '775k', '785k', '636k', '916k', '994k', '309k',\n",
       "       '485k', '914k', '903k', '608k', '500k', '54k', '562k', '847k',\n",
       "       '957k', '688k', '811k', '270k', '48k', '329k', '523k', '921k',\n",
       "       '874k', '981k', '784k', '280k', '24k', '518k', '754k', '892k',\n",
       "       '154k', '860k', '364k', '387k', '626k', '161k', '879k', '39k',\n",
       "       '970k', '170k', '141k', '160k', '144k', '143k', '190k', '376k',\n",
       "       '193k', '246k', '73k', '658k', '992k', '253k', '420k', '404k',\n",
       "       '1,000+', '470k', '226k', '240k', '89k', '234k', '257k', '861k',\n",
       "       '467k', '157k', '44k', '676k', '67k', '552k', '885k', '1020k',\n",
       "       '582k', '619k'], dtype=object)"
      ]
     },
     "execution_count": 35,
     "metadata": {},
     "output_type": "execute_result"
    }
   ],
   "source": [
    "df['Size'].unique()"
   ]
  },
  {
   "cell_type": "markdown",
   "id": "fb68c9ad",
   "metadata": {
    "papermill": {
     "duration": 0.018583,
     "end_time": "2025-03-08T15:01:31.686617",
     "exception": false,
     "start_time": "2025-03-08T15:01:31.668034",
     "status": "completed"
    },
    "tags": []
   },
   "source": [
    "**We found 1000+ value that doesn't match column values**"
   ]
  },
  {
   "cell_type": "code",
   "execution_count": 36,
   "id": "7fd2edca",
   "metadata": {
    "execution": {
     "iopub.execute_input": "2025-03-08T15:01:31.725249Z",
     "iopub.status.busy": "2025-03-08T15:01:31.724905Z",
     "iopub.status.idle": "2025-03-08T15:01:31.730653Z",
     "shell.execute_reply": "2025-03-08T15:01:31.729928Z"
    },
    "papermill": {
     "duration": 0.026593,
     "end_time": "2025-03-08T15:01:31.731913",
     "exception": false,
     "start_time": "2025-03-08T15:01:31.705320",
     "status": "completed"
    },
    "tags": []
   },
   "outputs": [
    {
     "data": {
      "text/plain": [
       "np.int64(1)"
      ]
     },
     "execution_count": 36,
     "metadata": {},
     "output_type": "execute_result"
    }
   ],
   "source": [
    "(df['Size']=='1,000+').sum()"
   ]
  },
  {
   "cell_type": "code",
   "execution_count": 37,
   "id": "6bbdf30d",
   "metadata": {
    "execution": {
     "iopub.execute_input": "2025-03-08T15:01:31.772196Z",
     "iopub.status.busy": "2025-03-08T15:01:31.771584Z",
     "iopub.status.idle": "2025-03-08T15:01:31.784376Z",
     "shell.execute_reply": "2025-03-08T15:01:31.783574Z"
    },
    "papermill": {
     "duration": 0.034304,
     "end_time": "2025-03-08T15:01:31.786292",
     "exception": false,
     "start_time": "2025-03-08T15:01:31.751988",
     "status": "completed"
    },
    "tags": []
   },
   "outputs": [
    {
     "data": {
      "text/html": [
       "<div>\n",
       "<style scoped>\n",
       "    .dataframe tbody tr th:only-of-type {\n",
       "        vertical-align: middle;\n",
       "    }\n",
       "\n",
       "    .dataframe tbody tr th {\n",
       "        vertical-align: top;\n",
       "    }\n",
       "\n",
       "    .dataframe thead th {\n",
       "        text-align: right;\n",
       "    }\n",
       "</style>\n",
       "<table border=\"1\" class=\"dataframe\">\n",
       "  <thead>\n",
       "    <tr style=\"text-align: right;\">\n",
       "      <th></th>\n",
       "      <th>App Number</th>\n",
       "      <th>App</th>\n",
       "      <th>Category</th>\n",
       "      <th>Rating</th>\n",
       "      <th>Reviews</th>\n",
       "      <th>Size</th>\n",
       "      <th>Installs</th>\n",
       "      <th>Price</th>\n",
       "      <th>Content Rating</th>\n",
       "      <th>Genres</th>\n",
       "      <th>Released</th>\n",
       "      <th>Current Ver</th>\n",
       "      <th>Android Ver</th>\n",
       "    </tr>\n",
       "  </thead>\n",
       "  <tbody>\n",
       "    <tr>\n",
       "      <th>9294</th>\n",
       "      <td>9294</td>\n",
       "      <td>Life Made WI-Fi Touchscreen Photo Frame</td>\n",
       "      <td>UnKnown</td>\n",
       "      <td>4.175076</td>\n",
       "      <td>3000000</td>\n",
       "      <td>1,000+</td>\n",
       "      <td>Free</td>\n",
       "      <td>Everyone</td>\n",
       "      <td>UnKnown</td>\n",
       "      <td>February 11, 2018</td>\n",
       "      <td>2018-02-11</td>\n",
       "      <td>4.0 and up</td>\n",
       "      <td>NaN</td>\n",
       "    </tr>\n",
       "  </tbody>\n",
       "</table>\n",
       "</div>"
      ],
      "text/plain": [
       "      App Number                                      App Category    Rating  \\\n",
       "9294        9294  Life Made WI-Fi Touchscreen Photo Frame  UnKnown  4.175076   \n",
       "\n",
       "      Reviews    Size Installs     Price Content Rating             Genres  \\\n",
       "9294  3000000  1,000+     Free  Everyone        UnKnown  February 11, 2018   \n",
       "\n",
       "       Released Current Ver Android Ver  \n",
       "9294 2018-02-11  4.0 and up         NaN  "
      ]
     },
     "execution_count": 37,
     "metadata": {},
     "output_type": "execute_result"
    }
   ],
   "source": [
    "df[df['Size']=='1,000+']"
   ]
  },
  {
   "cell_type": "markdown",
   "id": "d031bc0f",
   "metadata": {
    "papermill": {
     "duration": 0.019731,
     "end_time": "2025-03-08T15:01:31.826425",
     "exception": false,
     "start_time": "2025-03-08T15:01:31.806694",
     "status": "completed"
    },
    "tags": []
   },
   "source": [
    "**We couldn't expect this right value from row so we will fill that by 0**"
   ]
  },
  {
   "cell_type": "code",
   "execution_count": 38,
   "id": "858230bb",
   "metadata": {
    "execution": {
     "iopub.execute_input": "2025-03-08T15:01:31.869599Z",
     "iopub.status.busy": "2025-03-08T15:01:31.869295Z",
     "iopub.status.idle": "2025-03-08T15:01:31.878657Z",
     "shell.execute_reply": "2025-03-08T15:01:31.877368Z"
    },
    "papermill": {
     "duration": 0.033914,
     "end_time": "2025-03-08T15:01:31.880770",
     "exception": false,
     "start_time": "2025-03-08T15:01:31.846856",
     "status": "completed"
    },
    "tags": []
   },
   "outputs": [
    {
     "data": {
      "text/plain": [
       "array(['19M', '8.7M', '25M', '2.8M', '5.6M', '29M', '33M', '3.1M', '28M',\n",
       "       '12M', '20M', '21M', '37M', '2.7M', '5.5M', '17M', '39M', '31M',\n",
       "       '14M', '4.2M', '23M', '6.0M', '6.1M', '4.6M', '9.2M', '5.2M',\n",
       "       '11M', 'Varies with device', '9.4M', '15M', '10M', '1.2M', '24M',\n",
       "       '26M', '8.0M', '7.9M', '56M', '57M', '35M', '54M', '201k', '3.6M',\n",
       "       '5.7M', '8.6M', '2.4M', '27M', '2.5M', '7.0M', '16M', '3.4M',\n",
       "       '8.9M', '3.9M', '2.9M', '38M', '32M', '5.4M', '18M', '1.1M',\n",
       "       '2.2M', '4.5M', '9.8M', '52M', '9.0M', '6.7M', '30M', '2.6M',\n",
       "       '7.1M', '3.7M', '22M', '7.4M', '6.4M', '3.2M', '8.2M', '9.9M',\n",
       "       '4.9M', '9.5M', '5.0M', '5.9M', '13M', '73M', '6.8M', '3.5M',\n",
       "       '4.0M', '2.3M', '7.2M', '2.1M', '42M', '7.3M', '9.1M', '55M',\n",
       "       '23k', '6.5M', '1.5M', '7.5M', '41M', '48M', '46M', '51M', '8.5M',\n",
       "       '8.3M', '4.3M', '4.7M', '3.3M', '40M', '7.8M', '8.8M', '6.6M',\n",
       "       '5.1M', '61M', '66M', '8.4M', '118k', '44M', '695k', '1.6M', '18k',\n",
       "       '53M', '6.2M', '1.4M', '3.0M', '5.8M', '3.8M', '9.6M', '45M',\n",
       "       '63M', '49M', '4.4M', '70M', '6.9M', '9.3M', '10.0M', '8.1M',\n",
       "       '4.8M', '36M', '77M', '84M', '97M', '2.0M', '1.9M', '1.8M', '5.3M',\n",
       "       '47M', '556k', '526k', '7.6M', '59M', '76M', '9.7M', '78M', '72M',\n",
       "       '43M', '7.7M', '6.3M', '334k', '34M', '93M', '65M', '100M', '58M',\n",
       "       '50M', '68M', '79M', '64M', '67M', '94M', '60M', '232k', '99M',\n",
       "       '624k', '95M', '8.5k', '41k', '292k', '11k', '80M', '1.7M', '75M',\n",
       "       '69M', '85M', '71M', '62M', '98M', '86M', '87M', '82M', '81M',\n",
       "       '96M', '91M', '83M', '74M', '92M', '862k', '899k', '378k', '266k',\n",
       "       '375k', '1.3M', '975k', '980k', '4.1M', '89M', '88M', '696k',\n",
       "       '544k', '525k', '920k', '779k', '853k', '720k', '713k', '772k',\n",
       "       '318k', '58k', '241k', '196k', '857k', '51k', '953k', '865k',\n",
       "       '251k', '930k', '540k', '313k', '746k', '203k', '26k', '314k',\n",
       "       '79k', '239k', '371k', '220k', '730k', '756k', '91k', '293k',\n",
       "       '17k', '74k', '14k', '317k', '78k', '924k', '902k', '818k', '81k',\n",
       "       '939k', '169k', '45k', '475k', '965k', '90M', '545k', '61k',\n",
       "       '283k', '655k', '714k', '93k', '872k', '121k', '322k', '1.0M',\n",
       "       '976k', '172k', '238k', '549k', '206k', '954k', '444k', '717k',\n",
       "       '210k', '609k', '308k', '705k', '306k', '904k', '473k', '175k',\n",
       "       '350k', '383k', '454k', '421k', '70k', '812k', '442k', '842k',\n",
       "       '417k', '412k', '459k', '478k', '335k', '782k', '721k', '430k',\n",
       "       '429k', '192k', '200k', '460k', '728k', '496k', '816k', '414k',\n",
       "       '506k', '704k', '887k', '613k', '243k', '569k', '778k', '683k',\n",
       "       '592k', '319k', '186k', '840k', '647k', '191k', '373k', '437k',\n",
       "       '598k', '716k', '585k', '982k', '222k', '219k', '55k', '948k',\n",
       "       '323k', '691k', '511k', '951k', '963k', '25k', '554k', '351k',\n",
       "       '27k', '82k', '208k', '913k', '514k', '551k', '29k', '103k',\n",
       "       '898k', '743k', '116k', '153k', '209k', '353k', '499k', '173k',\n",
       "       '597k', '809k', '122k', '411k', '400k', '801k', '787k', '237k',\n",
       "       '50k', '643k', '986k', '97k', '516k', '837k', '780k', '961k',\n",
       "       '269k', '20k', '498k', '600k', '749k', '642k', '881k', '72k',\n",
       "       '656k', '601k', '221k', '228k', '108k', '940k', '176k', '33k',\n",
       "       '663k', '34k', '942k', '259k', '164k', '458k', '245k', '629k',\n",
       "       '28k', '288k', '775k', '785k', '636k', '916k', '994k', '309k',\n",
       "       '485k', '914k', '903k', '608k', '500k', '54k', '562k', '847k',\n",
       "       '957k', '688k', '811k', '270k', '48k', '329k', '523k', '921k',\n",
       "       '874k', '981k', '784k', '280k', '24k', '518k', '754k', '892k',\n",
       "       '154k', '860k', '364k', '387k', '626k', '161k', '879k', '39k',\n",
       "       '970k', '170k', '141k', '160k', '144k', '143k', '190k', '376k',\n",
       "       '193k', '246k', '73k', '658k', '992k', '253k', '420k', '404k', 0,\n",
       "       '470k', '226k', '240k', '89k', '234k', '257k', '861k', '467k',\n",
       "       '157k', '44k', '676k', '67k', '552k', '885k', '1020k', '582k',\n",
       "       '619k'], dtype=object)"
      ]
     },
     "execution_count": 38,
     "metadata": {},
     "output_type": "execute_result"
    }
   ],
   "source": [
    "df['Size']= df['Size'].replace({'1,000+': 0})\n",
    "df['Size'].unique()"
   ]
  },
  {
   "cell_type": "markdown",
   "id": "c21e1e59",
   "metadata": {
    "papermill": {
     "duration": 0.019995,
     "end_time": "2025-03-08T15:01:31.920426",
     "exception": false,
     "start_time": "2025-03-08T15:01:31.900431",
     "status": "completed"
    },
    "tags": []
   },
   "source": [
    "**We found 'Veries with device' value that considered isn't know**"
   ]
  },
  {
   "cell_type": "code",
   "execution_count": 39,
   "id": "5db7f8e4",
   "metadata": {
    "execution": {
     "iopub.execute_input": "2025-03-08T15:01:31.962026Z",
     "iopub.status.busy": "2025-03-08T15:01:31.961608Z",
     "iopub.status.idle": "2025-03-08T15:01:31.973160Z",
     "shell.execute_reply": "2025-03-08T15:01:31.971888Z"
    },
    "papermill": {
     "duration": 0.034151,
     "end_time": "2025-03-08T15:01:31.975330",
     "exception": false,
     "start_time": "2025-03-08T15:01:31.941179",
     "status": "completed"
    },
    "tags": []
   },
   "outputs": [
    {
     "data": {
      "text/plain": [
       "Size\n",
       "False    8432\n",
       "True     1228\n",
       "Name: count, dtype: int64"
      ]
     },
     "execution_count": 39,
     "metadata": {},
     "output_type": "execute_result"
    }
   ],
   "source": [
    "(df['Size']=='Varies with device').value_counts()"
   ]
  },
  {
   "cell_type": "markdown",
   "id": "31c2fc73",
   "metadata": {
    "papermill": {
     "duration": 0.020489,
     "end_time": "2025-03-08T15:01:32.016702",
     "exception": false,
     "start_time": "2025-03-08T15:01:31.996213",
     "status": "completed"
    },
    "tags": []
   },
   "source": [
    "* **Replace it by 0 and from first unique check we show that this column doesn't contain 0 values so when used this later must don't take this value into considration**\n",
    "* **Convert the data type of that column to be float**\n",
    "  > convert all values in that Column to be in MB"
   ]
  },
  {
   "cell_type": "code",
   "execution_count": 40,
   "id": "758a8843",
   "metadata": {
    "execution": {
     "iopub.execute_input": "2025-03-08T15:01:32.060774Z",
     "iopub.status.busy": "2025-03-08T15:01:32.060401Z",
     "iopub.status.idle": "2025-03-08T15:01:32.081683Z",
     "shell.execute_reply": "2025-03-08T15:01:32.080310Z"
    },
    "papermill": {
     "duration": 0.047034,
     "end_time": "2025-03-08T15:01:32.083548",
     "exception": false,
     "start_time": "2025-03-08T15:01:32.036514",
     "status": "completed"
    },
    "tags": []
   },
   "outputs": [
    {
     "data": {
      "text/html": [
       "<div>\n",
       "<style scoped>\n",
       "    .dataframe tbody tr th:only-of-type {\n",
       "        vertical-align: middle;\n",
       "    }\n",
       "\n",
       "    .dataframe tbody tr th {\n",
       "        vertical-align: top;\n",
       "    }\n",
       "\n",
       "    .dataframe thead th {\n",
       "        text-align: right;\n",
       "    }\n",
       "</style>\n",
       "<table border=\"1\" class=\"dataframe\">\n",
       "  <thead>\n",
       "    <tr style=\"text-align: right;\">\n",
       "      <th></th>\n",
       "      <th>App Number</th>\n",
       "      <th>App</th>\n",
       "      <th>Category</th>\n",
       "      <th>Rating</th>\n",
       "      <th>Reviews</th>\n",
       "      <th>Size in (MB)</th>\n",
       "      <th>Installs</th>\n",
       "      <th>Price</th>\n",
       "      <th>Content Rating</th>\n",
       "      <th>Genres</th>\n",
       "      <th>Released</th>\n",
       "      <th>Current Ver</th>\n",
       "      <th>Android Ver</th>\n",
       "    </tr>\n",
       "  </thead>\n",
       "  <tbody>\n",
       "    <tr>\n",
       "      <th>0</th>\n",
       "      <td>0</td>\n",
       "      <td>Photo Editor &amp; Candy Camera &amp; Grid &amp; ScrapBook</td>\n",
       "      <td>ART_AND_DESIGN</td>\n",
       "      <td>4.1</td>\n",
       "      <td>159</td>\n",
       "      <td>19.0</td>\n",
       "      <td>10,000+</td>\n",
       "      <td>0</td>\n",
       "      <td>Everyone</td>\n",
       "      <td>Art &amp; Design</td>\n",
       "      <td>2018-01-07</td>\n",
       "      <td>1.0.0</td>\n",
       "      <td>4.0.3 and up</td>\n",
       "    </tr>\n",
       "    <tr>\n",
       "      <th>1</th>\n",
       "      <td>1</td>\n",
       "      <td>U Launcher Lite – FREE Live Cool Themes, Hide ...</td>\n",
       "      <td>ART_AND_DESIGN</td>\n",
       "      <td>4.7</td>\n",
       "      <td>87510</td>\n",
       "      <td>8.7</td>\n",
       "      <td>5,000,000+</td>\n",
       "      <td>0</td>\n",
       "      <td>Everyone</td>\n",
       "      <td>Art &amp; Design</td>\n",
       "      <td>2018-08-01</td>\n",
       "      <td>1.2.4</td>\n",
       "      <td>4.0.3 and up</td>\n",
       "    </tr>\n",
       "    <tr>\n",
       "      <th>2</th>\n",
       "      <td>2</td>\n",
       "      <td>Sketch - Draw &amp; Paint</td>\n",
       "      <td>ART_AND_DESIGN</td>\n",
       "      <td>4.5</td>\n",
       "      <td>215644</td>\n",
       "      <td>25.0</td>\n",
       "      <td>50,000,000+</td>\n",
       "      <td>0</td>\n",
       "      <td>Teen</td>\n",
       "      <td>Art &amp; Design</td>\n",
       "      <td>2018-06-08</td>\n",
       "      <td>Varies with device</td>\n",
       "      <td>4.2 and up</td>\n",
       "    </tr>\n",
       "    <tr>\n",
       "      <th>3</th>\n",
       "      <td>3</td>\n",
       "      <td>Pixel Draw - Number Art Coloring Book</td>\n",
       "      <td>ART_AND_DESIGN</td>\n",
       "      <td>4.3</td>\n",
       "      <td>967</td>\n",
       "      <td>2.8</td>\n",
       "      <td>100,000+</td>\n",
       "      <td>0</td>\n",
       "      <td>Everyone</td>\n",
       "      <td>Art &amp; Design;Creativity</td>\n",
       "      <td>2018-06-20</td>\n",
       "      <td>1.1</td>\n",
       "      <td>4.4 and up</td>\n",
       "    </tr>\n",
       "    <tr>\n",
       "      <th>4</th>\n",
       "      <td>4</td>\n",
       "      <td>Paper flowers instructions</td>\n",
       "      <td>ART_AND_DESIGN</td>\n",
       "      <td>4.4</td>\n",
       "      <td>167</td>\n",
       "      <td>5.6</td>\n",
       "      <td>50,000+</td>\n",
       "      <td>0</td>\n",
       "      <td>Everyone</td>\n",
       "      <td>Art &amp; Design</td>\n",
       "      <td>2017-03-26</td>\n",
       "      <td>1.0</td>\n",
       "      <td>2.3 and up</td>\n",
       "    </tr>\n",
       "  </tbody>\n",
       "</table>\n",
       "</div>"
      ],
      "text/plain": [
       "   App Number                                                App  \\\n",
       "0           0     Photo Editor & Candy Camera & Grid & ScrapBook   \n",
       "1           1  U Launcher Lite – FREE Live Cool Themes, Hide ...   \n",
       "2           2                              Sketch - Draw & Paint   \n",
       "3           3              Pixel Draw - Number Art Coloring Book   \n",
       "4           4                         Paper flowers instructions   \n",
       "\n",
       "         Category  Rating  Reviews  Size in (MB)     Installs Price  \\\n",
       "0  ART_AND_DESIGN     4.1      159          19.0      10,000+     0   \n",
       "1  ART_AND_DESIGN     4.7    87510           8.7   5,000,000+     0   \n",
       "2  ART_AND_DESIGN     4.5   215644          25.0  50,000,000+     0   \n",
       "3  ART_AND_DESIGN     4.3      967           2.8     100,000+     0   \n",
       "4  ART_AND_DESIGN     4.4      167           5.6      50,000+     0   \n",
       "\n",
       "  Content Rating                   Genres   Released         Current Ver  \\\n",
       "0       Everyone             Art & Design 2018-01-07               1.0.0   \n",
       "1       Everyone             Art & Design 2018-08-01               1.2.4   \n",
       "2           Teen             Art & Design 2018-06-08  Varies with device   \n",
       "3       Everyone  Art & Design;Creativity 2018-06-20                 1.1   \n",
       "4       Everyone             Art & Design 2017-03-26                 1.0   \n",
       "\n",
       "    Android Ver  \n",
       "0  4.0.3 and up  \n",
       "1  4.0.3 and up  \n",
       "2    4.2 and up  \n",
       "3    4.4 and up  \n",
       "4    2.3 and up  "
      ]
     },
     "execution_count": 40,
     "metadata": {},
     "output_type": "execute_result"
    }
   ],
   "source": [
    "df['Size']=df['Size'].replace({'Varies with device': 0})\n",
    "df['Size']=df['Size'].apply(lambda x:\n",
    "                            float(x.replace('M','')) if 'M' in str(x) else\n",
    "                            float(x.replace('K',''))/1024 if 'K' in str(x) else\n",
    "                            float(x.replace('k',''))/1024 if 'k' in str(x) else\n",
    "                            float(x))\n",
    "df.rename(columns={'Size':'Size in (MB)'},inplace=True)\n",
    "df.head()"
   ]
  },
  {
   "cell_type": "code",
   "execution_count": 41,
   "id": "330dedfe",
   "metadata": {
    "execution": {
     "iopub.execute_input": "2025-03-08T15:01:32.125308Z",
     "iopub.status.busy": "2025-03-08T15:01:32.125019Z",
     "iopub.status.idle": "2025-03-08T15:01:32.131499Z",
     "shell.execute_reply": "2025-03-08T15:01:32.130704Z"
    },
    "papermill": {
     "duration": 0.028541,
     "end_time": "2025-03-08T15:01:32.132832",
     "exception": false,
     "start_time": "2025-03-08T15:01:32.104291",
     "status": "completed"
    },
    "tags": []
   },
   "outputs": [
    {
     "data": {
      "text/plain": [
       "App Number                 int64\n",
       "App                       object\n",
       "Category                  object\n",
       "Rating                   float64\n",
       "Reviews                    int64\n",
       "Size in (MB)             float64\n",
       "Installs                  object\n",
       "Price                     object\n",
       "Content Rating            object\n",
       "Genres                    object\n",
       "Released          datetime64[ns]\n",
       "Current Ver               object\n",
       "Android Ver               object\n",
       "dtype: object"
      ]
     },
     "execution_count": 41,
     "metadata": {},
     "output_type": "execute_result"
    }
   ],
   "source": [
    "df.dtypes"
   ]
  },
  {
   "cell_type": "code",
   "execution_count": 42,
   "id": "19668cf1",
   "metadata": {
    "execution": {
     "iopub.execute_input": "2025-03-08T15:01:32.175032Z",
     "iopub.status.busy": "2025-03-08T15:01:32.174721Z",
     "iopub.status.idle": "2025-03-08T15:01:32.185921Z",
     "shell.execute_reply": "2025-03-08T15:01:32.184934Z"
    },
    "papermill": {
     "duration": 0.033142,
     "end_time": "2025-03-08T15:01:32.187545",
     "exception": false,
     "start_time": "2025-03-08T15:01:32.154403",
     "status": "completed"
    },
    "tags": []
   },
   "outputs": [
    {
     "data": {
      "text/plain": [
       "App Number        0\n",
       "App               0\n",
       "Category          0\n",
       "Rating            0\n",
       "Reviews           0\n",
       "Size in (MB)      0\n",
       "Installs          0\n",
       "Price             0\n",
       "Content Rating    0\n",
       "Genres            0\n",
       "Released          0\n",
       "Current Ver       8\n",
       "Android Ver       3\n",
       "dtype: int64"
      ]
     },
     "execution_count": 42,
     "metadata": {},
     "output_type": "execute_result"
    }
   ],
   "source": [
    "df.isnull().sum()"
   ]
  },
  {
   "cell_type": "markdown",
   "id": "75173884",
   "metadata": {
    "papermill": {
     "duration": 0.019434,
     "end_time": "2025-03-08T15:01:32.227318",
     "exception": false,
     "start_time": "2025-03-08T15:01:32.207884",
     "status": "completed"
    },
    "tags": []
   },
   "source": [
    "**Let's check 'Installs' Column values**"
   ]
  },
  {
   "cell_type": "code",
   "execution_count": 43,
   "id": "ffe61d65",
   "metadata": {
    "execution": {
     "iopub.execute_input": "2025-03-08T15:01:32.268888Z",
     "iopub.status.busy": "2025-03-08T15:01:32.268573Z",
     "iopub.status.idle": "2025-03-08T15:01:32.275765Z",
     "shell.execute_reply": "2025-03-08T15:01:32.274689Z"
    },
    "papermill": {
     "duration": 0.029973,
     "end_time": "2025-03-08T15:01:32.277409",
     "exception": false,
     "start_time": "2025-03-08T15:01:32.247436",
     "status": "completed"
    },
    "tags": []
   },
   "outputs": [
    {
     "data": {
      "text/plain": [
       "array(['10,000+', '5,000,000+', '50,000,000+', '100,000+', '50,000+',\n",
       "       '1,000,000+', '10,000,000+', '5,000+', '500,000+',\n",
       "       '1,000,000,000+', '100,000,000+', '1,000+', '500,000,000+', '50+',\n",
       "       '100+', '500+', '10+', '1+', '5+', '0+', '0', 'Free'], dtype=object)"
      ]
     },
     "execution_count": 43,
     "metadata": {},
     "output_type": "execute_result"
    }
   ],
   "source": [
    "df['Installs'].unique()"
   ]
  },
  {
   "cell_type": "markdown",
   "id": "ac22fdf2",
   "metadata": {
    "papermill": {
     "duration": 0.019098,
     "end_time": "2025-03-08T15:01:32.316527",
     "exception": false,
     "start_time": "2025-03-08T15:01:32.297429",
     "status": "completed"
    },
    "tags": []
   },
   "source": [
    "**We found 'Free' value let's check How many rows cotain that**"
   ]
  },
  {
   "cell_type": "code",
   "execution_count": 44,
   "id": "45f10fc9",
   "metadata": {
    "execution": {
     "iopub.execute_input": "2025-03-08T15:01:32.357206Z",
     "iopub.status.busy": "2025-03-08T15:01:32.356874Z",
     "iopub.status.idle": "2025-03-08T15:01:32.370350Z",
     "shell.execute_reply": "2025-03-08T15:01:32.368637Z"
    },
    "papermill": {
     "duration": 0.036003,
     "end_time": "2025-03-08T15:01:32.372327",
     "exception": false,
     "start_time": "2025-03-08T15:01:32.336324",
     "status": "completed"
    },
    "tags": []
   },
   "outputs": [
    {
     "data": {
      "text/html": [
       "<div>\n",
       "<style scoped>\n",
       "    .dataframe tbody tr th:only-of-type {\n",
       "        vertical-align: middle;\n",
       "    }\n",
       "\n",
       "    .dataframe tbody tr th {\n",
       "        vertical-align: top;\n",
       "    }\n",
       "\n",
       "    .dataframe thead th {\n",
       "        text-align: right;\n",
       "    }\n",
       "</style>\n",
       "<table border=\"1\" class=\"dataframe\">\n",
       "  <thead>\n",
       "    <tr style=\"text-align: right;\">\n",
       "      <th></th>\n",
       "      <th>App Number</th>\n",
       "      <th>App</th>\n",
       "      <th>Category</th>\n",
       "      <th>Rating</th>\n",
       "      <th>Reviews</th>\n",
       "      <th>Size in (MB)</th>\n",
       "      <th>Installs</th>\n",
       "      <th>Price</th>\n",
       "      <th>Content Rating</th>\n",
       "      <th>Genres</th>\n",
       "      <th>Released</th>\n",
       "      <th>Current Ver</th>\n",
       "      <th>Android Ver</th>\n",
       "    </tr>\n",
       "  </thead>\n",
       "  <tbody>\n",
       "    <tr>\n",
       "      <th>9294</th>\n",
       "      <td>9294</td>\n",
       "      <td>Life Made WI-Fi Touchscreen Photo Frame</td>\n",
       "      <td>UnKnown</td>\n",
       "      <td>4.175076</td>\n",
       "      <td>3000000</td>\n",
       "      <td>0.0</td>\n",
       "      <td>Free</td>\n",
       "      <td>Everyone</td>\n",
       "      <td>UnKnown</td>\n",
       "      <td>February 11, 2018</td>\n",
       "      <td>2018-02-11</td>\n",
       "      <td>4.0 and up</td>\n",
       "      <td>NaN</td>\n",
       "    </tr>\n",
       "  </tbody>\n",
       "</table>\n",
       "</div>"
      ],
      "text/plain": [
       "      App Number                                      App Category    Rating  \\\n",
       "9294        9294  Life Made WI-Fi Touchscreen Photo Frame  UnKnown  4.175076   \n",
       "\n",
       "      Reviews  Size in (MB) Installs     Price Content Rating  \\\n",
       "9294  3000000           0.0     Free  Everyone        UnKnown   \n",
       "\n",
       "                 Genres   Released Current Ver Android Ver  \n",
       "9294  February 11, 2018 2018-02-11  4.0 and up         NaN  "
      ]
     },
     "execution_count": 44,
     "metadata": {},
     "output_type": "execute_result"
    }
   ],
   "source": [
    "df[df['Installs']=='Free']"
   ]
  },
  {
   "cell_type": "markdown",
   "id": "3b26f463",
   "metadata": {
    "papermill": {
     "duration": 0.021262,
     "end_time": "2025-03-08T15:01:32.414355",
     "exception": false,
     "start_time": "2025-03-08T15:01:32.393093",
     "status": "completed"
    },
    "tags": []
   },
   "source": [
    "* **We couldn't expect this value so I'll replace that by 0**\n",
    "* **Let's change + and , signs to convert column to integar data type**\n",
    "* **By change them the column will contains min values to we should change its name**"
   ]
  },
  {
   "cell_type": "code",
   "execution_count": 45,
   "id": "37ff029b",
   "metadata": {
    "execution": {
     "iopub.execute_input": "2025-03-08T15:01:32.456501Z",
     "iopub.status.busy": "2025-03-08T15:01:32.456126Z",
     "iopub.status.idle": "2025-03-08T15:01:32.477578Z",
     "shell.execute_reply": "2025-03-08T15:01:32.476299Z"
    },
    "papermill": {
     "duration": 0.044367,
     "end_time": "2025-03-08T15:01:32.479438",
     "exception": false,
     "start_time": "2025-03-08T15:01:32.435071",
     "status": "completed"
    },
    "tags": []
   },
   "outputs": [
    {
     "data": {
      "text/html": [
       "<div>\n",
       "<style scoped>\n",
       "    .dataframe tbody tr th:only-of-type {\n",
       "        vertical-align: middle;\n",
       "    }\n",
       "\n",
       "    .dataframe tbody tr th {\n",
       "        vertical-align: top;\n",
       "    }\n",
       "\n",
       "    .dataframe thead th {\n",
       "        text-align: right;\n",
       "    }\n",
       "</style>\n",
       "<table border=\"1\" class=\"dataframe\">\n",
       "  <thead>\n",
       "    <tr style=\"text-align: right;\">\n",
       "      <th></th>\n",
       "      <th>App Number</th>\n",
       "      <th>App</th>\n",
       "      <th>Category</th>\n",
       "      <th>Rating</th>\n",
       "      <th>Reviews</th>\n",
       "      <th>Size in (MB)</th>\n",
       "      <th>Min Installs</th>\n",
       "      <th>Price</th>\n",
       "      <th>Content Rating</th>\n",
       "      <th>Genres</th>\n",
       "      <th>Released</th>\n",
       "      <th>Current Ver</th>\n",
       "      <th>Android Ver</th>\n",
       "    </tr>\n",
       "  </thead>\n",
       "  <tbody>\n",
       "    <tr>\n",
       "      <th>0</th>\n",
       "      <td>0</td>\n",
       "      <td>Photo Editor &amp; Candy Camera &amp; Grid &amp; ScrapBook</td>\n",
       "      <td>ART_AND_DESIGN</td>\n",
       "      <td>4.1</td>\n",
       "      <td>159</td>\n",
       "      <td>19.0</td>\n",
       "      <td>10000</td>\n",
       "      <td>0</td>\n",
       "      <td>Everyone</td>\n",
       "      <td>Art &amp; Design</td>\n",
       "      <td>2018-01-07</td>\n",
       "      <td>1.0.0</td>\n",
       "      <td>4.0.3 and up</td>\n",
       "    </tr>\n",
       "    <tr>\n",
       "      <th>1</th>\n",
       "      <td>1</td>\n",
       "      <td>U Launcher Lite – FREE Live Cool Themes, Hide ...</td>\n",
       "      <td>ART_AND_DESIGN</td>\n",
       "      <td>4.7</td>\n",
       "      <td>87510</td>\n",
       "      <td>8.7</td>\n",
       "      <td>5000000</td>\n",
       "      <td>0</td>\n",
       "      <td>Everyone</td>\n",
       "      <td>Art &amp; Design</td>\n",
       "      <td>2018-08-01</td>\n",
       "      <td>1.2.4</td>\n",
       "      <td>4.0.3 and up</td>\n",
       "    </tr>\n",
       "    <tr>\n",
       "      <th>2</th>\n",
       "      <td>2</td>\n",
       "      <td>Sketch - Draw &amp; Paint</td>\n",
       "      <td>ART_AND_DESIGN</td>\n",
       "      <td>4.5</td>\n",
       "      <td>215644</td>\n",
       "      <td>25.0</td>\n",
       "      <td>50000000</td>\n",
       "      <td>0</td>\n",
       "      <td>Teen</td>\n",
       "      <td>Art &amp; Design</td>\n",
       "      <td>2018-06-08</td>\n",
       "      <td>Varies with device</td>\n",
       "      <td>4.2 and up</td>\n",
       "    </tr>\n",
       "    <tr>\n",
       "      <th>3</th>\n",
       "      <td>3</td>\n",
       "      <td>Pixel Draw - Number Art Coloring Book</td>\n",
       "      <td>ART_AND_DESIGN</td>\n",
       "      <td>4.3</td>\n",
       "      <td>967</td>\n",
       "      <td>2.8</td>\n",
       "      <td>100000</td>\n",
       "      <td>0</td>\n",
       "      <td>Everyone</td>\n",
       "      <td>Art &amp; Design;Creativity</td>\n",
       "      <td>2018-06-20</td>\n",
       "      <td>1.1</td>\n",
       "      <td>4.4 and up</td>\n",
       "    </tr>\n",
       "    <tr>\n",
       "      <th>4</th>\n",
       "      <td>4</td>\n",
       "      <td>Paper flowers instructions</td>\n",
       "      <td>ART_AND_DESIGN</td>\n",
       "      <td>4.4</td>\n",
       "      <td>167</td>\n",
       "      <td>5.6</td>\n",
       "      <td>50000</td>\n",
       "      <td>0</td>\n",
       "      <td>Everyone</td>\n",
       "      <td>Art &amp; Design</td>\n",
       "      <td>2017-03-26</td>\n",
       "      <td>1.0</td>\n",
       "      <td>2.3 and up</td>\n",
       "    </tr>\n",
       "  </tbody>\n",
       "</table>\n",
       "</div>"
      ],
      "text/plain": [
       "   App Number                                                App  \\\n",
       "0           0     Photo Editor & Candy Camera & Grid & ScrapBook   \n",
       "1           1  U Launcher Lite – FREE Live Cool Themes, Hide ...   \n",
       "2           2                              Sketch - Draw & Paint   \n",
       "3           3              Pixel Draw - Number Art Coloring Book   \n",
       "4           4                         Paper flowers instructions   \n",
       "\n",
       "         Category  Rating  Reviews  Size in (MB)  Min Installs Price  \\\n",
       "0  ART_AND_DESIGN     4.1      159          19.0         10000     0   \n",
       "1  ART_AND_DESIGN     4.7    87510           8.7       5000000     0   \n",
       "2  ART_AND_DESIGN     4.5   215644          25.0      50000000     0   \n",
       "3  ART_AND_DESIGN     4.3      967           2.8        100000     0   \n",
       "4  ART_AND_DESIGN     4.4      167           5.6         50000     0   \n",
       "\n",
       "  Content Rating                   Genres   Released         Current Ver  \\\n",
       "0       Everyone             Art & Design 2018-01-07               1.0.0   \n",
       "1       Everyone             Art & Design 2018-08-01               1.2.4   \n",
       "2           Teen             Art & Design 2018-06-08  Varies with device   \n",
       "3       Everyone  Art & Design;Creativity 2018-06-20                 1.1   \n",
       "4       Everyone             Art & Design 2017-03-26                 1.0   \n",
       "\n",
       "    Android Ver  \n",
       "0  4.0.3 and up  \n",
       "1  4.0.3 and up  \n",
       "2    4.2 and up  \n",
       "3    4.4 and up  \n",
       "4    2.3 and up  "
      ]
     },
     "execution_count": 45,
     "metadata": {},
     "output_type": "execute_result"
    }
   ],
   "source": [
    "df['Installs']=df['Installs'].replace({'Free':0})\n",
    "df['Installs']=df['Installs'].apply(lambda x:\n",
    "                                   int(x.replace('+','').replace(',','')) if '+' in str(x)\n",
    "                                   else int(x))\n",
    "df.rename(columns={'Installs':'Min Installs'},inplace=True)\n",
    "df.head()"
   ]
  },
  {
   "cell_type": "code",
   "execution_count": 46,
   "id": "0ce7e75f",
   "metadata": {
    "execution": {
     "iopub.execute_input": "2025-03-08T15:01:32.521592Z",
     "iopub.status.busy": "2025-03-08T15:01:32.521261Z",
     "iopub.status.idle": "2025-03-08T15:01:32.526948Z",
     "shell.execute_reply": "2025-03-08T15:01:32.526102Z"
    },
    "papermill": {
     "duration": 0.028862,
     "end_time": "2025-03-08T15:01:32.528795",
     "exception": false,
     "start_time": "2025-03-08T15:01:32.499933",
     "status": "completed"
    },
    "tags": []
   },
   "outputs": [
    {
     "data": {
      "text/plain": [
       "App Number                 int64\n",
       "App                       object\n",
       "Category                  object\n",
       "Rating                   float64\n",
       "Reviews                    int64\n",
       "Size in (MB)             float64\n",
       "Min Installs               int64\n",
       "Price                     object\n",
       "Content Rating            object\n",
       "Genres                    object\n",
       "Released          datetime64[ns]\n",
       "Current Ver               object\n",
       "Android Ver               object\n",
       "dtype: object"
      ]
     },
     "execution_count": 46,
     "metadata": {},
     "output_type": "execute_result"
    }
   ],
   "source": [
    "df.dtypes"
   ]
  },
  {
   "cell_type": "markdown",
   "id": "f41b24c2",
   "metadata": {
    "papermill": {
     "duration": 0.020257,
     "end_time": "2025-03-08T15:01:32.569930",
     "exception": false,
     "start_time": "2025-03-08T15:01:32.549673",
     "status": "completed"
    },
    "tags": []
   },
   "source": [
    "**Check 'Price' column values**"
   ]
  },
  {
   "cell_type": "code",
   "execution_count": 47,
   "id": "f9f3bbd9",
   "metadata": {
    "execution": {
     "iopub.execute_input": "2025-03-08T15:01:32.613179Z",
     "iopub.status.busy": "2025-03-08T15:01:32.612770Z",
     "iopub.status.idle": "2025-03-08T15:01:32.621027Z",
     "shell.execute_reply": "2025-03-08T15:01:32.619688Z"
    },
    "papermill": {
     "duration": 0.03231,
     "end_time": "2025-03-08T15:01:32.622648",
     "exception": false,
     "start_time": "2025-03-08T15:01:32.590338",
     "status": "completed"
    },
    "tags": []
   },
   "outputs": [
    {
     "data": {
      "text/plain": [
       "array(['0', '$4.99', '$3.99', '$1.49', '$2.99', '$7.99', '$3.49', '$1.99',\n",
       "       '$5.99', '$6.99', '$9.99', '$7.49', '$0.99', '$11.99', '$79.99',\n",
       "       '$14.99', '$1.00', '$2.49', '$24.99', '$10.99', '$1.50', '$19.99',\n",
       "       '$29.99', '$15.99', '$9.00', '$10.00', '$16.99', '$74.99', '$5.49',\n",
       "       '$33.99', '$39.99', '$3.95', '$4.49', '$1.70', '$8.99', '$2.00',\n",
       "       '$3.88', '$25.99', '$399.99', '$17.99', '$400.00', '$3.02',\n",
       "       '$1.76', '$4.84', '$4.77', '$1.61', '$2.50', '$1.59', '$6.49',\n",
       "       '$1.29', '$5.00', '$13.99', '$299.99', '$379.99', '$37.99',\n",
       "       '$18.99', '$389.99', '$19.90', '$8.49', '$1.75', '$14.00', '$4.85',\n",
       "       '$46.99', '$109.99', '$154.99', '$3.08', '$2.59', '$4.80', '$1.96',\n",
       "       '$19.40', '$3.90', '$4.59', '$15.46', '$3.04', '$12.99', '$4.29',\n",
       "       '$2.60', '$3.28', '$4.60', '$28.99', '$2.95', '$2.90', '$1.97',\n",
       "       '$200.00', '$89.99', '$2.56', '$30.99', '$3.61', '$394.99',\n",
       "       '$1.26', 'Everyone', '$1.20', '$1.04'], dtype=object)"
      ]
     },
     "execution_count": 47,
     "metadata": {},
     "output_type": "execute_result"
    }
   ],
   "source": [
    "df['Price'].unique()"
   ]
  },
  {
   "cell_type": "code",
   "execution_count": 48,
   "id": "2f670f62",
   "metadata": {
    "execution": {
     "iopub.execute_input": "2025-03-08T15:01:32.666208Z",
     "iopub.status.busy": "2025-03-08T15:01:32.665903Z",
     "iopub.status.idle": "2025-03-08T15:01:32.680476Z",
     "shell.execute_reply": "2025-03-08T15:01:32.679452Z"
    },
    "papermill": {
     "duration": 0.039395,
     "end_time": "2025-03-08T15:01:32.682552",
     "exception": false,
     "start_time": "2025-03-08T15:01:32.643157",
     "status": "completed"
    },
    "tags": []
   },
   "outputs": [
    {
     "data": {
      "text/html": [
       "<div>\n",
       "<style scoped>\n",
       "    .dataframe tbody tr th:only-of-type {\n",
       "        vertical-align: middle;\n",
       "    }\n",
       "\n",
       "    .dataframe tbody tr th {\n",
       "        vertical-align: top;\n",
       "    }\n",
       "\n",
       "    .dataframe thead th {\n",
       "        text-align: right;\n",
       "    }\n",
       "</style>\n",
       "<table border=\"1\" class=\"dataframe\">\n",
       "  <thead>\n",
       "    <tr style=\"text-align: right;\">\n",
       "      <th></th>\n",
       "      <th>App Number</th>\n",
       "      <th>App</th>\n",
       "      <th>Category</th>\n",
       "      <th>Rating</th>\n",
       "      <th>Reviews</th>\n",
       "      <th>Size in (MB)</th>\n",
       "      <th>Min Installs</th>\n",
       "      <th>Price</th>\n",
       "      <th>Content Rating</th>\n",
       "      <th>Genres</th>\n",
       "      <th>Released</th>\n",
       "      <th>Current Ver</th>\n",
       "      <th>Android Ver</th>\n",
       "    </tr>\n",
       "  </thead>\n",
       "  <tbody>\n",
       "    <tr>\n",
       "      <th>9294</th>\n",
       "      <td>9294</td>\n",
       "      <td>Life Made WI-Fi Touchscreen Photo Frame</td>\n",
       "      <td>UnKnown</td>\n",
       "      <td>4.175076</td>\n",
       "      <td>3000000</td>\n",
       "      <td>0.0</td>\n",
       "      <td>0</td>\n",
       "      <td>Everyone</td>\n",
       "      <td>UnKnown</td>\n",
       "      <td>February 11, 2018</td>\n",
       "      <td>2018-02-11</td>\n",
       "      <td>4.0 and up</td>\n",
       "      <td>NaN</td>\n",
       "    </tr>\n",
       "  </tbody>\n",
       "</table>\n",
       "</div>"
      ],
      "text/plain": [
       "      App Number                                      App Category    Rating  \\\n",
       "9294        9294  Life Made WI-Fi Touchscreen Photo Frame  UnKnown  4.175076   \n",
       "\n",
       "      Reviews  Size in (MB)  Min Installs     Price Content Rating  \\\n",
       "9294  3000000           0.0             0  Everyone        UnKnown   \n",
       "\n",
       "                 Genres   Released Current Ver Android Ver  \n",
       "9294  February 11, 2018 2018-02-11  4.0 and up         NaN  "
      ]
     },
     "execution_count": 48,
     "metadata": {},
     "output_type": "execute_result"
    }
   ],
   "source": [
    "df[df['Price']=='Everyone']"
   ]
  },
  {
   "cell_type": "markdown",
   "id": "7d38c7d1",
   "metadata": {
    "papermill": {
     "duration": 0.020502,
     "end_time": "2025-03-08T15:01:32.726037",
     "exception": false,
     "start_time": "2025-03-08T15:01:32.705535",
     "status": "completed"
    },
    "tags": []
   },
   "source": [
    "* **This row was contain 'Free' value so we can replace that value by 0**\n",
    "* **drop $ sign to convert that row to float**"
   ]
  },
  {
   "cell_type": "markdown",
   "id": "5ace3426",
   "metadata": {
    "papermill": {
     "duration": 0.021449,
     "end_time": "2025-03-08T15:01:32.771504",
     "exception": false,
     "start_time": "2025-03-08T15:01:32.750055",
     "status": "completed"
    },
    "tags": []
   },
   "source": [
    "* **Change its name to know that in $**"
   ]
  },
  {
   "cell_type": "code",
   "execution_count": 49,
   "id": "04eeeea3",
   "metadata": {
    "execution": {
     "iopub.execute_input": "2025-03-08T15:01:32.817345Z",
     "iopub.status.busy": "2025-03-08T15:01:32.816997Z",
     "iopub.status.idle": "2025-03-08T15:01:32.838277Z",
     "shell.execute_reply": "2025-03-08T15:01:32.836452Z"
    },
    "papermill": {
     "duration": 0.044922,
     "end_time": "2025-03-08T15:01:32.840066",
     "exception": false,
     "start_time": "2025-03-08T15:01:32.795144",
     "status": "completed"
    },
    "tags": []
   },
   "outputs": [
    {
     "data": {
      "text/html": [
       "<div>\n",
       "<style scoped>\n",
       "    .dataframe tbody tr th:only-of-type {\n",
       "        vertical-align: middle;\n",
       "    }\n",
       "\n",
       "    .dataframe tbody tr th {\n",
       "        vertical-align: top;\n",
       "    }\n",
       "\n",
       "    .dataframe thead th {\n",
       "        text-align: right;\n",
       "    }\n",
       "</style>\n",
       "<table border=\"1\" class=\"dataframe\">\n",
       "  <thead>\n",
       "    <tr style=\"text-align: right;\">\n",
       "      <th></th>\n",
       "      <th>App Number</th>\n",
       "      <th>App</th>\n",
       "      <th>Category</th>\n",
       "      <th>Rating</th>\n",
       "      <th>Reviews</th>\n",
       "      <th>Size in (MB)</th>\n",
       "      <th>Min Installs</th>\n",
       "      <th>Price in $</th>\n",
       "      <th>Content Rating</th>\n",
       "      <th>Genres</th>\n",
       "      <th>Released</th>\n",
       "      <th>Current Ver</th>\n",
       "      <th>Android Ver</th>\n",
       "    </tr>\n",
       "  </thead>\n",
       "  <tbody>\n",
       "    <tr>\n",
       "      <th>0</th>\n",
       "      <td>0</td>\n",
       "      <td>Photo Editor &amp; Candy Camera &amp; Grid &amp; ScrapBook</td>\n",
       "      <td>ART_AND_DESIGN</td>\n",
       "      <td>4.1</td>\n",
       "      <td>159</td>\n",
       "      <td>19.0</td>\n",
       "      <td>10000</td>\n",
       "      <td>0.0</td>\n",
       "      <td>Everyone</td>\n",
       "      <td>Art &amp; Design</td>\n",
       "      <td>2018-01-07</td>\n",
       "      <td>1.0.0</td>\n",
       "      <td>4.0.3 and up</td>\n",
       "    </tr>\n",
       "    <tr>\n",
       "      <th>1</th>\n",
       "      <td>1</td>\n",
       "      <td>U Launcher Lite – FREE Live Cool Themes, Hide ...</td>\n",
       "      <td>ART_AND_DESIGN</td>\n",
       "      <td>4.7</td>\n",
       "      <td>87510</td>\n",
       "      <td>8.7</td>\n",
       "      <td>5000000</td>\n",
       "      <td>0.0</td>\n",
       "      <td>Everyone</td>\n",
       "      <td>Art &amp; Design</td>\n",
       "      <td>2018-08-01</td>\n",
       "      <td>1.2.4</td>\n",
       "      <td>4.0.3 and up</td>\n",
       "    </tr>\n",
       "    <tr>\n",
       "      <th>2</th>\n",
       "      <td>2</td>\n",
       "      <td>Sketch - Draw &amp; Paint</td>\n",
       "      <td>ART_AND_DESIGN</td>\n",
       "      <td>4.5</td>\n",
       "      <td>215644</td>\n",
       "      <td>25.0</td>\n",
       "      <td>50000000</td>\n",
       "      <td>0.0</td>\n",
       "      <td>Teen</td>\n",
       "      <td>Art &amp; Design</td>\n",
       "      <td>2018-06-08</td>\n",
       "      <td>Varies with device</td>\n",
       "      <td>4.2 and up</td>\n",
       "    </tr>\n",
       "    <tr>\n",
       "      <th>3</th>\n",
       "      <td>3</td>\n",
       "      <td>Pixel Draw - Number Art Coloring Book</td>\n",
       "      <td>ART_AND_DESIGN</td>\n",
       "      <td>4.3</td>\n",
       "      <td>967</td>\n",
       "      <td>2.8</td>\n",
       "      <td>100000</td>\n",
       "      <td>0.0</td>\n",
       "      <td>Everyone</td>\n",
       "      <td>Art &amp; Design;Creativity</td>\n",
       "      <td>2018-06-20</td>\n",
       "      <td>1.1</td>\n",
       "      <td>4.4 and up</td>\n",
       "    </tr>\n",
       "    <tr>\n",
       "      <th>4</th>\n",
       "      <td>4</td>\n",
       "      <td>Paper flowers instructions</td>\n",
       "      <td>ART_AND_DESIGN</td>\n",
       "      <td>4.4</td>\n",
       "      <td>167</td>\n",
       "      <td>5.6</td>\n",
       "      <td>50000</td>\n",
       "      <td>0.0</td>\n",
       "      <td>Everyone</td>\n",
       "      <td>Art &amp; Design</td>\n",
       "      <td>2017-03-26</td>\n",
       "      <td>1.0</td>\n",
       "      <td>2.3 and up</td>\n",
       "    </tr>\n",
       "  </tbody>\n",
       "</table>\n",
       "</div>"
      ],
      "text/plain": [
       "   App Number                                                App  \\\n",
       "0           0     Photo Editor & Candy Camera & Grid & ScrapBook   \n",
       "1           1  U Launcher Lite – FREE Live Cool Themes, Hide ...   \n",
       "2           2                              Sketch - Draw & Paint   \n",
       "3           3              Pixel Draw - Number Art Coloring Book   \n",
       "4           4                         Paper flowers instructions   \n",
       "\n",
       "         Category  Rating  Reviews  Size in (MB)  Min Installs  Price in $  \\\n",
       "0  ART_AND_DESIGN     4.1      159          19.0         10000         0.0   \n",
       "1  ART_AND_DESIGN     4.7    87510           8.7       5000000         0.0   \n",
       "2  ART_AND_DESIGN     4.5   215644          25.0      50000000         0.0   \n",
       "3  ART_AND_DESIGN     4.3      967           2.8        100000         0.0   \n",
       "4  ART_AND_DESIGN     4.4      167           5.6         50000         0.0   \n",
       "\n",
       "  Content Rating                   Genres   Released         Current Ver  \\\n",
       "0       Everyone             Art & Design 2018-01-07               1.0.0   \n",
       "1       Everyone             Art & Design 2018-08-01               1.2.4   \n",
       "2           Teen             Art & Design 2018-06-08  Varies with device   \n",
       "3       Everyone  Art & Design;Creativity 2018-06-20                 1.1   \n",
       "4       Everyone             Art & Design 2017-03-26                 1.0   \n",
       "\n",
       "    Android Ver  \n",
       "0  4.0.3 and up  \n",
       "1  4.0.3 and up  \n",
       "2    4.2 and up  \n",
       "3    4.4 and up  \n",
       "4    2.3 and up  "
      ]
     },
     "execution_count": 49,
     "metadata": {},
     "output_type": "execute_result"
    }
   ],
   "source": [
    "df['Price']=df['Price'].replace({'Everyone':0})\n",
    "df['Price']=df['Price'].apply(lambda x:\n",
    "                             float(x.replace('$','')) if '$' in str(x) \n",
    "                             else float(x))\n",
    "df.rename(columns={'Price':'Price in $'},inplace=True)\n",
    "df.head()"
   ]
  },
  {
   "cell_type": "code",
   "execution_count": 50,
   "id": "1b482a17",
   "metadata": {
    "execution": {
     "iopub.execute_input": "2025-03-08T15:01:32.883216Z",
     "iopub.status.busy": "2025-03-08T15:01:32.882833Z",
     "iopub.status.idle": "2025-03-08T15:01:32.890070Z",
     "shell.execute_reply": "2025-03-08T15:01:32.888669Z"
    },
    "papermill": {
     "duration": 0.030716,
     "end_time": "2025-03-08T15:01:32.891824",
     "exception": false,
     "start_time": "2025-03-08T15:01:32.861108",
     "status": "completed"
    },
    "tags": []
   },
   "outputs": [
    {
     "data": {
      "text/plain": [
       "App Number                 int64\n",
       "App                       object\n",
       "Category                  object\n",
       "Rating                   float64\n",
       "Reviews                    int64\n",
       "Size in (MB)             float64\n",
       "Min Installs               int64\n",
       "Price in $               float64\n",
       "Content Rating            object\n",
       "Genres                    object\n",
       "Released          datetime64[ns]\n",
       "Current Ver               object\n",
       "Android Ver               object\n",
       "dtype: object"
      ]
     },
     "execution_count": 50,
     "metadata": {},
     "output_type": "execute_result"
    }
   ],
   "source": [
    "df.dtypes"
   ]
  },
  {
   "cell_type": "code",
   "execution_count": 51,
   "id": "87732cb3",
   "metadata": {
    "execution": {
     "iopub.execute_input": "2025-03-08T15:01:32.934219Z",
     "iopub.status.busy": "2025-03-08T15:01:32.933938Z",
     "iopub.status.idle": "2025-03-08T15:01:32.939948Z",
     "shell.execute_reply": "2025-03-08T15:01:32.939091Z"
    },
    "papermill": {
     "duration": 0.028258,
     "end_time": "2025-03-08T15:01:32.941249",
     "exception": false,
     "start_time": "2025-03-08T15:01:32.912991",
     "status": "completed"
    },
    "tags": []
   },
   "outputs": [
    {
     "data": {
      "text/plain": [
       "array(['Everyone', 'Teen', 'Everyone 10+', 'Mature 17+',\n",
       "       'Adults only 18+', 'Unrated', 'UnKnown'], dtype=object)"
      ]
     },
     "execution_count": 51,
     "metadata": {},
     "output_type": "execute_result"
    }
   ],
   "source": [
    "df['Content Rating'].unique()"
   ]
  },
  {
   "cell_type": "code",
   "execution_count": 52,
   "id": "f8844bc6",
   "metadata": {
    "execution": {
     "iopub.execute_input": "2025-03-08T15:01:32.984124Z",
     "iopub.status.busy": "2025-03-08T15:01:32.983848Z",
     "iopub.status.idle": "2025-03-08T15:01:32.994671Z",
     "shell.execute_reply": "2025-03-08T15:01:32.993974Z"
    },
    "papermill": {
     "duration": 0.033685,
     "end_time": "2025-03-08T15:01:32.995869",
     "exception": false,
     "start_time": "2025-03-08T15:01:32.962184",
     "status": "completed"
    },
    "tags": []
   },
   "outputs": [
    {
     "data": {
      "text/html": [
       "<div>\n",
       "<style scoped>\n",
       "    .dataframe tbody tr th:only-of-type {\n",
       "        vertical-align: middle;\n",
       "    }\n",
       "\n",
       "    .dataframe tbody tr th {\n",
       "        vertical-align: top;\n",
       "    }\n",
       "\n",
       "    .dataframe thead th {\n",
       "        text-align: right;\n",
       "    }\n",
       "</style>\n",
       "<table border=\"1\" class=\"dataframe\">\n",
       "  <thead>\n",
       "    <tr style=\"text-align: right;\">\n",
       "      <th></th>\n",
       "      <th>App Number</th>\n",
       "      <th>App</th>\n",
       "      <th>Category</th>\n",
       "      <th>Rating</th>\n",
       "      <th>Reviews</th>\n",
       "      <th>Size in (MB)</th>\n",
       "      <th>Min Installs</th>\n",
       "      <th>Price in $</th>\n",
       "      <th>Content Rating</th>\n",
       "      <th>Genres</th>\n",
       "      <th>Released</th>\n",
       "      <th>Current Ver</th>\n",
       "      <th>Android Ver</th>\n",
       "    </tr>\n",
       "  </thead>\n",
       "  <tbody>\n",
       "    <tr>\n",
       "      <th>9294</th>\n",
       "      <td>9294</td>\n",
       "      <td>Life Made WI-Fi Touchscreen Photo Frame</td>\n",
       "      <td>UnKnown</td>\n",
       "      <td>4.175076</td>\n",
       "      <td>3000000</td>\n",
       "      <td>0.0</td>\n",
       "      <td>0</td>\n",
       "      <td>0.0</td>\n",
       "      <td>UnKnown</td>\n",
       "      <td>February 11, 2018</td>\n",
       "      <td>2018-02-11</td>\n",
       "      <td>4.0 and up</td>\n",
       "      <td>NaN</td>\n",
       "    </tr>\n",
       "  </tbody>\n",
       "</table>\n",
       "</div>"
      ],
      "text/plain": [
       "      App Number                                      App Category    Rating  \\\n",
       "9294        9294  Life Made WI-Fi Touchscreen Photo Frame  UnKnown  4.175076   \n",
       "\n",
       "      Reviews  Size in (MB)  Min Installs  Price in $ Content Rating  \\\n",
       "9294  3000000           0.0             0         0.0        UnKnown   \n",
       "\n",
       "                 Genres   Released Current Ver Android Ver  \n",
       "9294  February 11, 2018 2018-02-11  4.0 and up         NaN  "
      ]
     },
     "execution_count": 52,
     "metadata": {},
     "output_type": "execute_result"
    }
   ],
   "source": [
    "df[df['Content Rating']=='UnKnown']"
   ]
  },
  {
   "cell_type": "markdown",
   "id": "d6b1446f",
   "metadata": {
    "papermill": {
     "duration": 0.020288,
     "end_time": "2025-03-08T15:01:33.037998",
     "exception": false,
     "start_time": "2025-03-08T15:01:33.017710",
     "status": "completed"
    },
    "tags": []
   },
   "source": [
    "**this row was contain 'Everyone' value so we can change 'Unknown' value with it**"
   ]
  },
  {
   "cell_type": "code",
   "execution_count": 53,
   "id": "581134c9",
   "metadata": {
    "execution": {
     "iopub.execute_input": "2025-03-08T15:01:33.082327Z",
     "iopub.status.busy": "2025-03-08T15:01:33.082031Z",
     "iopub.status.idle": "2025-03-08T15:01:33.089756Z",
     "shell.execute_reply": "2025-03-08T15:01:33.088435Z"
    },
    "papermill": {
     "duration": 0.033416,
     "end_time": "2025-03-08T15:01:33.091468",
     "exception": false,
     "start_time": "2025-03-08T15:01:33.058052",
     "status": "completed"
    },
    "tags": []
   },
   "outputs": [
    {
     "data": {
      "text/plain": [
       "array(['Everyone', 'Teen', 'Everyone 10+', 'Mature 17+',\n",
       "       'Adults only 18+', 'Unrated'], dtype=object)"
      ]
     },
     "execution_count": 53,
     "metadata": {},
     "output_type": "execute_result"
    }
   ],
   "source": [
    "df['Content Rating']=df['Content Rating'].replace({'UnKnown':'Everyone'})\n",
    "df['Content Rating'].unique()"
   ]
  },
  {
   "cell_type": "markdown",
   "id": "9f54c95f",
   "metadata": {
    "papermill": {
     "duration": 0.0236,
     "end_time": "2025-03-08T15:01:33.138866",
     "exception": false,
     "start_time": "2025-03-08T15:01:33.115266",
     "status": "completed"
    },
    "tags": []
   },
   "source": [
    "**let's check value counts**"
   ]
  },
  {
   "cell_type": "code",
   "execution_count": 54,
   "id": "eb7a0902",
   "metadata": {
    "execution": {
     "iopub.execute_input": "2025-03-08T15:01:33.188882Z",
     "iopub.status.busy": "2025-03-08T15:01:33.188544Z",
     "iopub.status.idle": "2025-03-08T15:01:33.195471Z",
     "shell.execute_reply": "2025-03-08T15:01:33.194593Z"
    },
    "papermill": {
     "duration": 0.031793,
     "end_time": "2025-03-08T15:01:33.197369",
     "exception": false,
     "start_time": "2025-03-08T15:01:33.165576",
     "status": "completed"
    },
    "tags": []
   },
   "outputs": [
    {
     "data": {
      "text/plain": [
       "Content Rating\n",
       "Everyone           7904\n",
       "Teen               1036\n",
       "Mature 17+          393\n",
       "Everyone 10+        322\n",
       "Adults only 18+       3\n",
       "Unrated               2\n",
       "Name: count, dtype: int64"
      ]
     },
     "execution_count": 54,
     "metadata": {},
     "output_type": "execute_result"
    }
   ],
   "source": [
    "df['Content Rating'].value_counts()"
   ]
  },
  {
   "cell_type": "markdown",
   "id": "bcccde62",
   "metadata": {
    "papermill": {
     "duration": 0.021548,
     "end_time": "2025-03-08T15:01:33.240575",
     "exception": false,
     "start_time": "2025-03-08T15:01:33.219027",
     "status": "completed"
    },
    "tags": []
   },
   "source": [
    "**let's check 'Unrated' rows**"
   ]
  },
  {
   "cell_type": "code",
   "execution_count": 55,
   "id": "789e6c38",
   "metadata": {
    "execution": {
     "iopub.execute_input": "2025-03-08T15:01:33.285341Z",
     "iopub.status.busy": "2025-03-08T15:01:33.285031Z",
     "iopub.status.idle": "2025-03-08T15:01:33.298966Z",
     "shell.execute_reply": "2025-03-08T15:01:33.298056Z"
    },
    "papermill": {
     "duration": 0.037903,
     "end_time": "2025-03-08T15:01:33.300787",
     "exception": false,
     "start_time": "2025-03-08T15:01:33.262884",
     "status": "completed"
    },
    "tags": []
   },
   "outputs": [
    {
     "data": {
      "text/html": [
       "<div>\n",
       "<style scoped>\n",
       "    .dataframe tbody tr th:only-of-type {\n",
       "        vertical-align: middle;\n",
       "    }\n",
       "\n",
       "    .dataframe tbody tr th {\n",
       "        vertical-align: top;\n",
       "    }\n",
       "\n",
       "    .dataframe thead th {\n",
       "        text-align: right;\n",
       "    }\n",
       "</style>\n",
       "<table border=\"1\" class=\"dataframe\">\n",
       "  <thead>\n",
       "    <tr style=\"text-align: right;\">\n",
       "      <th></th>\n",
       "      <th>App Number</th>\n",
       "      <th>App</th>\n",
       "      <th>Category</th>\n",
       "      <th>Rating</th>\n",
       "      <th>Reviews</th>\n",
       "      <th>Size in (MB)</th>\n",
       "      <th>Min Installs</th>\n",
       "      <th>Price in $</th>\n",
       "      <th>Content Rating</th>\n",
       "      <th>Genres</th>\n",
       "      <th>Released</th>\n",
       "      <th>Current Ver</th>\n",
       "      <th>Android Ver</th>\n",
       "    </tr>\n",
       "  </thead>\n",
       "  <tbody>\n",
       "    <tr>\n",
       "      <th>6156</th>\n",
       "      <td>6156</td>\n",
       "      <td>Best CG Photography</td>\n",
       "      <td>FAMILY</td>\n",
       "      <td>4.175076</td>\n",
       "      <td>1</td>\n",
       "      <td>2.5</td>\n",
       "      <td>500</td>\n",
       "      <td>0.0</td>\n",
       "      <td>Unrated</td>\n",
       "      <td>Entertainment</td>\n",
       "      <td>2015-06-24</td>\n",
       "      <td>5.2</td>\n",
       "      <td>3.0 and up</td>\n",
       "    </tr>\n",
       "    <tr>\n",
       "      <th>7102</th>\n",
       "      <td>7102</td>\n",
       "      <td>DC Universe Online Map</td>\n",
       "      <td>TOOLS</td>\n",
       "      <td>4.100000</td>\n",
       "      <td>1186</td>\n",
       "      <td>6.4</td>\n",
       "      <td>50000</td>\n",
       "      <td>0.0</td>\n",
       "      <td>Unrated</td>\n",
       "      <td>Tools</td>\n",
       "      <td>2012-02-27</td>\n",
       "      <td>1.3</td>\n",
       "      <td>2.3.3 and up</td>\n",
       "    </tr>\n",
       "  </tbody>\n",
       "</table>\n",
       "</div>"
      ],
      "text/plain": [
       "      App Number                     App Category    Rating  Reviews  \\\n",
       "6156        6156     Best CG Photography   FAMILY  4.175076        1   \n",
       "7102        7102  DC Universe Online Map    TOOLS  4.100000     1186   \n",
       "\n",
       "      Size in (MB)  Min Installs  Price in $ Content Rating         Genres  \\\n",
       "6156           2.5           500         0.0        Unrated  Entertainment   \n",
       "7102           6.4         50000         0.0        Unrated          Tools   \n",
       "\n",
       "       Released Current Ver   Android Ver  \n",
       "6156 2015-06-24         5.2    3.0 and up  \n",
       "7102 2012-02-27         1.3  2.3.3 and up  "
      ]
     },
     "execution_count": 55,
     "metadata": {},
     "output_type": "execute_result"
    }
   ],
   "source": [
    "df[df['Content Rating']=='Unrated']"
   ]
  },
  {
   "cell_type": "markdown",
   "id": "875a8f22",
   "metadata": {
    "papermill": {
     "duration": 0.020075,
     "end_time": "2025-03-08T15:01:33.342264",
     "exception": false,
     "start_time": "2025-03-08T15:01:33.322189",
     "status": "completed"
    },
    "tags": []
   },
   "source": [
    "* **From 'Category' value in the first row we show that it classified to family so anyone can show it so we can change it by 'Everyone' value**\n",
    "* **In second row we show app name 'DC Universe' and it category= tool 'DC' Known by its carton about heros classified to children so we can change it to 'Everyone' too**"
   ]
  },
  {
   "cell_type": "code",
   "execution_count": 56,
   "id": "b462afa6",
   "metadata": {
    "execution": {
     "iopub.execute_input": "2025-03-08T15:01:33.384537Z",
     "iopub.status.busy": "2025-03-08T15:01:33.384221Z",
     "iopub.status.idle": "2025-03-08T15:01:33.391673Z",
     "shell.execute_reply": "2025-03-08T15:01:33.390573Z"
    },
    "papermill": {
     "duration": 0.030427,
     "end_time": "2025-03-08T15:01:33.393171",
     "exception": false,
     "start_time": "2025-03-08T15:01:33.362744",
     "status": "completed"
    },
    "tags": []
   },
   "outputs": [
    {
     "data": {
      "text/plain": [
       "array(['Everyone', 'Teen', 'Everyone 10+', 'Mature 17+',\n",
       "       'Adults only 18+'], dtype=object)"
      ]
     },
     "execution_count": 56,
     "metadata": {},
     "output_type": "execute_result"
    }
   ],
   "source": [
    "df['Content Rating']=df['Content Rating'].replace('Unrated','Everyone')\n",
    "df['Content Rating'].unique()"
   ]
  },
  {
   "cell_type": "markdown",
   "id": "f539b454",
   "metadata": {
    "papermill": {
     "duration": 0.020593,
     "end_time": "2025-03-08T15:01:33.434701",
     "exception": false,
     "start_time": "2025-03-08T15:01:33.414108",
     "status": "completed"
    },
    "tags": []
   },
   "source": [
    "**We need to classify it value by age so we need to convert values by min values that considered**"
   ]
  },
  {
   "cell_type": "code",
   "execution_count": 57,
   "id": "ba02008a",
   "metadata": {
    "execution": {
     "iopub.execute_input": "2025-03-08T15:01:33.477823Z",
     "iopub.status.busy": "2025-03-08T15:01:33.477426Z",
     "iopub.status.idle": "2025-03-08T15:01:33.494591Z",
     "shell.execute_reply": "2025-03-08T15:01:33.493196Z"
    },
    "papermill": {
     "duration": 0.040586,
     "end_time": "2025-03-08T15:01:33.496424",
     "exception": false,
     "start_time": "2025-03-08T15:01:33.455838",
     "status": "completed"
    },
    "tags": []
   },
   "outputs": [
    {
     "data": {
      "text/html": [
       "<div>\n",
       "<style scoped>\n",
       "    .dataframe tbody tr th:only-of-type {\n",
       "        vertical-align: middle;\n",
       "    }\n",
       "\n",
       "    .dataframe tbody tr th {\n",
       "        vertical-align: top;\n",
       "    }\n",
       "\n",
       "    .dataframe thead th {\n",
       "        text-align: right;\n",
       "    }\n",
       "</style>\n",
       "<table border=\"1\" class=\"dataframe\">\n",
       "  <thead>\n",
       "    <tr style=\"text-align: right;\">\n",
       "      <th></th>\n",
       "      <th>App Number</th>\n",
       "      <th>App</th>\n",
       "      <th>Category</th>\n",
       "      <th>Rating</th>\n",
       "      <th>Reviews</th>\n",
       "      <th>Size in (MB)</th>\n",
       "      <th>Min Installs</th>\n",
       "      <th>Price in $</th>\n",
       "      <th>Min Allowed Age</th>\n",
       "      <th>Genres</th>\n",
       "      <th>Released</th>\n",
       "      <th>Current Ver</th>\n",
       "      <th>Android Ver</th>\n",
       "    </tr>\n",
       "  </thead>\n",
       "  <tbody>\n",
       "    <tr>\n",
       "      <th>0</th>\n",
       "      <td>0</td>\n",
       "      <td>Photo Editor &amp; Candy Camera &amp; Grid &amp; ScrapBook</td>\n",
       "      <td>ART_AND_DESIGN</td>\n",
       "      <td>4.1</td>\n",
       "      <td>159</td>\n",
       "      <td>19.0</td>\n",
       "      <td>10000</td>\n",
       "      <td>0.0</td>\n",
       "      <td>0</td>\n",
       "      <td>Art &amp; Design</td>\n",
       "      <td>2018-01-07</td>\n",
       "      <td>1.0.0</td>\n",
       "      <td>4.0.3 and up</td>\n",
       "    </tr>\n",
       "    <tr>\n",
       "      <th>1</th>\n",
       "      <td>1</td>\n",
       "      <td>U Launcher Lite – FREE Live Cool Themes, Hide ...</td>\n",
       "      <td>ART_AND_DESIGN</td>\n",
       "      <td>4.7</td>\n",
       "      <td>87510</td>\n",
       "      <td>8.7</td>\n",
       "      <td>5000000</td>\n",
       "      <td>0.0</td>\n",
       "      <td>0</td>\n",
       "      <td>Art &amp; Design</td>\n",
       "      <td>2018-08-01</td>\n",
       "      <td>1.2.4</td>\n",
       "      <td>4.0.3 and up</td>\n",
       "    </tr>\n",
       "    <tr>\n",
       "      <th>2</th>\n",
       "      <td>2</td>\n",
       "      <td>Sketch - Draw &amp; Paint</td>\n",
       "      <td>ART_AND_DESIGN</td>\n",
       "      <td>4.5</td>\n",
       "      <td>215644</td>\n",
       "      <td>25.0</td>\n",
       "      <td>50000000</td>\n",
       "      <td>0.0</td>\n",
       "      <td>13</td>\n",
       "      <td>Art &amp; Design</td>\n",
       "      <td>2018-06-08</td>\n",
       "      <td>Varies with device</td>\n",
       "      <td>4.2 and up</td>\n",
       "    </tr>\n",
       "    <tr>\n",
       "      <th>3</th>\n",
       "      <td>3</td>\n",
       "      <td>Pixel Draw - Number Art Coloring Book</td>\n",
       "      <td>ART_AND_DESIGN</td>\n",
       "      <td>4.3</td>\n",
       "      <td>967</td>\n",
       "      <td>2.8</td>\n",
       "      <td>100000</td>\n",
       "      <td>0.0</td>\n",
       "      <td>0</td>\n",
       "      <td>Art &amp; Design;Creativity</td>\n",
       "      <td>2018-06-20</td>\n",
       "      <td>1.1</td>\n",
       "      <td>4.4 and up</td>\n",
       "    </tr>\n",
       "    <tr>\n",
       "      <th>4</th>\n",
       "      <td>4</td>\n",
       "      <td>Paper flowers instructions</td>\n",
       "      <td>ART_AND_DESIGN</td>\n",
       "      <td>4.4</td>\n",
       "      <td>167</td>\n",
       "      <td>5.6</td>\n",
       "      <td>50000</td>\n",
       "      <td>0.0</td>\n",
       "      <td>0</td>\n",
       "      <td>Art &amp; Design</td>\n",
       "      <td>2017-03-26</td>\n",
       "      <td>1.0</td>\n",
       "      <td>2.3 and up</td>\n",
       "    </tr>\n",
       "  </tbody>\n",
       "</table>\n",
       "</div>"
      ],
      "text/plain": [
       "   App Number                                                App  \\\n",
       "0           0     Photo Editor & Candy Camera & Grid & ScrapBook   \n",
       "1           1  U Launcher Lite – FREE Live Cool Themes, Hide ...   \n",
       "2           2                              Sketch - Draw & Paint   \n",
       "3           3              Pixel Draw - Number Art Coloring Book   \n",
       "4           4                         Paper flowers instructions   \n",
       "\n",
       "         Category  Rating  Reviews  Size in (MB)  Min Installs  Price in $  \\\n",
       "0  ART_AND_DESIGN     4.1      159          19.0         10000         0.0   \n",
       "1  ART_AND_DESIGN     4.7    87510           8.7       5000000         0.0   \n",
       "2  ART_AND_DESIGN     4.5   215644          25.0      50000000         0.0   \n",
       "3  ART_AND_DESIGN     4.3      967           2.8        100000         0.0   \n",
       "4  ART_AND_DESIGN     4.4      167           5.6         50000         0.0   \n",
       "\n",
       "   Min Allowed Age                   Genres   Released         Current Ver  \\\n",
       "0                0             Art & Design 2018-01-07               1.0.0   \n",
       "1                0             Art & Design 2018-08-01               1.2.4   \n",
       "2               13             Art & Design 2018-06-08  Varies with device   \n",
       "3                0  Art & Design;Creativity 2018-06-20                 1.1   \n",
       "4                0             Art & Design 2017-03-26                 1.0   \n",
       "\n",
       "    Android Ver  \n",
       "0  4.0.3 and up  \n",
       "1  4.0.3 and up  \n",
       "2    4.2 and up  \n",
       "3    4.4 and up  \n",
       "4    2.3 and up  "
      ]
     },
     "execution_count": 57,
     "metadata": {},
     "output_type": "execute_result"
    }
   ],
   "source": [
    "mapping = {\n",
    "    'Everyone': 0,\n",
    "    'Everyone 10+': 10,\n",
    "    'Teen': 13,\n",
    "    'Mature 17+': 17,\n",
    "    'Adults only 18+': 18\n",
    "}\n",
    "\n",
    "df['Content Rating'] = df['Content Rating'].apply(lambda x: mapping.get(x, 0)).astype(int)\n",
    "df.rename(columns={'Content Rating':'Min Allowed Age'},inplace=True)\n",
    "df.head()"
   ]
  },
  {
   "cell_type": "code",
   "execution_count": 58,
   "id": "3abbc259",
   "metadata": {
    "execution": {
     "iopub.execute_input": "2025-03-08T15:01:33.541630Z",
     "iopub.status.busy": "2025-03-08T15:01:33.541359Z",
     "iopub.status.idle": "2025-03-08T15:01:33.548670Z",
     "shell.execute_reply": "2025-03-08T15:01:33.547161Z"
    },
    "papermill": {
     "duration": 0.031416,
     "end_time": "2025-03-08T15:01:33.550175",
     "exception": false,
     "start_time": "2025-03-08T15:01:33.518759",
     "status": "completed"
    },
    "tags": []
   },
   "outputs": [
    {
     "data": {
      "text/plain": [
       "App Number                  int64\n",
       "App                        object\n",
       "Category                   object\n",
       "Rating                    float64\n",
       "Reviews                     int64\n",
       "Size in (MB)              float64\n",
       "Min Installs                int64\n",
       "Price in $                float64\n",
       "Min Allowed Age             int64\n",
       "Genres                     object\n",
       "Released           datetime64[ns]\n",
       "Current Ver                object\n",
       "Android Ver                object\n",
       "dtype: object"
      ]
     },
     "execution_count": 58,
     "metadata": {},
     "output_type": "execute_result"
    }
   ],
   "source": [
    "df.dtypes"
   ]
  },
  {
   "cell_type": "markdown",
   "id": "f0f10576",
   "metadata": {
    "papermill": {
     "duration": 0.022135,
     "end_time": "2025-03-08T15:01:33.593962",
     "exception": false,
     "start_time": "2025-03-08T15:01:33.571827",
     "status": "completed"
    },
    "tags": []
   },
   "source": [
    "**let's check 'Genres' column values**"
   ]
  },
  {
   "cell_type": "code",
   "execution_count": 59,
   "id": "95143109",
   "metadata": {
    "execution": {
     "iopub.execute_input": "2025-03-08T15:01:33.637425Z",
     "iopub.status.busy": "2025-03-08T15:01:33.637094Z",
     "iopub.status.idle": "2025-03-08T15:01:33.644574Z",
     "shell.execute_reply": "2025-03-08T15:01:33.643369Z"
    },
    "papermill": {
     "duration": 0.03104,
     "end_time": "2025-03-08T15:01:33.646376",
     "exception": false,
     "start_time": "2025-03-08T15:01:33.615336",
     "status": "completed"
    },
    "tags": []
   },
   "outputs": [
    {
     "data": {
      "text/plain": [
       "array(['Art & Design', 'Art & Design;Creativity', 'Auto & Vehicles',\n",
       "       'Beauty', 'Books & Reference', 'Business', 'Comics',\n",
       "       'Comics;Creativity', 'Communication', 'Dating', 'Education',\n",
       "       'Education;Creativity', 'Education;Education',\n",
       "       'Education;Pretend Play', 'Education;Brain Games', 'Entertainment',\n",
       "       'Entertainment;Brain Games', 'Entertainment;Creativity',\n",
       "       'Entertainment;Music & Video', 'Events', 'Finance', 'Food & Drink',\n",
       "       'Health & Fitness', 'House & Home', 'Libraries & Demo',\n",
       "       'Lifestyle', 'Lifestyle;Pretend Play', 'Card', 'Arcade', 'Puzzle',\n",
       "       'Racing', 'Sports', 'Casual', 'Simulation', 'Adventure', 'Trivia',\n",
       "       'Action', 'Word', 'Role Playing', 'Strategy', 'Board',\n",
       "       'Simulation;Education', 'Music', 'Action;Action & Adventure',\n",
       "       'Casual;Brain Games', 'Educational;Creativity',\n",
       "       'Puzzle;Brain Games', 'Educational;Education',\n",
       "       'Casual;Pretend Play', 'Educational;Brain Games',\n",
       "       'Art & Design;Pretend Play', 'Entertainment;Education',\n",
       "       'Casual;Education', 'Casual;Creativity', 'Music;Music & Video',\n",
       "       'Educational;Pretend Play', 'Arcade;Pretend Play',\n",
       "       'Casual;Action & Adventure', 'Adventure;Action & Adventure',\n",
       "       'Simulation;Pretend Play', 'Puzzle;Creativity',\n",
       "       'Simulation;Action & Adventure', 'Racing;Action & Adventure',\n",
       "       'Sports;Action & Adventure', 'Educational;Action & Adventure',\n",
       "       'Arcade;Action & Adventure', 'Entertainment;Action & Adventure',\n",
       "       'Art & Design;Action & Adventure', 'Puzzle;Action & Adventure',\n",
       "       'Education;Action & Adventure', 'Strategy;Action & Adventure',\n",
       "       'Music & Audio;Music & Video', 'Health & Fitness;Education',\n",
       "       'Board;Action & Adventure', 'Board;Brain Games',\n",
       "       'Board;Pretend Play', 'Education;Music & Video',\n",
       "       'Casual;Music & Video', 'Role Playing;Pretend Play',\n",
       "       'Entertainment;Pretend Play', 'Role Playing;Action & Adventure',\n",
       "       'Card;Action & Adventure', 'Medical', 'Social', 'Shopping',\n",
       "       'Photography', 'Travel & Local',\n",
       "       'Travel & Local;Action & Adventure', 'Tools', 'Tools;Education',\n",
       "       'Personalization', 'Productivity', 'Parenting',\n",
       "       'Parenting;Music & Video', 'Parenting;Education',\n",
       "       'Parenting;Brain Games', 'Weather', 'Video Players & Editors',\n",
       "       'Video Players & Editors;Music & Video',\n",
       "       'Video Players & Editors;Creativity', 'News & Magazines',\n",
       "       'Maps & Navigation', 'Health & Fitness;Action & Adventure',\n",
       "       'Educational', 'Casino', 'Adventure;Brain Games',\n",
       "       'Trivia;Education', 'Lifestyle;Education',\n",
       "       'Books & Reference;Creativity', 'Books & Reference;Education',\n",
       "       'Puzzle;Education', 'Adventure;Education',\n",
       "       'Role Playing;Education', 'Role Playing;Brain Games',\n",
       "       'Strategy;Education', 'Racing;Pretend Play',\n",
       "       'Communication;Creativity', 'February 11, 2018',\n",
       "       'Strategy;Creativity'], dtype=object)"
      ]
     },
     "execution_count": 59,
     "metadata": {},
     "output_type": "execute_result"
    }
   ],
   "source": [
    "df['Genres'].unique()"
   ]
  },
  {
   "cell_type": "markdown",
   "id": "75be260c",
   "metadata": {
    "papermill": {
     "duration": 0.021942,
     "end_time": "2025-03-08T15:01:33.690068",
     "exception": false,
     "start_time": "2025-03-08T15:01:33.668126",
     "status": "completed"
    },
    "tags": []
   },
   "source": [
    "**As we show 'February 11, 2018' value that doesn't match other values so we try to explore that row**"
   ]
  },
  {
   "cell_type": "code",
   "execution_count": 60,
   "id": "1b1c4900",
   "metadata": {
    "execution": {
     "iopub.execute_input": "2025-03-08T15:01:33.734298Z",
     "iopub.status.busy": "2025-03-08T15:01:33.733909Z",
     "iopub.status.idle": "2025-03-08T15:01:33.747151Z",
     "shell.execute_reply": "2025-03-08T15:01:33.746062Z"
    },
    "papermill": {
     "duration": 0.03739,
     "end_time": "2025-03-08T15:01:33.748841",
     "exception": false,
     "start_time": "2025-03-08T15:01:33.711451",
     "status": "completed"
    },
    "tags": []
   },
   "outputs": [
    {
     "data": {
      "text/html": [
       "<div>\n",
       "<style scoped>\n",
       "    .dataframe tbody tr th:only-of-type {\n",
       "        vertical-align: middle;\n",
       "    }\n",
       "\n",
       "    .dataframe tbody tr th {\n",
       "        vertical-align: top;\n",
       "    }\n",
       "\n",
       "    .dataframe thead th {\n",
       "        text-align: right;\n",
       "    }\n",
       "</style>\n",
       "<table border=\"1\" class=\"dataframe\">\n",
       "  <thead>\n",
       "    <tr style=\"text-align: right;\">\n",
       "      <th></th>\n",
       "      <th>App Number</th>\n",
       "      <th>App</th>\n",
       "      <th>Category</th>\n",
       "      <th>Rating</th>\n",
       "      <th>Reviews</th>\n",
       "      <th>Size in (MB)</th>\n",
       "      <th>Min Installs</th>\n",
       "      <th>Price in $</th>\n",
       "      <th>Min Allowed Age</th>\n",
       "      <th>Genres</th>\n",
       "      <th>Released</th>\n",
       "      <th>Current Ver</th>\n",
       "      <th>Android Ver</th>\n",
       "    </tr>\n",
       "  </thead>\n",
       "  <tbody>\n",
       "    <tr>\n",
       "      <th>9294</th>\n",
       "      <td>9294</td>\n",
       "      <td>Life Made WI-Fi Touchscreen Photo Frame</td>\n",
       "      <td>UnKnown</td>\n",
       "      <td>4.175076</td>\n",
       "      <td>3000000</td>\n",
       "      <td>0.0</td>\n",
       "      <td>0</td>\n",
       "      <td>0.0</td>\n",
       "      <td>0</td>\n",
       "      <td>February 11, 2018</td>\n",
       "      <td>2018-02-11</td>\n",
       "      <td>4.0 and up</td>\n",
       "      <td>NaN</td>\n",
       "    </tr>\n",
       "  </tbody>\n",
       "</table>\n",
       "</div>"
      ],
      "text/plain": [
       "      App Number                                      App Category    Rating  \\\n",
       "9294        9294  Life Made WI-Fi Touchscreen Photo Frame  UnKnown  4.175076   \n",
       "\n",
       "      Reviews  Size in (MB)  Min Installs  Price in $  Min Allowed Age  \\\n",
       "9294  3000000           0.0             0         0.0                0   \n",
       "\n",
       "                 Genres   Released Current Ver Android Ver  \n",
       "9294  February 11, 2018 2018-02-11  4.0 and up         NaN  "
      ]
     },
     "execution_count": 60,
     "metadata": {},
     "output_type": "execute_result"
    }
   ],
   "source": [
    "df[df['Genres']=='February 11, 2018']"
   ]
  },
  {
   "cell_type": "markdown",
   "id": "d5ca8ee2",
   "metadata": {
    "papermill": {
     "duration": 0.022582,
     "end_time": "2025-03-08T15:01:33.795363",
     "exception": false,
     "start_time": "2025-03-08T15:01:33.772781",
     "status": "completed"
    },
    "tags": []
   },
   "source": [
    "* **We couldn't expect this because 'Category' value is 'UnKnown' so we should fill it by 'UnKnown'**\n",
    "* **We must haqndle it format to be seperated by '&' not ';'**"
   ]
  },
  {
   "cell_type": "code",
   "execution_count": 61,
   "id": "af710650",
   "metadata": {
    "execution": {
     "iopub.execute_input": "2025-03-08T15:01:33.841679Z",
     "iopub.status.busy": "2025-03-08T15:01:33.841404Z",
     "iopub.status.idle": "2025-03-08T15:01:33.851168Z",
     "shell.execute_reply": "2025-03-08T15:01:33.850174Z"
    },
    "papermill": {
     "duration": 0.035332,
     "end_time": "2025-03-08T15:01:33.852466",
     "exception": false,
     "start_time": "2025-03-08T15:01:33.817134",
     "status": "completed"
    },
    "tags": []
   },
   "outputs": [
    {
     "data": {
      "text/plain": [
       "array(['Art & Design', 'Art & Design & Creativity', 'Auto & Vehicles',\n",
       "       'Beauty', 'Books & Reference', 'Business', 'Comics',\n",
       "       'Comics & Creativity', 'Communication', 'Dating', 'Education',\n",
       "       'Education & Creativity', 'Education & Education',\n",
       "       'Education & Pretend Play', 'Education & Brain Games',\n",
       "       'Entertainment', 'Entertainment & Brain Games',\n",
       "       'Entertainment & Creativity', 'Entertainment & Music & Video',\n",
       "       'Events', 'Finance', 'Food & Drink', 'Health & Fitness',\n",
       "       'House & Home', 'Libraries & Demo', 'Lifestyle',\n",
       "       'Lifestyle & Pretend Play', 'Card', 'Arcade', 'Puzzle', 'Racing',\n",
       "       'Sports', 'Casual', 'Simulation', 'Adventure', 'Trivia', 'Action',\n",
       "       'Word', 'Role Playing', 'Strategy', 'Board',\n",
       "       'Simulation & Education', 'Music', 'Action & Action & Adventure',\n",
       "       'Casual & Brain Games', 'Educational & Creativity',\n",
       "       'Puzzle & Brain Games', 'Educational & Education',\n",
       "       'Casual & Pretend Play', 'Educational & Brain Games',\n",
       "       'Art & Design & Pretend Play', 'Entertainment & Education',\n",
       "       'Casual & Education', 'Casual & Creativity',\n",
       "       'Music & Music & Video', 'Educational & Pretend Play',\n",
       "       'Arcade & Pretend Play', 'Casual & Action & Adventure',\n",
       "       'Adventure & Action & Adventure', 'Simulation & Pretend Play',\n",
       "       'Puzzle & Creativity', 'Simulation & Action & Adventure',\n",
       "       'Racing & Action & Adventure', 'Sports & Action & Adventure',\n",
       "       'Educational & Action & Adventure', 'Arcade & Action & Adventure',\n",
       "       'Entertainment & Action & Adventure',\n",
       "       'Art & Design & Action & Adventure', 'Puzzle & Action & Adventure',\n",
       "       'Education & Action & Adventure', 'Strategy & Action & Adventure',\n",
       "       'Music & Audio & Music & Video', 'Health & Fitness & Education',\n",
       "       'Board & Action & Adventure', 'Board & Brain Games',\n",
       "       'Board & Pretend Play', 'Education & Music & Video',\n",
       "       'Casual & Music & Video', 'Role Playing & Pretend Play',\n",
       "       'Entertainment & Pretend Play',\n",
       "       'Role Playing & Action & Adventure', 'Card & Action & Adventure',\n",
       "       'Medical', 'Social', 'Shopping', 'Photography', 'Travel & Local',\n",
       "       'Travel & Local & Action & Adventure', 'Tools',\n",
       "       'Tools & Education', 'Personalization', 'Productivity',\n",
       "       'Parenting', 'Parenting & Music & Video', 'Parenting & Education',\n",
       "       'Parenting & Brain Games', 'Weather', 'Video Players & Editors',\n",
       "       'Video Players & Editors & Music & Video',\n",
       "       'Video Players & Editors & Creativity', 'News & Magazines',\n",
       "       'Maps & Navigation', 'Health & Fitness & Action & Adventure',\n",
       "       'Educational', 'Casino', 'Adventure & Brain Games',\n",
       "       'Trivia & Education', 'Lifestyle & Education',\n",
       "       'Books & Reference & Creativity', 'Books & Reference & Education',\n",
       "       'Puzzle & Education', 'Adventure & Education',\n",
       "       'Role Playing & Education', 'Role Playing & Brain Games',\n",
       "       'Strategy & Education', 'Racing & Pretend Play',\n",
       "       'Communication & Creativity', 'Unknown', 'Strategy & Creativity'],\n",
       "      dtype=object)"
      ]
     },
     "execution_count": 61,
     "metadata": {},
     "output_type": "execute_result"
    }
   ],
   "source": [
    "df['Genres']=df['Genres'].replace('February 11, 2018','Unknown')\n",
    "df['Genres']=df['Genres'].apply(lambda x:\n",
    "                               x.replace(';',' & ') if ';' in str(x) else\n",
    "                                str(x))\n",
    "df['Genres'].unique()"
   ]
  },
  {
   "cell_type": "markdown",
   "id": "326bf718",
   "metadata": {
    "papermill": {
     "duration": 0.020818,
     "end_time": "2025-03-08T15:01:33.896479",
     "exception": false,
     "start_time": "2025-03-08T15:01:33.875661",
     "status": "completed"
    },
    "tags": []
   },
   "source": [
    "**We show that value duplicated we try handle it**"
   ]
  },
  {
   "cell_type": "code",
   "execution_count": 62,
   "id": "b158f4cc",
   "metadata": {
    "execution": {
     "iopub.execute_input": "2025-03-08T15:01:33.940494Z",
     "iopub.status.busy": "2025-03-08T15:01:33.940133Z",
     "iopub.status.idle": "2025-03-08T15:01:33.952566Z",
     "shell.execute_reply": "2025-03-08T15:01:33.951670Z"
    },
    "papermill": {
     "duration": 0.035893,
     "end_time": "2025-03-08T15:01:33.953796",
     "exception": false,
     "start_time": "2025-03-08T15:01:33.917903",
     "status": "completed"
    },
    "tags": []
   },
   "outputs": [
    {
     "data": {
      "text/plain": [
       "array(['Art & Design', 'Art & Design & Creativity', 'Auto & Vehicles',\n",
       "       'Beauty', 'Books & Reference', 'Business', 'Comics',\n",
       "       'Comics & Creativity', 'Communication', 'Dating', 'Education',\n",
       "       'Education & Creativity', 'Education & Pretend Play',\n",
       "       'Education & Brain Games', 'Entertainment',\n",
       "       'Entertainment & Brain Games', 'Entertainment & Creativity',\n",
       "       'Entertainment & Music & Video', 'Events', 'Finance',\n",
       "       'Food & Drink', 'Health & Fitness', 'House & Home',\n",
       "       'Libraries & Demo', 'Lifestyle', 'Lifestyle & Pretend Play',\n",
       "       'Card', 'Arcade', 'Puzzle', 'Racing', 'Sports', 'Casual',\n",
       "       'Simulation', 'Adventure', 'Trivia', 'Action', 'Word',\n",
       "       'Role Playing', 'Strategy', 'Board', 'Simulation & Education',\n",
       "       'Music', 'Action & Adventure', 'Casual & Brain Games',\n",
       "       'Educational & Creativity', 'Puzzle & Brain Games', 'Educational',\n",
       "       'Casual & Pretend Play', 'Educational & Brain Games',\n",
       "       'Art & Design & Pretend Play', 'Entertainment & Education',\n",
       "       'Casual & Education', 'Casual & Creativity', 'Music & Video',\n",
       "       'Educational & Pretend Play', 'Arcade & Pretend Play',\n",
       "       'Casual & Action & Adventure', 'Adventure & Action',\n",
       "       'Simulation & Pretend Play', 'Puzzle & Creativity',\n",
       "       'Simulation & Action & Adventure', 'Racing & Action & Adventure',\n",
       "       'Sports & Action & Adventure', 'Educational & Action & Adventure',\n",
       "       'Arcade & Action & Adventure',\n",
       "       'Entertainment & Action & Adventure',\n",
       "       'Art & Design & Action & Adventure', 'Puzzle & Action & Adventure',\n",
       "       'Education & Action & Adventure', 'Strategy & Action & Adventure',\n",
       "       'Music & Audio & Video', 'Health & Fitness & Education',\n",
       "       'Board & Action & Adventure', 'Board & Brain Games',\n",
       "       'Board & Pretend Play', 'Education & Music & Video',\n",
       "       'Casual & Music & Video', 'Role Playing & Pretend Play',\n",
       "       'Entertainment & Pretend Play',\n",
       "       'Role Playing & Action & Adventure', 'Card & Action & Adventure',\n",
       "       'Medical', 'Social', 'Shopping', 'Photography', 'Travel & Local',\n",
       "       'Travel & Local & Action & Adventure', 'Tools',\n",
       "       'Tools & Education', 'Personalization', 'Productivity',\n",
       "       'Parenting', 'Parenting & Music & Video', 'Parenting & Education',\n",
       "       'Parenting & Brain Games', 'Weather', 'Video Players & Editors',\n",
       "       'Video Players & Editors & Music & Video',\n",
       "       'Video Players & Editors & Creativity', 'News & Magazines',\n",
       "       'Maps & Navigation', 'Health & Fitness & Action & Adventure',\n",
       "       'Casino', 'Adventure & Brain Games', 'Trivia & Education',\n",
       "       'Lifestyle & Education', 'Books & Reference & Creativity',\n",
       "       'Books & Reference & Education', 'Puzzle & Education',\n",
       "       'Adventure & Education', 'Role Playing & Education',\n",
       "       'Role Playing & Brain Games', 'Strategy & Education',\n",
       "       'Racing & Pretend Play', 'Communication & Creativity', 'Unknown',\n",
       "       'Strategy & Creativity'], dtype=object)"
      ]
     },
     "execution_count": 62,
     "metadata": {},
     "output_type": "execute_result"
    }
   ],
   "source": [
    "def right_category(category):\n",
    "    parts = category.split(' & ')\n",
    "    right_parts = [parts[0]]\n",
    "    \n",
    "    for part in parts[1:]:  \n",
    "        if not part.startswith(right_parts[0]):\n",
    "            right_parts.append(part)\n",
    "            if parts[0]=='Educational' and part=='Education':\n",
    "                right_parts=[parts[0]]\n",
    "            \n",
    "    \n",
    "    return ' & '.join(right_parts)\n",
    "\n",
    "\n",
    "df['Genres'] = df['Genres'].apply(right_category)\n",
    "df['Genres'].unique()"
   ]
  },
  {
   "cell_type": "markdown",
   "id": "d002418b",
   "metadata": {
    "papermill": {
     "duration": 0.021361,
     "end_time": "2025-03-08T15:01:33.997544",
     "exception": false,
     "start_time": "2025-03-08T15:01:33.976183",
     "status": "completed"
    },
    "tags": []
   },
   "source": [
    "**let's check 'Current Ver' values**"
   ]
  },
  {
   "cell_type": "code",
   "execution_count": 63,
   "id": "bdd315b3",
   "metadata": {
    "execution": {
     "iopub.execute_input": "2025-03-08T15:01:34.042989Z",
     "iopub.status.busy": "2025-03-08T15:01:34.042642Z",
     "iopub.status.idle": "2025-03-08T15:01:34.048243Z",
     "shell.execute_reply": "2025-03-08T15:01:34.047449Z"
    },
    "papermill": {
     "duration": 0.02936,
     "end_time": "2025-03-08T15:01:34.049465",
     "exception": false,
     "start_time": "2025-03-08T15:01:34.020105",
     "status": "completed"
    },
    "tags": []
   },
   "outputs": [
    {
     "data": {
      "text/plain": [
       "array(['1.0.0', '1.2.4', 'Varies with device', ..., '1.0.612928', '0.3.4',\n",
       "       '2.0.148.0'], shape=(2821,), dtype=object)"
      ]
     },
     "execution_count": 63,
     "metadata": {},
     "output_type": "execute_result"
    }
   ],
   "source": [
    "df['Current Ver'].unique()"
   ]
  },
  {
   "cell_type": "code",
   "execution_count": 64,
   "id": "5222d890",
   "metadata": {
    "execution": {
     "iopub.execute_input": "2025-03-08T15:01:34.094781Z",
     "iopub.status.busy": "2025-03-08T15:01:34.094520Z",
     "iopub.status.idle": "2025-03-08T15:01:34.103788Z",
     "shell.execute_reply": "2025-03-08T15:01:34.102436Z"
    },
    "papermill": {
     "duration": 0.033684,
     "end_time": "2025-03-08T15:01:34.105642",
     "exception": false,
     "start_time": "2025-03-08T15:01:34.071958",
     "status": "completed"
    },
    "tags": []
   },
   "outputs": [
    {
     "data": {
      "text/plain": [
       "App Number         0\n",
       "App                0\n",
       "Category           0\n",
       "Rating             0\n",
       "Reviews            0\n",
       "Size in (MB)       0\n",
       "Min Installs       0\n",
       "Price in $         0\n",
       "Min Allowed Age    0\n",
       "Genres             0\n",
       "Released           0\n",
       "Current Ver        8\n",
       "Android Ver        3\n",
       "dtype: int64"
      ]
     },
     "execution_count": 64,
     "metadata": {},
     "output_type": "execute_result"
    }
   ],
   "source": [
    "df.isnull().sum()"
   ]
  },
  {
   "cell_type": "markdown",
   "id": "145ba39e",
   "metadata": {
    "papermill": {
     "duration": 0.021491,
     "end_time": "2025-03-08T15:01:34.149989",
     "exception": false,
     "start_time": "2025-03-08T15:01:34.128498",
     "status": "completed"
    },
    "tags": []
   },
   "source": [
    "**there are 'Varies with device' value and null values so we replace them by 'UnKnown'**"
   ]
  },
  {
   "cell_type": "code",
   "execution_count": 65,
   "id": "07c2fd0f",
   "metadata": {
    "execution": {
     "iopub.execute_input": "2025-03-08T15:01:34.196768Z",
     "iopub.status.busy": "2025-03-08T15:01:34.196436Z",
     "iopub.status.idle": "2025-03-08T15:01:34.206542Z",
     "shell.execute_reply": "2025-03-08T15:01:34.205784Z"
    },
    "papermill": {
     "duration": 0.036737,
     "end_time": "2025-03-08T15:01:34.208391",
     "exception": false,
     "start_time": "2025-03-08T15:01:34.171654",
     "status": "completed"
    },
    "tags": []
   },
   "outputs": [
    {
     "data": {
      "text/plain": [
       "Current Ver\n",
       "UnKnown              1063\n",
       "1.0                   798\n",
       "1.1                   260\n",
       "1.2                   176\n",
       "2.0                   149\n",
       "                     ... \n",
       "24.6.6                  1\n",
       "5055.524.5              1\n",
       "16.7                    1\n",
       "1.0-build20170819       1\n",
       "1.91                    1\n",
       "Name: count, Length: 2820, dtype: int64"
      ]
     },
     "execution_count": 65,
     "metadata": {},
     "output_type": "execute_result"
    }
   ],
   "source": [
    "df['Current Ver']=df['Current Ver'].replace('Varies with device','UnKnown')\n",
    "df['Current Ver']=df['Current Ver'].fillna('UnKnown')\n",
    "df['Current Ver'].value_counts()"
   ]
  },
  {
   "cell_type": "markdown",
   "id": "deae6c74",
   "metadata": {
    "papermill": {
     "duration": 0.02421,
     "end_time": "2025-03-08T15:01:34.255508",
     "exception": false,
     "start_time": "2025-03-08T15:01:34.231298",
     "status": "completed"
    },
    "tags": []
   },
   "source": [
    "**Let's show 3 null rows in 'Android Ver'**"
   ]
  },
  {
   "cell_type": "code",
   "execution_count": 66,
   "id": "32133136",
   "metadata": {
    "execution": {
     "iopub.execute_input": "2025-03-08T15:01:34.303897Z",
     "iopub.status.busy": "2025-03-08T15:01:34.303516Z",
     "iopub.status.idle": "2025-03-08T15:01:34.316859Z",
     "shell.execute_reply": "2025-03-08T15:01:34.315305Z"
    },
    "papermill": {
     "duration": 0.039893,
     "end_time": "2025-03-08T15:01:34.319037",
     "exception": false,
     "start_time": "2025-03-08T15:01:34.279144",
     "status": "completed"
    },
    "tags": []
   },
   "outputs": [
    {
     "data": {
      "text/html": [
       "<div>\n",
       "<style scoped>\n",
       "    .dataframe tbody tr th:only-of-type {\n",
       "        vertical-align: middle;\n",
       "    }\n",
       "\n",
       "    .dataframe tbody tr th {\n",
       "        vertical-align: top;\n",
       "    }\n",
       "\n",
       "    .dataframe thead th {\n",
       "        text-align: right;\n",
       "    }\n",
       "</style>\n",
       "<table border=\"1\" class=\"dataframe\">\n",
       "  <thead>\n",
       "    <tr style=\"text-align: right;\">\n",
       "      <th></th>\n",
       "      <th>App Number</th>\n",
       "      <th>App</th>\n",
       "      <th>Category</th>\n",
       "      <th>Rating</th>\n",
       "      <th>Reviews</th>\n",
       "      <th>Size in (MB)</th>\n",
       "      <th>Min Installs</th>\n",
       "      <th>Price in $</th>\n",
       "      <th>Min Allowed Age</th>\n",
       "      <th>Genres</th>\n",
       "      <th>Released</th>\n",
       "      <th>Current Ver</th>\n",
       "      <th>Android Ver</th>\n",
       "    </tr>\n",
       "  </thead>\n",
       "  <tbody>\n",
       "    <tr>\n",
       "      <th>3389</th>\n",
       "      <td>3389</td>\n",
       "      <td>[substratum] Vacuum: P</td>\n",
       "      <td>PERSONALIZATION</td>\n",
       "      <td>4.400000</td>\n",
       "      <td>230</td>\n",
       "      <td>11.0</td>\n",
       "      <td>1000</td>\n",
       "      <td>1.49</td>\n",
       "      <td>0</td>\n",
       "      <td>Personalization</td>\n",
       "      <td>2018-07-20</td>\n",
       "      <td>4.4</td>\n",
       "      <td>NaN</td>\n",
       "    </tr>\n",
       "    <tr>\n",
       "      <th>3426</th>\n",
       "      <td>3426</td>\n",
       "      <td>Pi Dark [substratum]</td>\n",
       "      <td>PERSONALIZATION</td>\n",
       "      <td>4.500000</td>\n",
       "      <td>189</td>\n",
       "      <td>2.1</td>\n",
       "      <td>10000</td>\n",
       "      <td>0.00</td>\n",
       "      <td>0</td>\n",
       "      <td>Personalization</td>\n",
       "      <td>2018-03-27</td>\n",
       "      <td>1.1</td>\n",
       "      <td>NaN</td>\n",
       "    </tr>\n",
       "    <tr>\n",
       "      <th>9294</th>\n",
       "      <td>9294</td>\n",
       "      <td>Life Made WI-Fi Touchscreen Photo Frame</td>\n",
       "      <td>UnKnown</td>\n",
       "      <td>4.175076</td>\n",
       "      <td>3000000</td>\n",
       "      <td>0.0</td>\n",
       "      <td>0</td>\n",
       "      <td>0.00</td>\n",
       "      <td>0</td>\n",
       "      <td>Unknown</td>\n",
       "      <td>2018-02-11</td>\n",
       "      <td>4.0 and up</td>\n",
       "      <td>NaN</td>\n",
       "    </tr>\n",
       "  </tbody>\n",
       "</table>\n",
       "</div>"
      ],
      "text/plain": [
       "      App Number                                      App         Category  \\\n",
       "3389        3389                   [substratum] Vacuum: P  PERSONALIZATION   \n",
       "3426        3426                     Pi Dark [substratum]  PERSONALIZATION   \n",
       "9294        9294  Life Made WI-Fi Touchscreen Photo Frame          UnKnown   \n",
       "\n",
       "        Rating  Reviews  Size in (MB)  Min Installs  Price in $  \\\n",
       "3389  4.400000      230          11.0          1000        1.49   \n",
       "3426  4.500000      189           2.1         10000        0.00   \n",
       "9294  4.175076  3000000           0.0             0        0.00   \n",
       "\n",
       "      Min Allowed Age           Genres   Released Current Ver Android Ver  \n",
       "3389                0  Personalization 2018-07-20         4.4         NaN  \n",
       "3426                0  Personalization 2018-03-27         1.1         NaN  \n",
       "9294                0          Unknown 2018-02-11  4.0 and up         NaN  "
      ]
     },
     "execution_count": 66,
     "metadata": {},
     "output_type": "execute_result"
    }
   ],
   "source": [
    "df[df['Android Ver'].isna()]"
   ]
  },
  {
   "cell_type": "markdown",
   "id": "0cfe7b3c",
   "metadata": {
    "papermill": {
     "duration": 0.022019,
     "end_time": "2025-03-08T15:01:34.364002",
     "exception": false,
     "start_time": "2025-03-08T15:01:34.341983",
     "status": "completed"
    },
    "tags": []
   },
   "source": [
    "* **We found an value doesn't match other values in 'Current Ver'='4.0 and up'**\n",
    "* **We need to check if there are other values contains 'and up' in it**"
   ]
  },
  {
   "cell_type": "code",
   "execution_count": 67,
   "id": "6922eb67",
   "metadata": {
    "execution": {
     "iopub.execute_input": "2025-03-08T15:01:34.409476Z",
     "iopub.status.busy": "2025-03-08T15:01:34.409106Z",
     "iopub.status.idle": "2025-03-08T15:01:34.417934Z",
     "shell.execute_reply": "2025-03-08T15:01:34.416855Z"
    },
    "papermill": {
     "duration": 0.03347,
     "end_time": "2025-03-08T15:01:34.419888",
     "exception": false,
     "start_time": "2025-03-08T15:01:34.386418",
     "status": "completed"
    },
    "tags": []
   },
   "outputs": [
    {
     "data": {
      "text/plain": [
       "np.int64(1)"
      ]
     },
     "execution_count": 67,
     "metadata": {},
     "output_type": "execute_result"
    }
   ],
   "source": [
    "df['Current Ver'].str.contains('and up', na=False).sum()"
   ]
  },
  {
   "cell_type": "markdown",
   "id": "45ed7308",
   "metadata": {
    "papermill": {
     "duration": 0.022226,
     "end_time": "2025-03-08T15:01:34.464957",
     "exception": false,
     "start_time": "2025-03-08T15:01:34.442731",
     "status": "completed"
    },
    "tags": []
   },
   "source": [
    "**The 'and up' wasn't duplicated so I expect that was shifted from 'Android Ver' column like some values in same row because 'and up' matches 'Android Ver' values**"
   ]
  },
  {
   "cell_type": "code",
   "execution_count": 68,
   "id": "811d6e36",
   "metadata": {
    "execution": {
     "iopub.execute_input": "2025-03-08T15:01:34.510886Z",
     "iopub.status.busy": "2025-03-08T15:01:34.510601Z",
     "iopub.status.idle": "2025-03-08T15:01:34.524127Z",
     "shell.execute_reply": "2025-03-08T15:01:34.523041Z"
    },
    "papermill": {
     "duration": 0.038687,
     "end_time": "2025-03-08T15:01:34.526182",
     "exception": false,
     "start_time": "2025-03-08T15:01:34.487495",
     "status": "completed"
    },
    "tags": []
   },
   "outputs": [
    {
     "data": {
      "text/html": [
       "<div>\n",
       "<style scoped>\n",
       "    .dataframe tbody tr th:only-of-type {\n",
       "        vertical-align: middle;\n",
       "    }\n",
       "\n",
       "    .dataframe tbody tr th {\n",
       "        vertical-align: top;\n",
       "    }\n",
       "\n",
       "    .dataframe thead th {\n",
       "        text-align: right;\n",
       "    }\n",
       "</style>\n",
       "<table border=\"1\" class=\"dataframe\">\n",
       "  <thead>\n",
       "    <tr style=\"text-align: right;\">\n",
       "      <th></th>\n",
       "      <th>App Number</th>\n",
       "      <th>App</th>\n",
       "      <th>Category</th>\n",
       "      <th>Rating</th>\n",
       "      <th>Reviews</th>\n",
       "      <th>Size in (MB)</th>\n",
       "      <th>Min Installs</th>\n",
       "      <th>Price in $</th>\n",
       "      <th>Min Allowed Age</th>\n",
       "      <th>Genres</th>\n",
       "      <th>Released</th>\n",
       "      <th>Current Ver</th>\n",
       "      <th>Android Ver</th>\n",
       "    </tr>\n",
       "  </thead>\n",
       "  <tbody>\n",
       "    <tr>\n",
       "      <th>9294</th>\n",
       "      <td>9294</td>\n",
       "      <td>Life Made WI-Fi Touchscreen Photo Frame</td>\n",
       "      <td>UnKnown</td>\n",
       "      <td>4.175076</td>\n",
       "      <td>3000000</td>\n",
       "      <td>0.0</td>\n",
       "      <td>0</td>\n",
       "      <td>0.0</td>\n",
       "      <td>0</td>\n",
       "      <td>Unknown</td>\n",
       "      <td>2018-02-11</td>\n",
       "      <td>4.0 and up</td>\n",
       "      <td>NaN</td>\n",
       "    </tr>\n",
       "  </tbody>\n",
       "</table>\n",
       "</div>"
      ],
      "text/plain": [
       "      App Number                                      App Category    Rating  \\\n",
       "9294        9294  Life Made WI-Fi Touchscreen Photo Frame  UnKnown  4.175076   \n",
       "\n",
       "      Reviews  Size in (MB)  Min Installs  Price in $  Min Allowed Age  \\\n",
       "9294  3000000           0.0             0         0.0                0   \n",
       "\n",
       "       Genres   Released Current Ver Android Ver  \n",
       "9294  Unknown 2018-02-11  4.0 and up         NaN  "
      ]
     },
     "execution_count": 68,
     "metadata": {},
     "output_type": "execute_result"
    }
   ],
   "source": [
    "df.iloc[9293,12]='4.0 and up'\n",
    "df.iloc[9293,11]='UnKnown'\n",
    "df[df['App']=='Life Made WI-Fi Touchscreen Photo Frame']"
   ]
  },
  {
   "cell_type": "code",
   "execution_count": 69,
   "id": "41a9d8b7",
   "metadata": {
    "execution": {
     "iopub.execute_input": "2025-03-08T15:01:34.573635Z",
     "iopub.status.busy": "2025-03-08T15:01:34.573337Z",
     "iopub.status.idle": "2025-03-08T15:01:34.580221Z",
     "shell.execute_reply": "2025-03-08T15:01:34.578727Z"
    },
    "papermill": {
     "duration": 0.032612,
     "end_time": "2025-03-08T15:01:34.582154",
     "exception": false,
     "start_time": "2025-03-08T15:01:34.549542",
     "status": "completed"
    },
    "tags": []
   },
   "outputs": [
    {
     "data": {
      "text/plain": [
       "array(['1.0.0', '1.2.4', 'UnKnown', ..., '1.0.612928', '0.3.4',\n",
       "       '2.0.148.0'], shape=(2820,), dtype=object)"
      ]
     },
     "execution_count": 69,
     "metadata": {},
     "output_type": "execute_result"
    }
   ],
   "source": [
    "df['Current Ver'].unique()"
   ]
  },
  {
   "cell_type": "markdown",
   "id": "60a27ebb",
   "metadata": {
    "papermill": {
     "duration": 0.022543,
     "end_time": "2025-03-08T15:01:34.631725",
     "exception": false,
     "start_time": "2025-03-08T15:01:34.609182",
     "status": "completed"
    },
    "tags": []
   },
   "source": [
    "**let's check 'Android Ver' column values**"
   ]
  },
  {
   "cell_type": "code",
   "execution_count": 70,
   "id": "d1e3fa3c",
   "metadata": {
    "execution": {
     "iopub.execute_input": "2025-03-08T15:01:34.677132Z",
     "iopub.status.busy": "2025-03-08T15:01:34.676797Z",
     "iopub.status.idle": "2025-03-08T15:01:34.681512Z",
     "shell.execute_reply": "2025-03-08T15:01:34.680863Z"
    },
    "papermill": {
     "duration": 0.028647,
     "end_time": "2025-03-08T15:01:34.682645",
     "exception": false,
     "start_time": "2025-03-08T15:01:34.653998",
     "status": "completed"
    },
    "tags": []
   },
   "outputs": [
    {
     "data": {
      "text/plain": [
       "array(['4.0.3 and up', '4.2 and up', '4.4 and up', '2.3 and up',\n",
       "       '3.0 and up', '4.1 and up', '4.0 and up', '2.3.3 and up',\n",
       "       'Varies with device', '2.2 and up', '5.0 and up', '6.0 and up',\n",
       "       '1.6 and up', '1.5 and up', '2.1 and up', '7.0 and up',\n",
       "       '5.1 and up', '4.3 and up', '4.0.3 - 7.1.1', '2.0 and up',\n",
       "       '3.2 and up', '4.4W and up', '7.1 and up', '7.0 - 7.1.1',\n",
       "       '8.0 and up', '5.0 - 8.0', '3.1 and up', '2.0.1 and up',\n",
       "       '4.1 - 7.1.1', nan, '5.0 - 6.0', '1.0 and up', '2.2 - 7.1.1',\n",
       "       '5.0 - 7.1.1'], dtype=object)"
      ]
     },
     "execution_count": 70,
     "metadata": {},
     "output_type": "execute_result"
    }
   ],
   "source": [
    "df['Android Ver'].unique()"
   ]
  },
  {
   "cell_type": "markdown",
   "id": "bcbca6fc",
   "metadata": {
    "papermill": {
     "duration": 0.021693,
     "end_time": "2025-03-08T15:01:34.727063",
     "exception": false,
     "start_time": "2025-03-08T15:01:34.705370",
     "status": "completed"
    },
    "tags": []
   },
   "source": [
    "**We need to convert it to min Android Ver so we need to take only first part from value**"
   ]
  },
  {
   "cell_type": "code",
   "execution_count": 71,
   "id": "3cd57d64",
   "metadata": {
    "execution": {
     "iopub.execute_input": "2025-03-08T15:01:34.772679Z",
     "iopub.status.busy": "2025-03-08T15:01:34.772419Z",
     "iopub.status.idle": "2025-03-08T15:01:34.870926Z",
     "shell.execute_reply": "2025-03-08T15:01:34.869924Z"
    },
    "papermill": {
     "duration": 0.122882,
     "end_time": "2025-03-08T15:01:34.872539",
     "exception": false,
     "start_time": "2025-03-08T15:01:34.749657",
     "status": "completed"
    },
    "tags": []
   },
   "outputs": [
    {
     "data": {
      "text/plain": [
       "array(['4.0.3', '4.2', '4.4', '2.3', '3.0', '4.1', '4.0', '2.3.3',\n",
       "       'Varies', '2.2', '5.0', '6.0', '1.6', '1.5', '2.1', '7.0', '5.1',\n",
       "       '4.3', '2.0', '3.2', '4.4W', '7.1', '8.0', '3.1', '2.0.1', nan,\n",
       "       '1.0'], dtype=object)"
      ]
     },
     "execution_count": 71,
     "metadata": {},
     "output_type": "execute_result"
    }
   ],
   "source": [
    "df['Android Ver'] = df['Android Ver'].str.split().str[0]\n",
    "df['Android Ver'].unique()"
   ]
  },
  {
   "cell_type": "markdown",
   "id": "b429d7de",
   "metadata": {
    "papermill": {
     "duration": 0.022191,
     "end_time": "2025-03-08T15:01:34.919657",
     "exception": false,
     "start_time": "2025-03-08T15:01:34.897466",
     "status": "completed"
    },
    "tags": []
   },
   "source": [
    "**We need to replace 'Varies' and null values by 'UnKnown'**"
   ]
  },
  {
   "cell_type": "code",
   "execution_count": 72,
   "id": "c75d2566",
   "metadata": {
    "execution": {
     "iopub.execute_input": "2025-03-08T15:01:34.966082Z",
     "iopub.status.busy": "2025-03-08T15:01:34.965710Z",
     "iopub.status.idle": "2025-03-08T15:01:34.976934Z",
     "shell.execute_reply": "2025-03-08T15:01:34.976055Z"
    },
    "papermill": {
     "duration": 0.035763,
     "end_time": "2025-03-08T15:01:34.978191",
     "exception": false,
     "start_time": "2025-03-08T15:01:34.942428",
     "status": "completed"
    },
    "tags": []
   },
   "outputs": [
    {
     "data": {
      "text/plain": [
       "array(['4.0.3', '4.2', '4.4', '2.3', '3.0', '4.1', '4.0', '2.3.3',\n",
       "       'UnKnown', '2.2', '5.0', '6.0', '1.6', '1.5', '2.1', '7.0', '5.1',\n",
       "       '4.3', '2.0', '3.2', '4.4W', '7.1', '8.0', '3.1', '2.0.1', '1.0'],\n",
       "      dtype=object)"
      ]
     },
     "execution_count": 72,
     "metadata": {},
     "output_type": "execute_result"
    }
   ],
   "source": [
    "df['Android Ver']=df['Android Ver'].replace('Varies','UnKnown')\n",
    "df['Android Ver']=df['Android Ver'].fillna('UnKnown')\n",
    "df.rename(columns={'Android Ver':'Min Android Ver'},inplace=True)\n",
    "df['Min Android Ver'].unique()"
   ]
  },
  {
   "cell_type": "code",
   "execution_count": 73,
   "id": "f2bd1d9f",
   "metadata": {
    "execution": {
     "iopub.execute_input": "2025-03-08T15:01:35.025685Z",
     "iopub.status.busy": "2025-03-08T15:01:35.025411Z",
     "iopub.status.idle": "2025-03-08T15:01:35.035302Z",
     "shell.execute_reply": "2025-03-08T15:01:35.034476Z"
    },
    "papermill": {
     "duration": 0.036131,
     "end_time": "2025-03-08T15:01:35.037047",
     "exception": false,
     "start_time": "2025-03-08T15:01:35.000916",
     "status": "completed"
    },
    "tags": []
   },
   "outputs": [
    {
     "data": {
      "text/plain": [
       "App Number         0\n",
       "App                0\n",
       "Category           0\n",
       "Rating             0\n",
       "Reviews            0\n",
       "Size in (MB)       0\n",
       "Min Installs       0\n",
       "Price in $         0\n",
       "Min Allowed Age    0\n",
       "Genres             0\n",
       "Released           0\n",
       "Current Ver        0\n",
       "Min Android Ver    0\n",
       "dtype: int64"
      ]
     },
     "execution_count": 73,
     "metadata": {},
     "output_type": "execute_result"
    }
   ],
   "source": [
    "df.isnull().sum()"
   ]
  },
  {
   "cell_type": "code",
   "execution_count": 74,
   "id": "4b4b9567",
   "metadata": {
    "execution": {
     "iopub.execute_input": "2025-03-08T15:01:35.087080Z",
     "iopub.status.busy": "2025-03-08T15:01:35.086723Z",
     "iopub.status.idle": "2025-03-08T15:01:35.099892Z",
     "shell.execute_reply": "2025-03-08T15:01:35.098262Z"
    },
    "papermill": {
     "duration": 0.041319,
     "end_time": "2025-03-08T15:01:35.102095",
     "exception": false,
     "start_time": "2025-03-08T15:01:35.060776",
     "status": "completed"
    },
    "tags": []
   },
   "outputs": [
    {
     "data": {
      "text/html": [
       "<div>\n",
       "<style scoped>\n",
       "    .dataframe tbody tr th:only-of-type {\n",
       "        vertical-align: middle;\n",
       "    }\n",
       "\n",
       "    .dataframe tbody tr th {\n",
       "        vertical-align: top;\n",
       "    }\n",
       "\n",
       "    .dataframe thead th {\n",
       "        text-align: right;\n",
       "    }\n",
       "</style>\n",
       "<table border=\"1\" class=\"dataframe\">\n",
       "  <thead>\n",
       "    <tr style=\"text-align: right;\">\n",
       "      <th></th>\n",
       "      <th>App Number</th>\n",
       "      <th>App</th>\n",
       "      <th>Category</th>\n",
       "      <th>Rating</th>\n",
       "      <th>Reviews</th>\n",
       "      <th>Size in (MB)</th>\n",
       "      <th>Min Installs</th>\n",
       "      <th>Price in $</th>\n",
       "      <th>Min Allowed Age</th>\n",
       "      <th>Genres</th>\n",
       "      <th>Released</th>\n",
       "      <th>Current Ver</th>\n",
       "      <th>Min Android Ver</th>\n",
       "    </tr>\n",
       "  </thead>\n",
       "  <tbody>\n",
       "    <tr>\n",
       "      <th>0</th>\n",
       "      <td>0</td>\n",
       "      <td>Photo Editor &amp; Candy Camera &amp; Grid &amp; ScrapBook</td>\n",
       "      <td>ART_AND_DESIGN</td>\n",
       "      <td>4.1</td>\n",
       "      <td>159</td>\n",
       "      <td>19.0</td>\n",
       "      <td>10000</td>\n",
       "      <td>0.0</td>\n",
       "      <td>0</td>\n",
       "      <td>Art &amp; Design</td>\n",
       "      <td>2018-01-07</td>\n",
       "      <td>1.0.0</td>\n",
       "      <td>4.0.3</td>\n",
       "    </tr>\n",
       "    <tr>\n",
       "      <th>1</th>\n",
       "      <td>1</td>\n",
       "      <td>U Launcher Lite – FREE Live Cool Themes, Hide ...</td>\n",
       "      <td>ART_AND_DESIGN</td>\n",
       "      <td>4.7</td>\n",
       "      <td>87510</td>\n",
       "      <td>8.7</td>\n",
       "      <td>5000000</td>\n",
       "      <td>0.0</td>\n",
       "      <td>0</td>\n",
       "      <td>Art &amp; Design</td>\n",
       "      <td>2018-08-01</td>\n",
       "      <td>1.2.4</td>\n",
       "      <td>4.0.3</td>\n",
       "    </tr>\n",
       "    <tr>\n",
       "      <th>2</th>\n",
       "      <td>2</td>\n",
       "      <td>Sketch - Draw &amp; Paint</td>\n",
       "      <td>ART_AND_DESIGN</td>\n",
       "      <td>4.5</td>\n",
       "      <td>215644</td>\n",
       "      <td>25.0</td>\n",
       "      <td>50000000</td>\n",
       "      <td>0.0</td>\n",
       "      <td>13</td>\n",
       "      <td>Art &amp; Design</td>\n",
       "      <td>2018-06-08</td>\n",
       "      <td>UnKnown</td>\n",
       "      <td>4.2</td>\n",
       "    </tr>\n",
       "    <tr>\n",
       "      <th>3</th>\n",
       "      <td>3</td>\n",
       "      <td>Pixel Draw - Number Art Coloring Book</td>\n",
       "      <td>ART_AND_DESIGN</td>\n",
       "      <td>4.3</td>\n",
       "      <td>967</td>\n",
       "      <td>2.8</td>\n",
       "      <td>100000</td>\n",
       "      <td>0.0</td>\n",
       "      <td>0</td>\n",
       "      <td>Art &amp; Design &amp; Creativity</td>\n",
       "      <td>2018-06-20</td>\n",
       "      <td>1.1</td>\n",
       "      <td>4.4</td>\n",
       "    </tr>\n",
       "    <tr>\n",
       "      <th>4</th>\n",
       "      <td>4</td>\n",
       "      <td>Paper flowers instructions</td>\n",
       "      <td>ART_AND_DESIGN</td>\n",
       "      <td>4.4</td>\n",
       "      <td>167</td>\n",
       "      <td>5.6</td>\n",
       "      <td>50000</td>\n",
       "      <td>0.0</td>\n",
       "      <td>0</td>\n",
       "      <td>Art &amp; Design</td>\n",
       "      <td>2017-03-26</td>\n",
       "      <td>1.0</td>\n",
       "      <td>2.3</td>\n",
       "    </tr>\n",
       "  </tbody>\n",
       "</table>\n",
       "</div>"
      ],
      "text/plain": [
       "   App Number                                                App  \\\n",
       "0           0     Photo Editor & Candy Camera & Grid & ScrapBook   \n",
       "1           1  U Launcher Lite – FREE Live Cool Themes, Hide ...   \n",
       "2           2                              Sketch - Draw & Paint   \n",
       "3           3              Pixel Draw - Number Art Coloring Book   \n",
       "4           4                         Paper flowers instructions   \n",
       "\n",
       "         Category  Rating  Reviews  Size in (MB)  Min Installs  Price in $  \\\n",
       "0  ART_AND_DESIGN     4.1      159          19.0         10000         0.0   \n",
       "1  ART_AND_DESIGN     4.7    87510           8.7       5000000         0.0   \n",
       "2  ART_AND_DESIGN     4.5   215644          25.0      50000000         0.0   \n",
       "3  ART_AND_DESIGN     4.3      967           2.8        100000         0.0   \n",
       "4  ART_AND_DESIGN     4.4      167           5.6         50000         0.0   \n",
       "\n",
       "   Min Allowed Age                     Genres   Released Current Ver  \\\n",
       "0                0               Art & Design 2018-01-07       1.0.0   \n",
       "1                0               Art & Design 2018-08-01       1.2.4   \n",
       "2               13               Art & Design 2018-06-08     UnKnown   \n",
       "3                0  Art & Design & Creativity 2018-06-20         1.1   \n",
       "4                0               Art & Design 2017-03-26         1.0   \n",
       "\n",
       "  Min Android Ver  \n",
       "0           4.0.3  \n",
       "1           4.0.3  \n",
       "2             4.2  \n",
       "3             4.4  \n",
       "4             2.3  "
      ]
     },
     "execution_count": 74,
     "metadata": {},
     "output_type": "execute_result"
    }
   ],
   "source": [
    "df.head()"
   ]
  },
  {
   "cell_type": "markdown",
   "id": "d3a2bc9d",
   "metadata": {
    "papermill": {
     "duration": 0.02336,
     "end_time": "2025-03-08T15:01:35.149482",
     "exception": false,
     "start_time": "2025-03-08T15:01:35.126122",
     "status": "completed"
    },
    "tags": []
   },
   "source": [
    "******Now The Data is Cleaning******"
   ]
  },
  {
   "cell_type": "markdown",
   "id": "d636a52d",
   "metadata": {
    "papermill": {
     "duration": 0.022211,
     "end_time": "2025-03-08T15:01:35.194544",
     "exception": false,
     "start_time": "2025-03-08T15:01:35.172333",
     "status": "completed"
    },
    "tags": []
   },
   "source": [
    "# Generate 'Type' Column"
   ]
  },
  {
   "cell_type": "code",
   "execution_count": 75,
   "id": "eabbf11f",
   "metadata": {
    "execution": {
     "iopub.execute_input": "2025-03-08T15:01:35.245373Z",
     "iopub.status.busy": "2025-03-08T15:01:35.245047Z",
     "iopub.status.idle": "2025-03-08T15:01:35.260596Z",
     "shell.execute_reply": "2025-03-08T15:01:35.259461Z"
    },
    "papermill": {
     "duration": 0.042589,
     "end_time": "2025-03-08T15:01:35.261985",
     "exception": false,
     "start_time": "2025-03-08T15:01:35.219396",
     "status": "completed"
    },
    "tags": []
   },
   "outputs": [
    {
     "data": {
      "text/html": [
       "<div>\n",
       "<style scoped>\n",
       "    .dataframe tbody tr th:only-of-type {\n",
       "        vertical-align: middle;\n",
       "    }\n",
       "\n",
       "    .dataframe tbody tr th {\n",
       "        vertical-align: top;\n",
       "    }\n",
       "\n",
       "    .dataframe thead th {\n",
       "        text-align: right;\n",
       "    }\n",
       "</style>\n",
       "<table border=\"1\" class=\"dataframe\">\n",
       "  <thead>\n",
       "    <tr style=\"text-align: right;\">\n",
       "      <th></th>\n",
       "      <th>App Number</th>\n",
       "      <th>App</th>\n",
       "      <th>Category</th>\n",
       "      <th>Rating</th>\n",
       "      <th>Reviews</th>\n",
       "      <th>Size in (MB)</th>\n",
       "      <th>Min Installs</th>\n",
       "      <th>Price in $</th>\n",
       "      <th>Min Allowed Age</th>\n",
       "      <th>Genres</th>\n",
       "      <th>Released</th>\n",
       "      <th>Current Ver</th>\n",
       "      <th>Min Android Ver</th>\n",
       "      <th>Type</th>\n",
       "    </tr>\n",
       "  </thead>\n",
       "  <tbody>\n",
       "    <tr>\n",
       "      <th>0</th>\n",
       "      <td>0</td>\n",
       "      <td>Photo Editor &amp; Candy Camera &amp; Grid &amp; ScrapBook</td>\n",
       "      <td>ART_AND_DESIGN</td>\n",
       "      <td>4.1</td>\n",
       "      <td>159</td>\n",
       "      <td>19.0</td>\n",
       "      <td>10000</td>\n",
       "      <td>0.0</td>\n",
       "      <td>0</td>\n",
       "      <td>Art &amp; Design</td>\n",
       "      <td>2018-01-07</td>\n",
       "      <td>1.0.0</td>\n",
       "      <td>4.0.3</td>\n",
       "      <td>Free</td>\n",
       "    </tr>\n",
       "    <tr>\n",
       "      <th>1</th>\n",
       "      <td>1</td>\n",
       "      <td>U Launcher Lite – FREE Live Cool Themes, Hide ...</td>\n",
       "      <td>ART_AND_DESIGN</td>\n",
       "      <td>4.7</td>\n",
       "      <td>87510</td>\n",
       "      <td>8.7</td>\n",
       "      <td>5000000</td>\n",
       "      <td>0.0</td>\n",
       "      <td>0</td>\n",
       "      <td>Art &amp; Design</td>\n",
       "      <td>2018-08-01</td>\n",
       "      <td>1.2.4</td>\n",
       "      <td>4.0.3</td>\n",
       "      <td>Free</td>\n",
       "    </tr>\n",
       "    <tr>\n",
       "      <th>2</th>\n",
       "      <td>2</td>\n",
       "      <td>Sketch - Draw &amp; Paint</td>\n",
       "      <td>ART_AND_DESIGN</td>\n",
       "      <td>4.5</td>\n",
       "      <td>215644</td>\n",
       "      <td>25.0</td>\n",
       "      <td>50000000</td>\n",
       "      <td>0.0</td>\n",
       "      <td>13</td>\n",
       "      <td>Art &amp; Design</td>\n",
       "      <td>2018-06-08</td>\n",
       "      <td>UnKnown</td>\n",
       "      <td>4.2</td>\n",
       "      <td>Free</td>\n",
       "    </tr>\n",
       "    <tr>\n",
       "      <th>3</th>\n",
       "      <td>3</td>\n",
       "      <td>Pixel Draw - Number Art Coloring Book</td>\n",
       "      <td>ART_AND_DESIGN</td>\n",
       "      <td>4.3</td>\n",
       "      <td>967</td>\n",
       "      <td>2.8</td>\n",
       "      <td>100000</td>\n",
       "      <td>0.0</td>\n",
       "      <td>0</td>\n",
       "      <td>Art &amp; Design &amp; Creativity</td>\n",
       "      <td>2018-06-20</td>\n",
       "      <td>1.1</td>\n",
       "      <td>4.4</td>\n",
       "      <td>Free</td>\n",
       "    </tr>\n",
       "    <tr>\n",
       "      <th>4</th>\n",
       "      <td>4</td>\n",
       "      <td>Paper flowers instructions</td>\n",
       "      <td>ART_AND_DESIGN</td>\n",
       "      <td>4.4</td>\n",
       "      <td>167</td>\n",
       "      <td>5.6</td>\n",
       "      <td>50000</td>\n",
       "      <td>0.0</td>\n",
       "      <td>0</td>\n",
       "      <td>Art &amp; Design</td>\n",
       "      <td>2017-03-26</td>\n",
       "      <td>1.0</td>\n",
       "      <td>2.3</td>\n",
       "      <td>Free</td>\n",
       "    </tr>\n",
       "  </tbody>\n",
       "</table>\n",
       "</div>"
      ],
      "text/plain": [
       "   App Number                                                App  \\\n",
       "0           0     Photo Editor & Candy Camera & Grid & ScrapBook   \n",
       "1           1  U Launcher Lite – FREE Live Cool Themes, Hide ...   \n",
       "2           2                              Sketch - Draw & Paint   \n",
       "3           3              Pixel Draw - Number Art Coloring Book   \n",
       "4           4                         Paper flowers instructions   \n",
       "\n",
       "         Category  Rating  Reviews  Size in (MB)  Min Installs  Price in $  \\\n",
       "0  ART_AND_DESIGN     4.1      159          19.0         10000         0.0   \n",
       "1  ART_AND_DESIGN     4.7    87510           8.7       5000000         0.0   \n",
       "2  ART_AND_DESIGN     4.5   215644          25.0      50000000         0.0   \n",
       "3  ART_AND_DESIGN     4.3      967           2.8        100000         0.0   \n",
       "4  ART_AND_DESIGN     4.4      167           5.6         50000         0.0   \n",
       "\n",
       "   Min Allowed Age                     Genres   Released Current Ver  \\\n",
       "0                0               Art & Design 2018-01-07       1.0.0   \n",
       "1                0               Art & Design 2018-08-01       1.2.4   \n",
       "2               13               Art & Design 2018-06-08     UnKnown   \n",
       "3                0  Art & Design & Creativity 2018-06-20         1.1   \n",
       "4                0               Art & Design 2017-03-26         1.0   \n",
       "\n",
       "  Min Android Ver  Type  \n",
       "0           4.0.3  Free  \n",
       "1           4.0.3  Free  \n",
       "2             4.2  Free  \n",
       "3             4.4  Free  \n",
       "4             2.3  Free  "
      ]
     },
     "execution_count": 75,
     "metadata": {},
     "output_type": "execute_result"
    }
   ],
   "source": [
    "df['Type']=df['Price in $'].apply(lambda x:\n",
    "                                 'Free' if x==0.0 else\n",
    "                                 'Paid')\n",
    "df.head()"
   ]
  },
  {
   "cell_type": "markdown",
   "id": "e0229654",
   "metadata": {
    "papermill": {
     "duration": 0.023311,
     "end_time": "2025-03-08T15:01:35.308983",
     "exception": false,
     "start_time": "2025-03-08T15:01:35.285672",
     "status": "completed"
    },
    "tags": []
   },
   "source": [
    "# Let's Visualize Data"
   ]
  },
  {
   "cell_type": "markdown",
   "id": "506a152d",
   "metadata": {
    "papermill": {
     "duration": 0.022016,
     "end_time": "2025-03-08T15:01:35.353416",
     "exception": false,
     "start_time": "2025-03-08T15:01:35.331400",
     "status": "completed"
    },
    "tags": []
   },
   "source": [
    "**Q1. What is the distribution of app ratings?**\n",
    "> Show Distribution with histogram plot"
   ]
  },
  {
   "cell_type": "code",
   "execution_count": 76,
   "id": "8ec5a1fd",
   "metadata": {
    "execution": {
     "iopub.execute_input": "2025-03-08T15:01:35.399112Z",
     "iopub.status.busy": "2025-03-08T15:01:35.398830Z",
     "iopub.status.idle": "2025-03-08T15:01:35.751619Z",
     "shell.execute_reply": "2025-03-08T15:01:35.750866Z"
    },
    "papermill": {
     "duration": 0.3779,
     "end_time": "2025-03-08T15:01:35.753548",
     "exception": false,
     "start_time": "2025-03-08T15:01:35.375648",
     "status": "completed"
    },
    "tags": []
   },
   "outputs": [
    {
     "data": {
      "image/png": "[encoded data removed]",
      "text/plain": [
       "<Figure size 1500x500 with 1 Axes>"
      ]
     },
     "metadata": {},
     "output_type": "display_data"
    }
   ],
   "source": [
    "plt.figure(figsize=(15,5))\n",
    "sns.histplot(df['Rating'])\n",
    "plt.xlabel('Ratings')\n",
    "plt.ylabel('Count')\n",
    "plt.title('Distribution of Apps Ratings')\n",
    "plt.show()"
   ]
  },
  {
   "cell_type": "markdown",
   "id": "a12cedc8",
   "metadata": {
    "papermill": {
     "duration": 0.022793,
     "end_time": "2025-03-08T15:01:35.800699",
     "exception": false,
     "start_time": "2025-03-08T15:01:35.777906",
     "status": "completed"
    },
    "tags": []
   },
   "source": [
    "**Q2. Which categories have the highest number of apps?**\n",
    "> * There are greater than one category in one value so we need to seperate values first\n",
    "> * We shouldn't take 'UnKnown' values in visualization"
   ]
  },
  {
   "cell_type": "code",
   "execution_count": 77,
   "id": "980fece6",
   "metadata": {
    "execution": {
     "iopub.execute_input": "2025-03-08T15:01:35.848886Z",
     "iopub.status.busy": "2025-03-08T15:01:35.848531Z",
     "iopub.status.idle": "2025-03-08T15:01:36.223016Z",
     "shell.execute_reply": "2025-03-08T15:01:36.221664Z"
    },
    "papermill": {
     "duration": 0.400939,
     "end_time": "2025-03-08T15:01:36.225048",
     "exception": false,
     "start_time": "2025-03-08T15:01:35.824109",
     "status": "completed"
    },
    "tags": []
   },
   "outputs": [
    {
     "data": {
      "image/png": "[encoded data removed]",
      "text/plain": [
       "<Figure size 1500x500 with 1 Axes>"
      ]
     },
     "metadata": {},
     "output_type": "display_data"
    }
   ],
   "source": [
    "df_exploded = df.assign(Category=df['Category'].str.split('_AND_')).explode('Category', ignore_index=True)\n",
    "df_exploded=df_exploded[df_exploded['Category']!='UnKnown']\n",
    "plt.figure(figsize=(15,5))\n",
    "sns.countplot(x=df_exploded['Category'])\n",
    "plt.xlabel('Category')\n",
    "plt.ylabel('Count')\n",
    "plt.xticks(rotation=90)\n",
    "plt.title('Number of Apps Categories')\n",
    "plt.show()"
   ]
  },
  {
   "cell_type": "markdown",
   "id": "4a523bbd",
   "metadata": {
    "papermill": {
     "duration": 0.026769,
     "end_time": "2025-03-08T15:01:36.280933",
     "exception": false,
     "start_time": "2025-03-08T15:01:36.254164",
     "status": "completed"
    },
    "tags": []
   },
   "source": [
    "**Q3. What is the relationship between app size and rating?**\n",
    "> we shouldn't take Size value that equal 0.0"
   ]
  },
  {
   "cell_type": "code",
   "execution_count": 78,
   "id": "1efaa58f",
   "metadata": {
    "execution": {
     "iopub.execute_input": "2025-03-08T15:01:36.335637Z",
     "iopub.status.busy": "2025-03-08T15:01:36.335285Z",
     "iopub.status.idle": "2025-03-08T15:01:36.550250Z",
     "shell.execute_reply": "2025-03-08T15:01:36.548954Z"
    },
    "papermill": {
     "duration": 0.245917,
     "end_time": "2025-03-08T15:01:36.551778",
     "exception": false,
     "start_time": "2025-03-08T15:01:36.305861",
     "status": "completed"
    },
    "tags": []
   },
   "outputs": [
    {
     "data": {
      "image/png": "[encoded data removed]",
      "text/plain": [
       "<Figure size 1500x500 with 1 Axes>"
      ]
     },
     "metadata": {},
     "output_type": "display_data"
    }
   ],
   "source": [
    "filtered_df=df[df['Size in (MB)']!=0.0]\n",
    "plt.figure(figsize=(15, 5))\n",
    "sns.scatterplot(x=filtered_df['Size in (MB)'], y=df['Rating'])\n",
    "plt.xlabel(\"App Size (MB)\")\n",
    "plt.ylabel(\"Rating\")\n",
    "plt.title(\"Relationship Between App Size and Rating\")\n",
    "plt.show()"
   ]
  },
  {
   "cell_type": "markdown",
   "id": "0939d01f",
   "metadata": {
    "papermill": {
     "duration": 0.029254,
     "end_time": "2025-03-08T15:01:36.612179",
     "exception": false,
     "start_time": "2025-03-08T15:01:36.582925",
     "status": "completed"
    },
    "tags": []
   },
   "source": [
    "**Q4. How many free vs. paid apps are there?**\n",
    "> The best visualize to it by percentage and pie chart"
   ]
  },
  {
   "cell_type": "code",
   "execution_count": 79,
   "id": "8716822c",
   "metadata": {
    "execution": {
     "iopub.execute_input": "2025-03-08T15:01:36.671686Z",
     "iopub.status.busy": "2025-03-08T15:01:36.671359Z",
     "iopub.status.idle": "2025-03-08T15:01:36.763424Z",
     "shell.execute_reply": "2025-03-08T15:01:36.761901Z"
    },
    "papermill": {
     "duration": 0.122187,
     "end_time": "2025-03-08T15:01:36.764943",
     "exception": false,
     "start_time": "2025-03-08T15:01:36.642756",
     "status": "completed"
    },
    "tags": []
   },
   "outputs": [
    {
     "data": {
      "image/png": "[encoded data removed]",
      "text/plain": [
       "<Figure size 640x480 with 1 Axes>"
      ]
     },
     "metadata": {},
     "output_type": "display_data"
    }
   ],
   "source": [
    "counts=df['Type'].value_counts()\n",
    "plt.pie(counts,labels=counts.index,autopct='%1.1f%%')\n",
    "plt.xlabel(\"App Type\")\n",
    "plt.ylabel(\"Count\")\n",
    "plt.title(\"Number of Apps Types\")\n",
    "plt.show()"
   ]
  },
  {
   "cell_type": "markdown",
   "id": "1e26ed35",
   "metadata": {
    "papermill": {
     "duration": 0.029018,
     "end_time": "2025-03-08T15:01:36.823199",
     "exception": false,
     "start_time": "2025-03-08T15:01:36.794181",
     "status": "completed"
    },
    "tags": []
   },
   "source": [
    "**Q5. Which categories have the highest average ratings?**\n",
    "> *  There are greater than one category in one value so we need to seperate values first\n",
    "> * The 'UnKnown' values shouldn't be contained in the plot\n",
    "> *  The best way to visualize it by Bar chart"
   ]
  },
  {
   "cell_type": "code",
   "execution_count": 80,
   "id": "31fc3f28",
   "metadata": {
    "execution": {
     "iopub.execute_input": "2025-03-08T15:01:36.884146Z",
     "iopub.status.busy": "2025-03-08T15:01:36.883744Z",
     "iopub.status.idle": "2025-03-08T15:01:37.271425Z",
     "shell.execute_reply": "2025-03-08T15:01:37.270384Z"
    },
    "papermill": {
     "duration": 0.420471,
     "end_time": "2025-03-08T15:01:37.272760",
     "exception": false,
     "start_time": "2025-03-08T15:01:36.852289",
     "status": "completed"
    },
    "tags": []
   },
   "outputs": [
    {
     "data": {
      "image/png": "[encoded data removed]",
      "text/plain": [
       "<Figure size 1500x500 with 1 Axes>"
      ]
     },
     "metadata": {},
     "output_type": "display_data"
    }
   ],
   "source": [
    "plt.figure(figsize=(15, 5))\n",
    "df_exploded = df.assign(Category=df['Category'].str.split('_AND_')).explode('Category', ignore_index=True)\n",
    "df_exploded=df_exploded[df_exploded['Category']!='UnKnown']\n",
    "df.groupby(df_exploded['Category'])['Rating'].mean().sort_values(ascending=False).plot(kind=\"bar\")\n",
    "plt.xlabel(\"Category\")\n",
    "plt.ylabel(\"Average Rating\")\n",
    "plt.title(\"Average Ratings per Category\")\n",
    "plt.xticks(rotation=90)\n",
    "plt.show()"
   ]
  },
  {
   "cell_type": "markdown",
   "id": "13604a9e",
   "metadata": {
    "papermill": {
     "duration": 0.031846,
     "end_time": "2025-03-08T15:01:37.335860",
     "exception": false,
     "start_time": "2025-03-08T15:01:37.304014",
     "status": "completed"
    },
    "tags": []
   },
   "source": [
    "**Q6. What is the distribution of app installs?**\n",
    "> I'll visualize it by Box plot"
   ]
  },
  {
   "cell_type": "code",
   "execution_count": 81,
   "id": "f7d27b17",
   "metadata": {
    "execution": {
     "iopub.execute_input": "2025-03-08T15:01:37.396771Z",
     "iopub.status.busy": "2025-03-08T15:01:37.396478Z",
     "iopub.status.idle": "2025-03-08T15:01:37.872750Z",
     "shell.execute_reply": "2025-03-08T15:01:37.871433Z"
    },
    "papermill": {
     "duration": 0.508477,
     "end_time": "2025-03-08T15:01:37.874385",
     "exception": false,
     "start_time": "2025-03-08T15:01:37.365908",
     "status": "completed"
    },
    "tags": []
   },
   "outputs": [
    {
     "data": {
      "image/png": "[encoded data removed]",
      "text/plain": [
       "<Figure size 1500x500 with 1 Axes>"
      ]
     },
     "metadata": {},
     "output_type": "display_data"
    }
   ],
   "source": [
    "plt.figure(figsize=(15,5))\n",
    "sns.boxplot(\n",
    "    x=df['Min Installs'], \n",
    "    color=\"deepskyblue\",  \n",
    "    width=0.5,\n",
    "    whiskerprops={'color': 'black', 'linewidth': 0.5},\n",
    "    flierprops={'marker': 'o', 'markerfacecolor': 'blue', 'markeredgecolor': 'blue', 'markersize': 8, 'alpha': 0.5})\n",
    "plt.xscale(\"log\")\n",
    "plt.xlabel('App Installs')\n",
    "plt.title('Distribution of Installed Apps')\n",
    "plt.show()"
   ]
  },
  {
   "cell_type": "markdown",
   "id": "e36f2f5b",
   "metadata": {
    "papermill": {
     "duration": 0.031156,
     "end_time": "2025-03-08T15:01:37.938320",
     "exception": false,
     "start_time": "2025-03-08T15:01:37.907164",
     "status": "completed"
    },
    "tags": []
   },
   "source": [
    "**Q7. How does the number of reviews vary by category?**\n",
    "> * we should first seperate Category values and drop 'UnKnown'\n",
    "> * I'll visualize it by Bar plot so We should modify 'estimator' "
   ]
  },
  {
   "cell_type": "code",
   "execution_count": 82,
   "id": "6fa4f39a",
   "metadata": {
    "execution": {
     "iopub.execute_input": "2025-03-08T15:01:37.999554Z",
     "iopub.status.busy": "2025-03-08T15:01:37.999290Z",
     "iopub.status.idle": "2025-03-08T15:01:38.355305Z",
     "shell.execute_reply": "2025-03-08T15:01:38.354308Z"
    },
    "papermill": {
     "duration": 0.388344,
     "end_time": "2025-03-08T15:01:38.356504",
     "exception": false,
     "start_time": "2025-03-08T15:01:37.968160",
     "status": "completed"
    },
    "tags": []
   },
   "outputs": [
    {
     "name": "stderr",
     "output_type": "stream",
     "text": [
      "/tmp/ipykernel_5591/1317751025.py:4: FutureWarning: \n",
      "\n",
      "The `ci` parameter is deprecated. Use `errorbar=None` for the same effect.\n",
      "\n",
      "  sns.barplot(x=df_exploded['Category'], y='Reviews', data=df,estimator=sum,ci=None)\n"
     ]
    },
    {
     "data": {
      "image/png": "[encoded data removed]",
      "text/plain": [
       "<Figure size 1500x500 with 1 Axes>"
      ]
     },
     "metadata": {},
     "output_type": "display_data"
    }
   ],
   "source": [
    "df_exploded = df.assign(Category=df['Category'].str.split('_AND_')).explode('Category', ignore_index=True)\n",
    "df_exploded=df_exploded[df_exploded['Category']!='UnKnown']\n",
    "plt.figure(figsize=(15, 5))\n",
    "sns.barplot(x=df_exploded['Category'], y='Reviews', data=df,estimator=sum,ci=None)\n",
    "plt.xticks(rotation=90)\n",
    "plt.yscale('log')\n",
    "plt.title(\"Number of Reviews by Category\")\n",
    "plt.show()"
   ]
  },
  {
   "cell_type": "markdown",
   "id": "29d03c58",
   "metadata": {
    "papermill": {
     "duration": 0.097606,
     "end_time": "2025-03-08T15:01:38.486444",
     "exception": false,
     "start_time": "2025-03-08T15:01:38.388838",
     "status": "completed"
    },
    "tags": []
   },
   "source": [
    "**Q8. What is the trend of apps Released over time?**\n",
    "> * I'll first seperate year from 'Released' column\n",
    "> * the best visualization to years by Line plot\n",
    "> * combine data by year to get sum of apps count in it"
   ]
  },
  {
   "cell_type": "code",
   "execution_count": 83,
   "id": "7cb64cf7",
   "metadata": {
    "execution": {
     "iopub.execute_input": "2025-03-08T15:01:38.553754Z",
     "iopub.status.busy": "2025-03-08T15:01:38.553412Z",
     "iopub.status.idle": "2025-03-08T15:01:38.734111Z",
     "shell.execute_reply": "2025-03-08T15:01:38.733181Z"
    },
    "papermill": {
     "duration": 0.2174,
     "end_time": "2025-03-08T15:01:38.735709",
     "exception": false,
     "start_time": "2025-03-08T15:01:38.518309",
     "status": "completed"
    },
    "tags": []
   },
   "outputs": [
    {
     "data": {
      "image/png": "[encoded data removed]",
      "text/plain": [
       "<Figure size 1200x600 with 1 Axes>"
      ]
     },
     "metadata": {},
     "output_type": "display_data"
    }
   ],
   "source": [
    "df['Release Year'] = df['Released'].dt.year\n",
    "apps_per_years = df.groupby('Release Year').size().reset_index(name='App Count')\n",
    "plt.figure(figsize=(12, 6))\n",
    "sns.lineplot(x='Release Year', y='App Count', data=apps_per_years, marker='o')\n",
    "plt.xlabel(\"Years\") \n",
    "plt.ylabel(\"Number of Apps Released\")\n",
    "plt.title(\"Trend of Apps Released Over Time\")\n",
    "plt.show()"
   ]
  },
  {
   "cell_type": "markdown",
   "id": "17749568",
   "metadata": {
    "papermill": {
     "duration": 0.03293,
     "end_time": "2025-03-08T15:01:38.802252",
     "exception": false,
     "start_time": "2025-03-08T15:01:38.769322",
     "status": "completed"
    },
    "tags": []
   },
   "source": [
    "**Q9. Which genres are most popular?**\n",
    "> * We should first seperate values in Genres and drop 'UnKnown'\n",
    "> *  Combine data in new data frame and sort it by Installs values descending\n",
    "> *  Visualize Top 10 values with Bar plot"
   ]
  },
  {
   "cell_type": "code",
   "execution_count": 84,
   "id": "57d908e0",
   "metadata": {
    "execution": {
     "iopub.execute_input": "2025-03-08T15:01:38.869761Z",
     "iopub.status.busy": "2025-03-08T15:01:38.869378Z",
     "iopub.status.idle": "2025-03-08T15:01:39.071135Z",
     "shell.execute_reply": "2025-03-08T15:01:39.069548Z"
    },
    "papermill": {
     "duration": 0.237671,
     "end_time": "2025-03-08T15:01:39.072955",
     "exception": false,
     "start_time": "2025-03-08T15:01:38.835284",
     "status": "completed"
    },
    "tags": []
   },
   "outputs": [
    {
     "data": {
      "image/png": "[encoded data removed]",
      "text/plain": [
       "<Figure size 1500x500 with 1 Axes>"
      ]
     },
     "metadata": {},
     "output_type": "display_data"
    }
   ],
   "source": [
    "df_exploded = df.assign(Category=df['Genres'].str.split(' & ')).explode('Genres', ignore_index=True)\n",
    "df_exploded=df_exploded[df_exploded['Genres']!='UnKnown']\n",
    "genre_popularity = df_exploded.groupby('Genres')['Min Installs'].sum().reset_index()\n",
    "genre_popularity = genre_popularity.sort_values(by='Min Installs', ascending=False).head(10)\n",
    "plt.figure(figsize=(15, 5))\n",
    "sns.barplot(x='Genres', y='Min Installs',data=genre_popularity)\n",
    "plt.xticks(rotation=90)\n",
    "plt.yscale('log')\n",
    "plt.title(\"Most Popular Genres Based on Installs\")\n",
    "plt.show()"
   ]
  },
  {
   "cell_type": "markdown",
   "id": "eb722a77",
   "metadata": {
    "papermill": {
     "duration": 0.034117,
     "end_time": "2025-03-08T15:01:39.140938",
     "exception": false,
     "start_time": "2025-03-08T15:01:39.106821",
     "status": "completed"
    },
    "tags": []
   },
   "source": [
    "**Q10. Is there a correlation between app size and the number of \n",
    "installs?**\n",
    "> * First drop 0.0 values\n",
    "> * The best Correlation Visualization by Scatter plot in Regression Line\n",
    "> * To avoid noise in Visualization We can modify scatter with False"
   ]
  },
  {
   "cell_type": "code",
   "execution_count": 85,
   "id": "a84241bb",
   "metadata": {
    "execution": {
     "iopub.execute_input": "2025-03-08T15:01:39.212994Z",
     "iopub.status.busy": "2025-03-08T15:01:39.212624Z",
     "iopub.status.idle": "2025-03-08T15:01:39.934665Z",
     "shell.execute_reply": "2025-03-08T15:01:39.933296Z"
    },
    "papermill": {
     "duration": 0.761005,
     "end_time": "2025-03-08T15:01:39.936869",
     "exception": false,
     "start_time": "2025-03-08T15:01:39.175864",
     "status": "completed"
    },
    "tags": []
   },
   "outputs": [
    {
     "data": {
      "image/png": "[encoded data removed]",
      "text/plain": [
       "<Figure size 800x500 with 1 Axes>"
      ]
     },
     "metadata": {},
     "output_type": "display_data"
    }
   ],
   "source": [
    "filtered_df = df[(df['Size in (MB)']!=0.0)]\n",
    "plt.figure(figsize=(8, 5))\n",
    "sns.regplot(x=filtered_df['Size in (MB)'], y=filtered_df['Min Installs'],scatter=False)\n",
    "plt.xlabel(\"App Size (MB)\")\n",
    "plt.ylabel(\"Number of Installs\")\n",
    "plt.yscale('log')\n",
    "plt.title(\"Correlation between App Size and Number of Installs\")\n",
    "plt.show()"
   ]
  }
 ],
 "metadata": {
  "kaggle": {
   "accelerator": "none",
   "dataSources": [
    {
     "datasetId": 6801087,
     "sourceId": 10936708,
     "sourceType": "datasetVersion"
    }
   ],
   "dockerImageVersionId": 30918,
   "isGpuEnabled": false,
   "isInternetEnabled": true,
   "language": "python",
   "sourceType": "notebook"
  },
  "kernelspec": {
   "display_name": "Python 3",
   "language": "python",
   "name": "python3"
  },
  "language_info": {
   "codemirror_mode": {
    "name": "ipython",
    "version": 3
   },
   "file_extension": ".py",
   "mimetype": "text/x-python",
   "name": "python",
   "nbconvert_exporter": "python",
   "pygments_lexer": "ipython3",
   "version": "3.12.1"
  },
  "papermill": {
   "default_parameters": {},
   "duration": 18.063975,
   "end_time": "2025-03-08T15:01:40.794683",
   "environment_variables": {},
   "exception": null,
   "input_path": "__notebook__.ipynb",
   "output_path": "__notebook__.ipynb",
   "parameters": {},
   "start_time": "2025-03-08T15:01:22.730708",
   "version": "2.6.0"
  }
 },
 "nbformat": 4,
 "nbformat_minor": 5
}
